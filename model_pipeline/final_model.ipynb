{
 "cells": [
  {
   "cell_type": "markdown",
   "id": "d4ae8ade",
   "metadata": {},
   "source": [
    "# Libraries"
   ]
  },
  {
   "cell_type": "code",
   "execution_count": 34,
   "id": "a4a6ce1b",
   "metadata": {},
   "outputs": [],
   "source": [
    "# Data manipulation libraries\n",
    "import pandas as pd # Dataframes\n",
    "\n",
    "# Visualization libraries\n",
    "import plotly.graph_objects as go # Interactive visualizations\n",
    "import plotly.express as px # Simplified plotting with Plotly\n",
    "from plotly.subplots import make_subplots # Complex subplot layouts\n",
    "\n",
    "# Statistical libraries\n",
    "from sklearn.model_selection import train_test_split # Split dataset for validation\n",
    "from sklearn.metrics import mean_absolute_percentage_error, mean_absolute_error # Error metrics\n",
    "\n",
    "# Model libraries\n",
    "import pickle\n",
    "from sklearn.linear_model import LinearRegression"
   ]
  },
  {
   "cell_type": "markdown",
   "id": "c8720d45",
   "metadata": {},
   "source": [
    "# Save Model"
   ]
  },
  {
   "cell_type": "code",
   "execution_count": 35,
   "id": "6878e693",
   "metadata": {},
   "outputs": [],
   "source": [
    "def train_model(path: str) -> tuple[LinearRegression, dict[str,float]]:\n",
    "    df = pd.read_csv(path)\\\n",
    "           .drop(columns = ['Order_ID'])\\\n",
    "           .dropna()\n",
    "\n",
    "    target_col = 'Delivery_Time_min'\n",
    "    X = df.drop(columns = target_col)\n",
    "    y = df[target_col]\n",
    "\n",
    "    # Split data\n",
    "    X_train, X_test, y_train, y_test = train_test_split(\n",
    "        X, y, \n",
    "        test_size = 0.3, \n",
    "        random_state = 42\n",
    "    )\n",
    "\n",
    "    model = LinearRegression()\n",
    "    model.fit(X_train,y_train)\n",
    "\n",
    "    y_pred = model.predict(X_test)\n",
    "\n",
    "    error_metrics = {\n",
    "        'MAPE': mean_absolute_percentage_error(y_test,y_pred),\n",
    "        'MAE': mean_absolute_error(y_test,y_pred)\n",
    "    }\n",
    "\n",
    "    return (model, error_metrics)"
   ]
  },
  {
   "cell_type": "code",
   "execution_count": 36,
   "id": "8d01ab07",
   "metadata": {},
   "outputs": [
    {
     "name": "stdout",
     "output_type": "stream",
     "text": [
      "Linear Regression Model error metrics\n",
      "MAPE: 0.09806818588185184\n",
      "MAE: 5.408311746169921\n"
     ]
    }
   ],
   "source": [
    "model, error_metrics = train_model('data/clean_data_2.csv')\n",
    "model_scaled, error_metrics_scaled = train_model('data/clean_data_3.csv')\n",
    "\n",
    "print('Linear Regression Model error metrics')\n",
    "print(f'MAPE: {error_metrics['MAPE']}')\n",
    "print(f'MAE: {error_metrics['MAE']}')"
   ]
  },
  {
   "cell_type": "code",
   "execution_count": 37,
   "id": "68602394",
   "metadata": {},
   "outputs": [
    {
     "name": "stdout",
     "output_type": "stream",
     "text": [
      "Model saved to linear_regression_model.pkl\n"
     ]
    }
   ],
   "source": [
    "filename = 'linear_regression_model.pkl'\n",
    "with open(filename, 'wb') as file:\n",
    "    pickle.dump(model, file)\n",
    "\n",
    "print(f\"Model saved to {filename}\")"
   ]
  },
  {
   "cell_type": "markdown",
   "id": "70acc1e0",
   "metadata": {},
   "source": [
    "# Insights"
   ]
  },
  {
   "cell_type": "code",
   "execution_count": 38,
   "id": "b18efc81",
   "metadata": {},
   "outputs": [
    {
     "data": {
      "text/html": [
       "<div>\n",
       "<style scoped>\n",
       "    .dataframe tbody tr th:only-of-type {\n",
       "        vertical-align: middle;\n",
       "    }\n",
       "\n",
       "    .dataframe tbody tr th {\n",
       "        vertical-align: top;\n",
       "    }\n",
       "\n",
       "    .dataframe thead th {\n",
       "        text-align: right;\n",
       "    }\n",
       "</style>\n",
       "<table border=\"1\" class=\"dataframe\">\n",
       "  <thead>\n",
       "    <tr style=\"text-align: right;\">\n",
       "      <th></th>\n",
       "      <th>lr_coef</th>\n",
       "      <th>lr_scaled_coef</th>\n",
       "    </tr>\n",
       "  </thead>\n",
       "  <tbody>\n",
       "    <tr>\n",
       "      <th>Distance_km</th>\n",
       "      <td>2.971801</td>\n",
       "      <td>29.405975</td>\n",
       "    </tr>\n",
       "    <tr>\n",
       "      <th>Traffic_Level</th>\n",
       "      <td>6.285202</td>\n",
       "      <td>6.285202</td>\n",
       "    </tr>\n",
       "    <tr>\n",
       "      <th>Time_of_Day</th>\n",
       "      <td>0.200792</td>\n",
       "      <td>0.200792</td>\n",
       "    </tr>\n",
       "    <tr>\n",
       "      <th>Preparation_Time_min</th>\n",
       "      <td>0.931797</td>\n",
       "      <td>11.181563</td>\n",
       "    </tr>\n",
       "    <tr>\n",
       "      <th>Courier_Experience_yrs</th>\n",
       "      <td>-0.607066</td>\n",
       "      <td>-3.035332</td>\n",
       "    </tr>\n",
       "    <tr>\n",
       "      <th>Weather_Clear</th>\n",
       "      <td>-4.895940</td>\n",
       "      <td>-4.895940</td>\n",
       "    </tr>\n",
       "    <tr>\n",
       "      <th>Weather_Foggy</th>\n",
       "      <td>3.247332</td>\n",
       "      <td>3.247332</td>\n",
       "    </tr>\n",
       "    <tr>\n",
       "      <th>Weather_Rainy</th>\n",
       "      <td>-0.308344</td>\n",
       "      <td>-0.308344</td>\n",
       "    </tr>\n",
       "    <tr>\n",
       "      <th>Weather_Snowy</th>\n",
       "      <td>4.013738</td>\n",
       "      <td>4.013738</td>\n",
       "    </tr>\n",
       "    <tr>\n",
       "      <th>Weather_Windy</th>\n",
       "      <td>-2.056786</td>\n",
       "      <td>-2.056786</td>\n",
       "    </tr>\n",
       "    <tr>\n",
       "      <th>Vehicle_Type_Bike</th>\n",
       "      <td>-0.121108</td>\n",
       "      <td>-0.121108</td>\n",
       "    </tr>\n",
       "    <tr>\n",
       "      <th>Vehicle_Type_Car</th>\n",
       "      <td>0.965479</td>\n",
       "      <td>0.965479</td>\n",
       "    </tr>\n",
       "    <tr>\n",
       "      <th>Vehicle_Type_Scooter</th>\n",
       "      <td>-0.844371</td>\n",
       "      <td>-0.844371</td>\n",
       "    </tr>\n",
       "  </tbody>\n",
       "</table>\n",
       "</div>"
      ],
      "text/plain": [
       "                         lr_coef  lr_scaled_coef\n",
       "Distance_km             2.971801       29.405975\n",
       "Traffic_Level           6.285202        6.285202\n",
       "Time_of_Day             0.200792        0.200792\n",
       "Preparation_Time_min    0.931797       11.181563\n",
       "Courier_Experience_yrs -0.607066       -3.035332\n",
       "Weather_Clear          -4.895940       -4.895940\n",
       "Weather_Foggy           3.247332        3.247332\n",
       "Weather_Rainy          -0.308344       -0.308344\n",
       "Weather_Snowy           4.013738        4.013738\n",
       "Weather_Windy          -2.056786       -2.056786\n",
       "Vehicle_Type_Bike      -0.121108       -0.121108\n",
       "Vehicle_Type_Car        0.965479        0.965479\n",
       "Vehicle_Type_Scooter   -0.844371       -0.844371"
      ]
     },
     "execution_count": 38,
     "metadata": {},
     "output_type": "execute_result"
    }
   ],
   "source": [
    "df = pd.read_csv(\n",
    "    'data/clean_data_2.csv'\n",
    ").drop(columns='Order_ID')\n",
    "\n",
    "pd.DataFrame([model.coef_,model_scaled.coef_], columns=df.columns[:-1], index=['lr_coef','lr_scaled_coef']).transpose()"
   ]
  },
  {
   "cell_type": "markdown",
   "id": "004f13cf",
   "metadata": {},
   "source": [
    "## Error"
   ]
  },
  {
   "cell_type": "code",
   "execution_count": 39,
   "id": "7d19cc7f",
   "metadata": {},
   "outputs": [
    {
     "data": {
      "text/html": [
       "<div>\n",
       "<style scoped>\n",
       "    .dataframe tbody tr th:only-of-type {\n",
       "        vertical-align: middle;\n",
       "    }\n",
       "\n",
       "    .dataframe tbody tr th {\n",
       "        vertical-align: top;\n",
       "    }\n",
       "\n",
       "    .dataframe thead th {\n",
       "        text-align: right;\n",
       "    }\n",
       "</style>\n",
       "<table border=\"1\" class=\"dataframe\">\n",
       "  <thead>\n",
       "    <tr style=\"text-align: right;\">\n",
       "      <th></th>\n",
       "      <th>Distance_km</th>\n",
       "      <th>Traffic_Level</th>\n",
       "      <th>Time_of_Day</th>\n",
       "      <th>Preparation_Time_min</th>\n",
       "      <th>Courier_Experience_yrs</th>\n",
       "      <th>Weather_Clear</th>\n",
       "      <th>Weather_Foggy</th>\n",
       "      <th>Weather_Rainy</th>\n",
       "      <th>Weather_Snowy</th>\n",
       "      <th>Weather_Windy</th>\n",
       "      <th>Vehicle_Type_Bike</th>\n",
       "      <th>Vehicle_Type_Car</th>\n",
       "      <th>Vehicle_Type_Scooter</th>\n",
       "      <th>Predicted_Delivery_Time_min</th>\n",
       "      <th>Delivery_Time_min</th>\n",
       "      <th>Error</th>\n",
       "    </tr>\n",
       "  </thead>\n",
       "  <tbody>\n",
       "    <tr>\n",
       "      <th>44</th>\n",
       "      <td>2.09</td>\n",
       "      <td>0.0</td>\n",
       "      <td>3.0</td>\n",
       "      <td>23</td>\n",
       "      <td>2.0</td>\n",
       "      <td>0</td>\n",
       "      <td>0</td>\n",
       "      <td>1</td>\n",
       "      <td>0</td>\n",
       "      <td>0</td>\n",
       "      <td>1</td>\n",
       "      <td>0</td>\n",
       "      <td>0</td>\n",
       "      <td>36.973872</td>\n",
       "      <td>36</td>\n",
       "      <td>0.973872</td>\n",
       "    </tr>\n",
       "    <tr>\n",
       "      <th>806</th>\n",
       "      <td>0.59</td>\n",
       "      <td>0.0</td>\n",
       "      <td>1.0</td>\n",
       "      <td>21</td>\n",
       "      <td>0.0</td>\n",
       "      <td>1</td>\n",
       "      <td>0</td>\n",
       "      <td>0</td>\n",
       "      <td>0</td>\n",
       "      <td>0</td>\n",
       "      <td>1</td>\n",
       "      <td>0</td>\n",
       "      <td>0</td>\n",
       "      <td>26.877528</td>\n",
       "      <td>27</td>\n",
       "      <td>0.122472</td>\n",
       "    </tr>\n",
       "    <tr>\n",
       "      <th>720</th>\n",
       "      <td>4.53</td>\n",
       "      <td>1.0</td>\n",
       "      <td>0.0</td>\n",
       "      <td>18</td>\n",
       "      <td>4.0</td>\n",
       "      <td>0</td>\n",
       "      <td>0</td>\n",
       "      <td>0</td>\n",
       "      <td>1</td>\n",
       "      <td>0</td>\n",
       "      <td>0</td>\n",
       "      <td>0</td>\n",
       "      <td>1</td>\n",
       "      <td>47.633595</td>\n",
       "      <td>49</td>\n",
       "      <td>1.366405</td>\n",
       "    </tr>\n",
       "    <tr>\n",
       "      <th>660</th>\n",
       "      <td>18.72</td>\n",
       "      <td>1.0</td>\n",
       "      <td>1.0</td>\n",
       "      <td>17</td>\n",
       "      <td>0.0</td>\n",
       "      <td>0</td>\n",
       "      <td>0</td>\n",
       "      <td>1</td>\n",
       "      <td>0</td>\n",
       "      <td>0</td>\n",
       "      <td>1</td>\n",
       "      <td>0</td>\n",
       "      <td>0</td>\n",
       "      <td>87.901899</td>\n",
       "      <td>89</td>\n",
       "      <td>1.098101</td>\n",
       "    </tr>\n",
       "    <tr>\n",
       "      <th>878</th>\n",
       "      <td>8.50</td>\n",
       "      <td>2.0</td>\n",
       "      <td>2.0</td>\n",
       "      <td>13</td>\n",
       "      <td>3.0</td>\n",
       "      <td>1</td>\n",
       "      <td>0</td>\n",
       "      <td>0</td>\n",
       "      <td>0</td>\n",
       "      <td>0</td>\n",
       "      <td>0</td>\n",
       "      <td>1</td>\n",
       "      <td>0</td>\n",
       "      <td>54.966687</td>\n",
       "      <td>54</td>\n",
       "      <td>0.966687</td>\n",
       "    </tr>\n",
       "  </tbody>\n",
       "</table>\n",
       "</div>"
      ],
      "text/plain": [
       "     Distance_km  Traffic_Level  Time_of_Day  Preparation_Time_min  \\\n",
       "44          2.09            0.0          3.0                    23   \n",
       "806         0.59            0.0          1.0                    21   \n",
       "720         4.53            1.0          0.0                    18   \n",
       "660        18.72            1.0          1.0                    17   \n",
       "878         8.50            2.0          2.0                    13   \n",
       "\n",
       "     Courier_Experience_yrs  Weather_Clear  Weather_Foggy  Weather_Rainy  \\\n",
       "44                      2.0              0              0              1   \n",
       "806                     0.0              1              0              0   \n",
       "720                     4.0              0              0              0   \n",
       "660                     0.0              0              0              1   \n",
       "878                     3.0              1              0              0   \n",
       "\n",
       "     Weather_Snowy  Weather_Windy  Vehicle_Type_Bike  Vehicle_Type_Car  \\\n",
       "44               0              0                  1                 0   \n",
       "806              0              0                  1                 0   \n",
       "720              1              0                  0                 0   \n",
       "660              0              0                  1                 0   \n",
       "878              0              0                  0                 1   \n",
       "\n",
       "     Vehicle_Type_Scooter  Predicted_Delivery_Time_min  Delivery_Time_min  \\\n",
       "44                      0                    36.973872                 36   \n",
       "806                     0                    26.877528                 27   \n",
       "720                     1                    47.633595                 49   \n",
       "660                     0                    87.901899                 89   \n",
       "878                     0                    54.966687                 54   \n",
       "\n",
       "        Error  \n",
       "44   0.973872  \n",
       "806  0.122472  \n",
       "720  1.366405  \n",
       "660  1.098101  \n",
       "878  0.966687  "
      ]
     },
     "execution_count": 39,
     "metadata": {},
     "output_type": "execute_result"
    }
   ],
   "source": [
    "target_col = 'Delivery_Time_min'\n",
    "X = df.drop(columns = target_col)\n",
    "y = df[target_col]\n",
    "\n",
    "# Split data\n",
    "X_train, X_test, y_train, y_test = train_test_split(\n",
    "    X, y, \n",
    "    test_size = 0.3, \n",
    "    random_state = 42\n",
    ")\n",
    "\n",
    "# Add predictions\n",
    "X_test['Predicted_Delivery_Time_min'] = model.predict(X_test)\n",
    "X_test['Delivery_Time_min'] = y_test\n",
    "X_test['Error'] = abs(X_test['Predicted_Delivery_Time_min'] - X_test['Delivery_Time_min'])\n",
    "\n",
    "X_test.head()"
   ]
  },
  {
   "cell_type": "code",
   "execution_count": 40,
   "id": "41b75d86",
   "metadata": {},
   "outputs": [
    {
     "data": {
      "application/vnd.plotly.v1+json": {
       "config": {
        "plotlyServerURL": "https://plot.ly"
       },
       "data": [
        {
         "hovertemplate": "Delivery_Time_min=%{x}<br>Predicted_Delivery_Time_min=%{y}<extra></extra>",
         "legendgroup": "",
         "marker": {
          "color": "rgb(136, 204, 238)",
          "symbol": "circle"
         },
         "mode": "markers",
         "name": "",
         "orientation": "v",
         "showlegend": false,
         "type": "scatter",
         "x": {
          "bdata": "JBsxWTZJRi8+SVcxD2E0NyJIKho+R084Kk4iLRY4b00eKTkIJyA3JBwgZTgwI1gpET8hZiRZPCkwKj9HIEcsJzwsJy9YRSpXQjBPNRobOSsdJGAbKjU2JhhGNiEyJkMQRU1WIDYlKB89Qx8iUCwxVyoqRUEwIyhXHBU2MCwsMx4yIkIwKBkxMy0sHh8pR0FHKjMsN1VTETtPOT0uRBUXI15PKzY7RkhMKjdEHx09Mi1BKykyLhweTV8UPElCbUEbKyE8Tz5BYhY/IzswIzBGQjNGUFVOWjszOS9PLxUtRyItL2k0PzAuEDMqKyBTJjwsIVBeJDAkR1I1MzkySB0+MSUmVjY+JDEucw==",
          "dtype": "i1"
         },
         "xaxis": "x",
         "y": {
          "bdata": "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",
          "dtype": "f8"
         },
         "yaxis": "y"
        }
       ],
       "layout": {
        "legend": {
         "tracegroupgap": 0
        },
        "template": {
         "data": {
          "bar": [
           {
            "error_x": {
             "color": "#f2f5fa"
            },
            "error_y": {
             "color": "#f2f5fa"
            },
            "marker": {
             "line": {
              "color": "rgb(17,17,17)",
              "width": 0.5
             },
             "pattern": {
              "fillmode": "overlay",
              "size": 10,
              "solidity": 0.2
             }
            },
            "type": "bar"
           }
          ],
          "barpolar": [
           {
            "marker": {
             "line": {
              "color": "rgb(17,17,17)",
              "width": 0.5
             },
             "pattern": {
              "fillmode": "overlay",
              "size": 10,
              "solidity": 0.2
             }
            },
            "type": "barpolar"
           }
          ],
          "carpet": [
           {
            "aaxis": {
             "endlinecolor": "#A2B1C6",
             "gridcolor": "#506784",
             "linecolor": "#506784",
             "minorgridcolor": "#506784",
             "startlinecolor": "#A2B1C6"
            },
            "baxis": {
             "endlinecolor": "#A2B1C6",
             "gridcolor": "#506784",
             "linecolor": "#506784",
             "minorgridcolor": "#506784",
             "startlinecolor": "#A2B1C6"
            },
            "type": "carpet"
           }
          ],
          "choropleth": [
           {
            "colorbar": {
             "outlinewidth": 0,
             "ticks": ""
            },
            "type": "choropleth"
           }
          ],
          "contour": [
           {
            "colorbar": {
             "outlinewidth": 0,
             "ticks": ""
            },
            "colorscale": [
             [
              0,
              "#0d0887"
             ],
             [
              0.1111111111111111,
              "#46039f"
             ],
             [
              0.2222222222222222,
              "#7201a8"
             ],
             [
              0.3333333333333333,
              "#9c179e"
             ],
             [
              0.4444444444444444,
              "#bd3786"
             ],
             [
              0.5555555555555556,
              "#d8576b"
             ],
             [
              0.6666666666666666,
              "#ed7953"
             ],
             [
              0.7777777777777778,
              "#fb9f3a"
             ],
             [
              0.8888888888888888,
              "#fdca26"
             ],
             [
              1,
              "#f0f921"
             ]
            ],
            "type": "contour"
           }
          ],
          "contourcarpet": [
           {
            "colorbar": {
             "outlinewidth": 0,
             "ticks": ""
            },
            "type": "contourcarpet"
           }
          ],
          "heatmap": [
           {
            "colorbar": {
             "outlinewidth": 0,
             "ticks": ""
            },
            "colorscale": [
             [
              0,
              "#0d0887"
             ],
             [
              0.1111111111111111,
              "#46039f"
             ],
             [
              0.2222222222222222,
              "#7201a8"
             ],
             [
              0.3333333333333333,
              "#9c179e"
             ],
             [
              0.4444444444444444,
              "#bd3786"
             ],
             [
              0.5555555555555556,
              "#d8576b"
             ],
             [
              0.6666666666666666,
              "#ed7953"
             ],
             [
              0.7777777777777778,
              "#fb9f3a"
             ],
             [
              0.8888888888888888,
              "#fdca26"
             ],
             [
              1,
              "#f0f921"
             ]
            ],
            "type": "heatmap"
           }
          ],
          "histogram": [
           {
            "marker": {
             "pattern": {
              "fillmode": "overlay",
              "size": 10,
              "solidity": 0.2
             }
            },
            "type": "histogram"
           }
          ],
          "histogram2d": [
           {
            "colorbar": {
             "outlinewidth": 0,
             "ticks": ""
            },
            "colorscale": [
             [
              0,
              "#0d0887"
             ],
             [
              0.1111111111111111,
              "#46039f"
             ],
             [
              0.2222222222222222,
              "#7201a8"
             ],
             [
              0.3333333333333333,
              "#9c179e"
             ],
             [
              0.4444444444444444,
              "#bd3786"
             ],
             [
              0.5555555555555556,
              "#d8576b"
             ],
             [
              0.6666666666666666,
              "#ed7953"
             ],
             [
              0.7777777777777778,
              "#fb9f3a"
             ],
             [
              0.8888888888888888,
              "#fdca26"
             ],
             [
              1,
              "#f0f921"
             ]
            ],
            "type": "histogram2d"
           }
          ],
          "histogram2dcontour": [
           {
            "colorbar": {
             "outlinewidth": 0,
             "ticks": ""
            },
            "colorscale": [
             [
              0,
              "#0d0887"
             ],
             [
              0.1111111111111111,
              "#46039f"
             ],
             [
              0.2222222222222222,
              "#7201a8"
             ],
             [
              0.3333333333333333,
              "#9c179e"
             ],
             [
              0.4444444444444444,
              "#bd3786"
             ],
             [
              0.5555555555555556,
              "#d8576b"
             ],
             [
              0.6666666666666666,
              "#ed7953"
             ],
             [
              0.7777777777777778,
              "#fb9f3a"
             ],
             [
              0.8888888888888888,
              "#fdca26"
             ],
             [
              1,
              "#f0f921"
             ]
            ],
            "type": "histogram2dcontour"
           }
          ],
          "mesh3d": [
           {
            "colorbar": {
             "outlinewidth": 0,
             "ticks": ""
            },
            "type": "mesh3d"
           }
          ],
          "parcoords": [
           {
            "line": {
             "colorbar": {
              "outlinewidth": 0,
              "ticks": ""
             }
            },
            "type": "parcoords"
           }
          ],
          "pie": [
           {
            "automargin": true,
            "type": "pie"
           }
          ],
          "scatter": [
           {
            "marker": {
             "line": {
              "color": "#283442"
             }
            },
            "type": "scatter"
           }
          ],
          "scatter3d": [
           {
            "line": {
             "colorbar": {
              "outlinewidth": 0,
              "ticks": ""
             }
            },
            "marker": {
             "colorbar": {
              "outlinewidth": 0,
              "ticks": ""
             }
            },
            "type": "scatter3d"
           }
          ],
          "scattercarpet": [
           {
            "marker": {
             "colorbar": {
              "outlinewidth": 0,
              "ticks": ""
             }
            },
            "type": "scattercarpet"
           }
          ],
          "scattergeo": [
           {
            "marker": {
             "colorbar": {
              "outlinewidth": 0,
              "ticks": ""
             }
            },
            "type": "scattergeo"
           }
          ],
          "scattergl": [
           {
            "marker": {
             "line": {
              "color": "#283442"
             }
            },
            "type": "scattergl"
           }
          ],
          "scattermap": [
           {
            "marker": {
             "colorbar": {
              "outlinewidth": 0,
              "ticks": ""
             }
            },
            "type": "scattermap"
           }
          ],
          "scattermapbox": [
           {
            "marker": {
             "colorbar": {
              "outlinewidth": 0,
              "ticks": ""
             }
            },
            "type": "scattermapbox"
           }
          ],
          "scatterpolar": [
           {
            "marker": {
             "colorbar": {
              "outlinewidth": 0,
              "ticks": ""
             }
            },
            "type": "scatterpolar"
           }
          ],
          "scatterpolargl": [
           {
            "marker": {
             "colorbar": {
              "outlinewidth": 0,
              "ticks": ""
             }
            },
            "type": "scatterpolargl"
           }
          ],
          "scatterternary": [
           {
            "marker": {
             "colorbar": {
              "outlinewidth": 0,
              "ticks": ""
             }
            },
            "type": "scatterternary"
           }
          ],
          "surface": [
           {
            "colorbar": {
             "outlinewidth": 0,
             "ticks": ""
            },
            "colorscale": [
             [
              0,
              "#0d0887"
             ],
             [
              0.1111111111111111,
              "#46039f"
             ],
             [
              0.2222222222222222,
              "#7201a8"
             ],
             [
              0.3333333333333333,
              "#9c179e"
             ],
             [
              0.4444444444444444,
              "#bd3786"
             ],
             [
              0.5555555555555556,
              "#d8576b"
             ],
             [
              0.6666666666666666,
              "#ed7953"
             ],
             [
              0.7777777777777778,
              "#fb9f3a"
             ],
             [
              0.8888888888888888,
              "#fdca26"
             ],
             [
              1,
              "#f0f921"
             ]
            ],
            "type": "surface"
           }
          ],
          "table": [
           {
            "cells": {
             "fill": {
              "color": "#506784"
             },
             "line": {
              "color": "rgb(17,17,17)"
             }
            },
            "header": {
             "fill": {
              "color": "#2a3f5f"
             },
             "line": {
              "color": "rgb(17,17,17)"
             }
            },
            "type": "table"
           }
          ]
         },
         "layout": {
          "annotationdefaults": {
           "arrowcolor": "#f2f5fa",
           "arrowhead": 0,
           "arrowwidth": 1
          },
          "autotypenumbers": "strict",
          "coloraxis": {
           "colorbar": {
            "outlinewidth": 0,
            "ticks": ""
           }
          },
          "colorscale": {
           "diverging": [
            [
             0,
             "#8e0152"
            ],
            [
             0.1,
             "#c51b7d"
            ],
            [
             0.2,
             "#de77ae"
            ],
            [
             0.3,
             "#f1b6da"
            ],
            [
             0.4,
             "#fde0ef"
            ],
            [
             0.5,
             "#f7f7f7"
            ],
            [
             0.6,
             "#e6f5d0"
            ],
            [
             0.7,
             "#b8e186"
            ],
            [
             0.8,
             "#7fbc41"
            ],
            [
             0.9,
             "#4d9221"
            ],
            [
             1,
             "#276419"
            ]
           ],
           "sequential": [
            [
             0,
             "#0d0887"
            ],
            [
             0.1111111111111111,
             "#46039f"
            ],
            [
             0.2222222222222222,
             "#7201a8"
            ],
            [
             0.3333333333333333,
             "#9c179e"
            ],
            [
             0.4444444444444444,
             "#bd3786"
            ],
            [
             0.5555555555555556,
             "#d8576b"
            ],
            [
             0.6666666666666666,
             "#ed7953"
            ],
            [
             0.7777777777777778,
             "#fb9f3a"
            ],
            [
             0.8888888888888888,
             "#fdca26"
            ],
            [
             1,
             "#f0f921"
            ]
           ],
           "sequentialminus": [
            [
             0,
             "#0d0887"
            ],
            [
             0.1111111111111111,
             "#46039f"
            ],
            [
             0.2222222222222222,
             "#7201a8"
            ],
            [
             0.3333333333333333,
             "#9c179e"
            ],
            [
             0.4444444444444444,
             "#bd3786"
            ],
            [
             0.5555555555555556,
             "#d8576b"
            ],
            [
             0.6666666666666666,
             "#ed7953"
            ],
            [
             0.7777777777777778,
             "#fb9f3a"
            ],
            [
             0.8888888888888888,
             "#fdca26"
            ],
            [
             1,
             "#f0f921"
            ]
           ]
          },
          "colorway": [
           "#636efa",
           "#EF553B",
           "#00cc96",
           "#ab63fa",
           "#FFA15A",
           "#19d3f3",
           "#FF6692",
           "#B6E880",
           "#FF97FF",
           "#FECB52"
          ],
          "font": {
           "color": "#f2f5fa"
          },
          "geo": {
           "bgcolor": "rgb(17,17,17)",
           "lakecolor": "rgb(17,17,17)",
           "landcolor": "rgb(17,17,17)",
           "showlakes": true,
           "showland": true,
           "subunitcolor": "#506784"
          },
          "hoverlabel": {
           "align": "left"
          },
          "hovermode": "closest",
          "mapbox": {
           "style": "dark"
          },
          "paper_bgcolor": "rgb(17,17,17)",
          "plot_bgcolor": "rgb(17,17,17)",
          "polar": {
           "angularaxis": {
            "gridcolor": "#506784",
            "linecolor": "#506784",
            "ticks": ""
           },
           "bgcolor": "rgb(17,17,17)",
           "radialaxis": {
            "gridcolor": "#506784",
            "linecolor": "#506784",
            "ticks": ""
           }
          },
          "scene": {
           "xaxis": {
            "backgroundcolor": "rgb(17,17,17)",
            "gridcolor": "#506784",
            "gridwidth": 2,
            "linecolor": "#506784",
            "showbackground": true,
            "ticks": "",
            "zerolinecolor": "#C8D4E3"
           },
           "yaxis": {
            "backgroundcolor": "rgb(17,17,17)",
            "gridcolor": "#506784",
            "gridwidth": 2,
            "linecolor": "#506784",
            "showbackground": true,
            "ticks": "",
            "zerolinecolor": "#C8D4E3"
           },
           "zaxis": {
            "backgroundcolor": "rgb(17,17,17)",
            "gridcolor": "#506784",
            "gridwidth": 2,
            "linecolor": "#506784",
            "showbackground": true,
            "ticks": "",
            "zerolinecolor": "#C8D4E3"
           }
          },
          "shapedefaults": {
           "line": {
            "color": "#f2f5fa"
           }
          },
          "sliderdefaults": {
           "bgcolor": "#C8D4E3",
           "bordercolor": "rgb(17,17,17)",
           "borderwidth": 1,
           "tickwidth": 0
          },
          "ternary": {
           "aaxis": {
            "gridcolor": "#506784",
            "linecolor": "#506784",
            "ticks": ""
           },
           "baxis": {
            "gridcolor": "#506784",
            "linecolor": "#506784",
            "ticks": ""
           },
           "bgcolor": "rgb(17,17,17)",
           "caxis": {
            "gridcolor": "#506784",
            "linecolor": "#506784",
            "ticks": ""
           }
          },
          "title": {
           "x": 0.05
          },
          "updatemenudefaults": {
           "bgcolor": "#506784",
           "borderwidth": 0
          },
          "xaxis": {
           "automargin": true,
           "gridcolor": "#283442",
           "linecolor": "#506784",
           "ticks": "",
           "title": {
            "standoff": 15
           },
           "zerolinecolor": "#283442",
           "zerolinewidth": 2
          },
          "yaxis": {
           "automargin": true,
           "gridcolor": "#283442",
           "linecolor": "#506784",
           "ticks": "",
           "title": {
            "standoff": 15
           },
           "zerolinecolor": "#283442",
           "zerolinewidth": 2
          }
         }
        },
        "title": {
         "text": "True vs Predicted Delivery Time"
        },
        "xaxis": {
         "anchor": "y",
         "domain": [
          0,
          1
         ],
         "title": {
          "text": "Delivery_Time_min"
         }
        },
        "yaxis": {
         "anchor": "x",
         "domain": [
          0,
          1
         ],
         "title": {
          "text": "Predicted_Delivery_Time_min"
         }
        }
       }
      }
     },
     "metadata": {},
     "output_type": "display_data"
    }
   ],
   "source": [
    "fig_error_dist = px.scatter(\n",
    "    data_frame = X_test, \n",
    "    x = 'Delivery_Time_min', \n",
    "    y = 'Predicted_Delivery_Time_min',\n",
    "    title = 'True vs Predicted Delivery Time',\n",
    "    template = 'plotly_dark',\n",
    "    color_discrete_sequence = px.colors.qualitative.Safe,\n",
    ")\n",
    "fig_error_dist.show()"
   ]
  },
  {
   "cell_type": "code",
   "execution_count": 41,
   "id": "3f7de825",
   "metadata": {},
   "outputs": [],
   "source": [
    "numerical_features = ['Distance_km', 'Preparation_Time_min', 'Courier_Experience_yrs']\n",
    "categorical_features = ['Traffic_Level', 'Time_of_Day', 'Weather_Clear', 'Weather_Foggy',\n",
    "                        'Weather_Rainy', 'Weather_Snowy', 'Weather_Windy', 'Vehicle_Type_Bike',\n",
    "                        'Vehicle_Type_Car', 'Vehicle_Type_Scooter']"
   ]
  },
  {
   "cell_type": "code",
   "execution_count": 42,
   "id": "2acc5b67",
   "metadata": {},
   "outputs": [
    {
     "data": {
      "application/vnd.plotly.v1+json": {
       "config": {
        "plotlyServerURL": "https://plot.ly"
       },
       "data": [
        {
         "marker": {
          "color": "rgb(136, 204, 238)"
         },
         "mode": "markers",
         "name": "Distance_km",
         "type": "scatter",
         "x": {
          "bdata": "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",
          "dtype": "f8"
         },
         "xaxis": "x",
         "y": {
          "bdata": "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",
          "dtype": "f8"
         },
         "yaxis": "y"
        },
        {
         "marker": {
          "color": "rgb(204, 102, 119)"
         },
         "mode": "markers",
         "name": "Preparation_Time_min",
         "type": "scatter",
         "x": {
          "bdata": "FxUSEQ0SDBULDgsOBxwJFhwcGxAFCA4KEBwNHAkLGxUUCRIFCg8YDg4XEg4TCRYMBhoJFgsQHRsLGwoREBEbFhkLFgYHEQUdFBMZBgsHHAsLExwKDBQHGA4FEBETCxUJEQUaFxkTChMVDA0XGxELGw0OBQYYBhYdDhASGw4GDAwIDRoQCwYaGxYbBwkODggdGR0VDhsXCQYMCBAOExIQGBgcBwsRCw4dEhEUChMJGxYcEhcWFw4QGRcJDREQGwYLFRgVFQsWEwUKFBYaGAcKHRoUERYdFBwZBQkcBw0FFhULBgYVERYVCg8TFxoQGhEcCRcaDgcREAsYHBMaHBATDhsXGhYNBxsIGA==",
          "dtype": "i1"
         },
         "xaxis": "x2",
         "y": {
          "bdata": "QIp9m/Qp7z8AhtKfS1q/P+B+QGvL3PU/AI92mtKR8T8Ayb4DGe/uP1D2v6wzbzJAwOjYSYqhF0BgKImaGmcTQIBZQ3hDKBFAHFFlw7I8JkBQRTr6qk4hQBAl/PozsRxAgMtSlpI59z+goBBNokQiQBBUOzKPcTFAkFIYv8auCUAATzqIrk7EP+CmLLLNICRAyAKNVLHZEECgFWwbXEwEQPAT38+ugi1AAA8A9tZC9T9w/KBW6OMnQGChqJHNTRtAoKP0QStdE0Bw+b8lCdoYQBA9yJ367wRAgEXE6YG54D+AdDRMNBrnP5AWD83W1g5AYPFxMJzmIkDAdGRLtH4WQEDFjGNJrOg/QGoQty8zFUCwAiJ9vHMVQFgFYRYbvPo/0JUqgwUbJ0AAsq76710SQJSuRs0qlyFAGDvJbg1qIEDgDF1MqujsPwA6AWrdEck/QPq41uM2K0A4R8/pWCwVQJhiglUrLxFAgGYfXlK1+j9AaInwdZkiQIDBLfj73gdAgP8yYC2J+D9gL5fSmwgEQAAwn9aBdrM/MMuElefDJEB4YtFgni0kQKCxUD6J5hpA4Dna/5cWDUDYahYQmfQRQIB6x69Cee0/IKgU/SRm9j9A6hO3uDwSQEB6LETaTyNAAAhyPlkZ9j9gdxdd4f8mQCA3UstH0gpA8PTHzgkfA0CAuT89smzpP6D+q+xYfQBAsIQe6jfHA0Awgq7zYD4MQCAsvhFuhBhAwKMd6U2ECkAA7b5a62DhP0ADGwL2YwdACHiO9pNZGkAAmR37mG7fP0DZU5qJ6xBAJKRcjnv2IEAAso5p9JyyP8hweovBxhpAgFKYNqrT/D8AwHvq02TgP0BWnC9/Hug/oBU57sJSDUBAxosgwPcNQMCBvHBNndU/mHuC8rwHG0CQlE9b3MIrQOCC4CfKLv0/ACEhkmkFCEAAwY8zwozvP8A0OZZkrfo/IFN5HIAX+j9gcQ0TK2kUQGBu5Zz67PM/WKAp1xtFEUDoEWQ/QeszQECRJJk5F+4/ABHB6D576T8g6vxEL+chQEC3rB0pMQZAAMM7dxGq4T9AsXb/PE/vPwDqGKWj8RJAMAi5chIDIUD4kDtkzBkUQCAWRLfgp/4/ADsPtOA84T/gK478ebrpP8D6rOKmVg9AsILdeQM5MkA4sERHEZUcQFC2VMPMugxAEM8pBa0qI0DEipjAOa8gQFBpUOrHpxNAADCqY7a1/j8oYvOZB7ojQDhlya2hRxRApKfsxGCrKEAQZEpDsT4NQMDodU/M9xBA6HoFiPEpDkDw0P9E8BsEQDBVxUkKuS1AIGLFJlfN8j/clODgpHwiQPCZbBmuJgJA4FGhnX8iA0BgXvjSyTsMQDBprt7jNwxAAObhlOcwyT+AvZH8Qh0QQBD259YaQAFAYJBjjvIiFEAA7aMlSLbkP3A93xYaKwpApFCO3dOKI0CANwAXZLfpP8DNBOJSPPw/4H/GUzdzFEAsedqOiH4gQIDnJFZkW/E/gEZ6wiQM/T+AV3ZGpZokQECTae0+cA9AUJHvjT2bAkBAfJ3mUGz+P0DLDfdUXew/MPMqmVgeBEAgUwFEvscZQBChrmldLSJAwGWGh9VJ5j/4jE9veqQwQGCn6DhaxxBAQAU3Q/O1HkBgbvvY6Jb/P+ioWy7ofhNAKAD5RRsaM0DgoBsDBK74PwDMRJy98/E/AALVC+gi2D/sdpR1lRJMQEDu41Hv7hZAFEw6YeNlJEBUKaxLdcIiQAAgW2n4/Ig/d8KHKIcrQ0BADW3ERisMQEDTcJxWcARAMMl8uyqFFUCAvSGyZecYQMAuZChPGAtAAPogV1Qv1D+wdUPIDnYLQOjy5oBXDCRAaHk2liEQFUDA3V7hpC/rPwi+Tpf4nxFAYJD6UN+Q+j9AuR7wRGv3PwD+kjiOAuk/AEB8GVgznD9IZusj/OUeQIAm+tI8htk/4Mhof1yDHkBAc+kBTJIOQCAWPry3fABAAL6ZvafWxD9AIYVGbc0NQGCBWk/vRiJAACwu9WW8MkBAykCuFxf/P4D7CvEkZ+c/wMjGQSGp5j9wtH38N80AQOBpkwI9yPU/gHEeC3bk8z9g63A5mIoiQCAdGg1e1AJAwGtHcSwMG0Aggb+Yt1L5P4jtabUuWTxAoFY+0N6W8D9gnmE4hNP0P3Bg3vaulBJAAMP8xvlu2D/AG6dqa4QPQOB/qD4mpi1AAOTx96kl5D+gV9nVyfQPQAA3QUlLpBJAsGsaLBpEJUDg77LT7XMdQHBIFFAj3BBA4LEctiDAJUAw3PODPk4gQAjWHcbHOhBAoHNxVSBlHkC4NUb412QlQKAf5CDFPCZAEGpHbOs/GUBQWLM88p/+PxACBaY+/CtAYGbpHfZDD0AIR4rpkBgQQFAvKzzDtiBACLrJQk4lGEBFrT1rH0VHQACYdm+nkbg/8ONvycLWH0BQQaS/neQBQGDXPCQ22fI/UNXYeZhpEUBA6uA0+ef/P2DJRh3gwxJA4LP6Pt1g8D9Arx4OL14FQJCQkf+TEy5AgORElwp75T8AKY/D1T4CQDDtUjPOFQtA2P97eZ88JUDABcTLMtIPQHBtmjVRUSNAgPhB2g8k8z8IMA54lcwWQGCaer91/BZAQJtdmxvgAkBgBLM9GtMYQKA49qh6Zfo/wBFg2acy9j8YTy8uilETQEBtQ5rWgR1AwPxUzeKrAEBATfKDqqT2P6AmtteS8wJAANZUd8+FHEBAnfg9ehHzP+AfyJPQmBVAkPEt96x1IUCgTJbBjpUlQLCgsy3hKShAwEI7TnkK/T/gqB/FUcsGQIDjidkF5N0/oOmh5uDOL0A=",
          "dtype": "f8"
         },
         "yaxis": "y2"
        },
        {
         "marker": {
          "color": "rgb(221, 204, 119)"
         },
         "mode": "markers",
         "name": "Courier_Experience_yrs",
         "type": "scatter",
         "x": {
          "bdata": "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",
          "dtype": "f8"
         },
         "xaxis": "x3",
         "y": {
          "bdata": "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",
          "dtype": "f8"
         },
         "yaxis": "y3"
        }
       ],
       "layout": {
        "annotations": [
         {
          "font": {
           "size": 16
          },
          "showarrow": false,
          "text": "Distance_km",
          "x": 0.14444444444444446,
          "xanchor": "center",
          "xref": "paper",
          "y": 1,
          "yanchor": "bottom",
          "yref": "paper"
         },
         {
          "font": {
           "size": 16
          },
          "showarrow": false,
          "text": "Preparation_Time_min",
          "x": 0.5,
          "xanchor": "center",
          "xref": "paper",
          "y": 1,
          "yanchor": "bottom",
          "yref": "paper"
         },
         {
          "font": {
           "size": 16
          },
          "showarrow": false,
          "text": "Courier_Experience_yrs",
          "x": 0.8555555555555556,
          "xanchor": "center",
          "xref": "paper",
          "y": 1,
          "yanchor": "bottom",
          "yref": "paper"
         }
        ],
        "showlegend": false,
        "template": {
         "data": {
          "bar": [
           {
            "error_x": {
             "color": "#f2f5fa"
            },
            "error_y": {
             "color": "#f2f5fa"
            },
            "marker": {
             "line": {
              "color": "rgb(17,17,17)",
              "width": 0.5
             },
             "pattern": {
              "fillmode": "overlay",
              "size": 10,
              "solidity": 0.2
             }
            },
            "type": "bar"
           }
          ],
          "barpolar": [
           {
            "marker": {
             "line": {
              "color": "rgb(17,17,17)",
              "width": 0.5
             },
             "pattern": {
              "fillmode": "overlay",
              "size": 10,
              "solidity": 0.2
             }
            },
            "type": "barpolar"
           }
          ],
          "carpet": [
           {
            "aaxis": {
             "endlinecolor": "#A2B1C6",
             "gridcolor": "#506784",
             "linecolor": "#506784",
             "minorgridcolor": "#506784",
             "startlinecolor": "#A2B1C6"
            },
            "baxis": {
             "endlinecolor": "#A2B1C6",
             "gridcolor": "#506784",
             "linecolor": "#506784",
             "minorgridcolor": "#506784",
             "startlinecolor": "#A2B1C6"
            },
            "type": "carpet"
           }
          ],
          "choropleth": [
           {
            "colorbar": {
             "outlinewidth": 0,
             "ticks": ""
            },
            "type": "choropleth"
           }
          ],
          "contour": [
           {
            "colorbar": {
             "outlinewidth": 0,
             "ticks": ""
            },
            "colorscale": [
             [
              0,
              "#0d0887"
             ],
             [
              0.1111111111111111,
              "#46039f"
             ],
             [
              0.2222222222222222,
              "#7201a8"
             ],
             [
              0.3333333333333333,
              "#9c179e"
             ],
             [
              0.4444444444444444,
              "#bd3786"
             ],
             [
              0.5555555555555556,
              "#d8576b"
             ],
             [
              0.6666666666666666,
              "#ed7953"
             ],
             [
              0.7777777777777778,
              "#fb9f3a"
             ],
             [
              0.8888888888888888,
              "#fdca26"
             ],
             [
              1,
              "#f0f921"
             ]
            ],
            "type": "contour"
           }
          ],
          "contourcarpet": [
           {
            "colorbar": {
             "outlinewidth": 0,
             "ticks": ""
            },
            "type": "contourcarpet"
           }
          ],
          "heatmap": [
           {
            "colorbar": {
             "outlinewidth": 0,
             "ticks": ""
            },
            "colorscale": [
             [
              0,
              "#0d0887"
             ],
             [
              0.1111111111111111,
              "#46039f"
             ],
             [
              0.2222222222222222,
              "#7201a8"
             ],
             [
              0.3333333333333333,
              "#9c179e"
             ],
             [
              0.4444444444444444,
              "#bd3786"
             ],
             [
              0.5555555555555556,
              "#d8576b"
             ],
             [
              0.6666666666666666,
              "#ed7953"
             ],
             [
              0.7777777777777778,
              "#fb9f3a"
             ],
             [
              0.8888888888888888,
              "#fdca26"
             ],
             [
              1,
              "#f0f921"
             ]
            ],
            "type": "heatmap"
           }
          ],
          "histogram": [
           {
            "marker": {
             "pattern": {
              "fillmode": "overlay",
              "size": 10,
              "solidity": 0.2
             }
            },
            "type": "histogram"
           }
          ],
          "histogram2d": [
           {
            "colorbar": {
             "outlinewidth": 0,
             "ticks": ""
            },
            "colorscale": [
             [
              0,
              "#0d0887"
             ],
             [
              0.1111111111111111,
              "#46039f"
             ],
             [
              0.2222222222222222,
              "#7201a8"
             ],
             [
              0.3333333333333333,
              "#9c179e"
             ],
             [
              0.4444444444444444,
              "#bd3786"
             ],
             [
              0.5555555555555556,
              "#d8576b"
             ],
             [
              0.6666666666666666,
              "#ed7953"
             ],
             [
              0.7777777777777778,
              "#fb9f3a"
             ],
             [
              0.8888888888888888,
              "#fdca26"
             ],
             [
              1,
              "#f0f921"
             ]
            ],
            "type": "histogram2d"
           }
          ],
          "histogram2dcontour": [
           {
            "colorbar": {
             "outlinewidth": 0,
             "ticks": ""
            },
            "colorscale": [
             [
              0,
              "#0d0887"
             ],
             [
              0.1111111111111111,
              "#46039f"
             ],
             [
              0.2222222222222222,
              "#7201a8"
             ],
             [
              0.3333333333333333,
              "#9c179e"
             ],
             [
              0.4444444444444444,
              "#bd3786"
             ],
             [
              0.5555555555555556,
              "#d8576b"
             ],
             [
              0.6666666666666666,
              "#ed7953"
             ],
             [
              0.7777777777777778,
              "#fb9f3a"
             ],
             [
              0.8888888888888888,
              "#fdca26"
             ],
             [
              1,
              "#f0f921"
             ]
            ],
            "type": "histogram2dcontour"
           }
          ],
          "mesh3d": [
           {
            "colorbar": {
             "outlinewidth": 0,
             "ticks": ""
            },
            "type": "mesh3d"
           }
          ],
          "parcoords": [
           {
            "line": {
             "colorbar": {
              "outlinewidth": 0,
              "ticks": ""
             }
            },
            "type": "parcoords"
           }
          ],
          "pie": [
           {
            "automargin": true,
            "type": "pie"
           }
          ],
          "scatter": [
           {
            "marker": {
             "line": {
              "color": "#283442"
             }
            },
            "type": "scatter"
           }
          ],
          "scatter3d": [
           {
            "line": {
             "colorbar": {
              "outlinewidth": 0,
              "ticks": ""
             }
            },
            "marker": {
             "colorbar": {
              "outlinewidth": 0,
              "ticks": ""
             }
            },
            "type": "scatter3d"
           }
          ],
          "scattercarpet": [
           {
            "marker": {
             "colorbar": {
              "outlinewidth": 0,
              "ticks": ""
             }
            },
            "type": "scattercarpet"
           }
          ],
          "scattergeo": [
           {
            "marker": {
             "colorbar": {
              "outlinewidth": 0,
              "ticks": ""
             }
            },
            "type": "scattergeo"
           }
          ],
          "scattergl": [
           {
            "marker": {
             "line": {
              "color": "#283442"
             }
            },
            "type": "scattergl"
           }
          ],
          "scattermap": [
           {
            "marker": {
             "colorbar": {
              "outlinewidth": 0,
              "ticks": ""
             }
            },
            "type": "scattermap"
           }
          ],
          "scattermapbox": [
           {
            "marker": {
             "colorbar": {
              "outlinewidth": 0,
              "ticks": ""
             }
            },
            "type": "scattermapbox"
           }
          ],
          "scatterpolar": [
           {
            "marker": {
             "colorbar": {
              "outlinewidth": 0,
              "ticks": ""
             }
            },
            "type": "scatterpolar"
           }
          ],
          "scatterpolargl": [
           {
            "marker": {
             "colorbar": {
              "outlinewidth": 0,
              "ticks": ""
             }
            },
            "type": "scatterpolargl"
           }
          ],
          "scatterternary": [
           {
            "marker": {
             "colorbar": {
              "outlinewidth": 0,
              "ticks": ""
             }
            },
            "type": "scatterternary"
           }
          ],
          "surface": [
           {
            "colorbar": {
             "outlinewidth": 0,
             "ticks": ""
            },
            "colorscale": [
             [
              0,
              "#0d0887"
             ],
             [
              0.1111111111111111,
              "#46039f"
             ],
             [
              0.2222222222222222,
              "#7201a8"
             ],
             [
              0.3333333333333333,
              "#9c179e"
             ],
             [
              0.4444444444444444,
              "#bd3786"
             ],
             [
              0.5555555555555556,
              "#d8576b"
             ],
             [
              0.6666666666666666,
              "#ed7953"
             ],
             [
              0.7777777777777778,
              "#fb9f3a"
             ],
             [
              0.8888888888888888,
              "#fdca26"
             ],
             [
              1,
              "#f0f921"
             ]
            ],
            "type": "surface"
           }
          ],
          "table": [
           {
            "cells": {
             "fill": {
              "color": "#506784"
             },
             "line": {
              "color": "rgb(17,17,17)"
             }
            },
            "header": {
             "fill": {
              "color": "#2a3f5f"
             },
             "line": {
              "color": "rgb(17,17,17)"
             }
            },
            "type": "table"
           }
          ]
         },
         "layout": {
          "annotationdefaults": {
           "arrowcolor": "#f2f5fa",
           "arrowhead": 0,
           "arrowwidth": 1
          },
          "autotypenumbers": "strict",
          "coloraxis": {
           "colorbar": {
            "outlinewidth": 0,
            "ticks": ""
           }
          },
          "colorscale": {
           "diverging": [
            [
             0,
             "#8e0152"
            ],
            [
             0.1,
             "#c51b7d"
            ],
            [
             0.2,
             "#de77ae"
            ],
            [
             0.3,
             "#f1b6da"
            ],
            [
             0.4,
             "#fde0ef"
            ],
            [
             0.5,
             "#f7f7f7"
            ],
            [
             0.6,
             "#e6f5d0"
            ],
            [
             0.7,
             "#b8e186"
            ],
            [
             0.8,
             "#7fbc41"
            ],
            [
             0.9,
             "#4d9221"
            ],
            [
             1,
             "#276419"
            ]
           ],
           "sequential": [
            [
             0,
             "#0d0887"
            ],
            [
             0.1111111111111111,
             "#46039f"
            ],
            [
             0.2222222222222222,
             "#7201a8"
            ],
            [
             0.3333333333333333,
             "#9c179e"
            ],
            [
             0.4444444444444444,
             "#bd3786"
            ],
            [
             0.5555555555555556,
             "#d8576b"
            ],
            [
             0.6666666666666666,
             "#ed7953"
            ],
            [
             0.7777777777777778,
             "#fb9f3a"
            ],
            [
             0.8888888888888888,
             "#fdca26"
            ],
            [
             1,
             "#f0f921"
            ]
           ],
           "sequentialminus": [
            [
             0,
             "#0d0887"
            ],
            [
             0.1111111111111111,
             "#46039f"
            ],
            [
             0.2222222222222222,
             "#7201a8"
            ],
            [
             0.3333333333333333,
             "#9c179e"
            ],
            [
             0.4444444444444444,
             "#bd3786"
            ],
            [
             0.5555555555555556,
             "#d8576b"
            ],
            [
             0.6666666666666666,
             "#ed7953"
            ],
            [
             0.7777777777777778,
             "#fb9f3a"
            ],
            [
             0.8888888888888888,
             "#fdca26"
            ],
            [
             1,
             "#f0f921"
            ]
           ]
          },
          "colorway": [
           "#636efa",
           "#EF553B",
           "#00cc96",
           "#ab63fa",
           "#FFA15A",
           "#19d3f3",
           "#FF6692",
           "#B6E880",
           "#FF97FF",
           "#FECB52"
          ],
          "font": {
           "color": "#f2f5fa"
          },
          "geo": {
           "bgcolor": "rgb(17,17,17)",
           "lakecolor": "rgb(17,17,17)",
           "landcolor": "rgb(17,17,17)",
           "showlakes": true,
           "showland": true,
           "subunitcolor": "#506784"
          },
          "hoverlabel": {
           "align": "left"
          },
          "hovermode": "closest",
          "mapbox": {
           "style": "dark"
          },
          "paper_bgcolor": "rgb(17,17,17)",
          "plot_bgcolor": "rgb(17,17,17)",
          "polar": {
           "angularaxis": {
            "gridcolor": "#506784",
            "linecolor": "#506784",
            "ticks": ""
           },
           "bgcolor": "rgb(17,17,17)",
           "radialaxis": {
            "gridcolor": "#506784",
            "linecolor": "#506784",
            "ticks": ""
           }
          },
          "scene": {
           "xaxis": {
            "backgroundcolor": "rgb(17,17,17)",
            "gridcolor": "#506784",
            "gridwidth": 2,
            "linecolor": "#506784",
            "showbackground": true,
            "ticks": "",
            "zerolinecolor": "#C8D4E3"
           },
           "yaxis": {
            "backgroundcolor": "rgb(17,17,17)",
            "gridcolor": "#506784",
            "gridwidth": 2,
            "linecolor": "#506784",
            "showbackground": true,
            "ticks": "",
            "zerolinecolor": "#C8D4E3"
           },
           "zaxis": {
            "backgroundcolor": "rgb(17,17,17)",
            "gridcolor": "#506784",
            "gridwidth": 2,
            "linecolor": "#506784",
            "showbackground": true,
            "ticks": "",
            "zerolinecolor": "#C8D4E3"
           }
          },
          "shapedefaults": {
           "line": {
            "color": "#f2f5fa"
           }
          },
          "sliderdefaults": {
           "bgcolor": "#C8D4E3",
           "bordercolor": "rgb(17,17,17)",
           "borderwidth": 1,
           "tickwidth": 0
          },
          "ternary": {
           "aaxis": {
            "gridcolor": "#506784",
            "linecolor": "#506784",
            "ticks": ""
           },
           "baxis": {
            "gridcolor": "#506784",
            "linecolor": "#506784",
            "ticks": ""
           },
           "bgcolor": "rgb(17,17,17)",
           "caxis": {
            "gridcolor": "#506784",
            "linecolor": "#506784",
            "ticks": ""
           }
          },
          "title": {
           "x": 0.05
          },
          "updatemenudefaults": {
           "bgcolor": "#506784",
           "borderwidth": 0
          },
          "xaxis": {
           "automargin": true,
           "gridcolor": "#283442",
           "linecolor": "#506784",
           "ticks": "",
           "title": {
            "standoff": 15
           },
           "zerolinecolor": "#283442",
           "zerolinewidth": 2
          },
          "yaxis": {
           "automargin": true,
           "gridcolor": "#283442",
           "linecolor": "#506784",
           "ticks": "",
           "title": {
            "standoff": 15
           },
           "zerolinecolor": "#283442",
           "zerolinewidth": 2
          }
         }
        },
        "title": {
         "text": "Error scatter for Numerical Features"
        },
        "xaxis": {
         "anchor": "y",
         "domain": [
          0,
          0.2888888888888889
         ]
        },
        "xaxis2": {
         "anchor": "y2",
         "domain": [
          0.35555555555555557,
          0.6444444444444445
         ]
        },
        "xaxis3": {
         "anchor": "y3",
         "domain": [
          0.7111111111111111,
          1
         ]
        },
        "yaxis": {
         "anchor": "x",
         "domain": [
          0,
          1
         ]
        },
        "yaxis2": {
         "anchor": "x2",
         "domain": [
          0,
          1
         ]
        },
        "yaxis3": {
         "anchor": "x3",
         "domain": [
          0,
          1
         ]
        }
       }
      }
     },
     "metadata": {},
     "output_type": "display_data"
    }
   ],
   "source": [
    "fig_error_num = make_subplots(\n",
    "    rows = 1, \n",
    "    cols = len(numerical_features),\n",
    "    subplot_titles = numerical_features\n",
    ").update_layout(\n",
    "    title_text = 'Error scatter for Numerical Features',\n",
    "    showlegend = False,\n",
    "    template = 'plotly_dark'\n",
    ")\n",
    "\n",
    "for i in range(len(numerical_features)):\n",
    "    fig_error_num.add_trace(\n",
    "        go.Scatter(\n",
    "            x = X_test[numerical_features[i]],\n",
    "            y = X_test['Error'],\n",
    "            name = numerical_features[i],\n",
    "            marker_color = px.colors.qualitative.Safe[i],\n",
    "            mode='markers'\n",
    "        ),\n",
    "        row = 1, \n",
    "        col = i+1,\n",
    "    )\n",
    "\n",
    "fig_error_num.show()"
   ]
  },
  {
   "cell_type": "code",
   "execution_count": 45,
   "id": "3564a67e",
   "metadata": {},
   "outputs": [
    {
     "data": {
      "application/vnd.plotly.v1+json": {
       "config": {
        "plotlyServerURL": "https://plot.ly"
       },
       "data": [
        {
         "marker": {
          "color": "rgb(136, 204, 238)"
         },
         "name": "Traffic_Level",
         "type": "bar",
         "x": [
          "0.0",
          "1.0",
          "2.0"
         ],
         "xaxis": "x",
         "y": {
          "bdata": "5rsebPOcFEBlVymsb6oWQKUVzmGn+xVA",
          "dtype": "f8"
         },
         "yaxis": "y"
        },
        {
         "marker": {
          "color": "rgb(204, 102, 119)"
         },
         "name": "Time_of_Day",
         "type": "bar",
         "x": [
          "0.0",
          "1.0",
          "2.0",
          "3.0"
         ],
         "xaxis": "x2",
         "y": {
          "bdata": "uol2gMaBFUAP/pf8A/sUQGKpc4r9ixNAyMeTSCwaH0A=",
          "dtype": "f8"
         },
         "yaxis": "y2"
        },
        {
         "marker": {
          "color": "rgb(221, 204, 119)"
         },
         "name": "Weather_Clear",
         "type": "bar",
         "x": [
          "0",
          "1"
         ],
         "xaxis": "x3",
         "y": {
          "bdata": "j7ipzdlqGECEpkWkDMkSQA==",
          "dtype": "f8"
         },
         "yaxis": "y3"
        },
        {
         "marker": {
          "color": "rgb(17, 119, 51)"
         },
         "name": "Weather_Foggy",
         "type": "bar",
         "x": [
          "0",
          "1"
         ],
         "xaxis": "x4",
         "y": {
          "bdata": "57+5/5fiFEA8WbMPmRQbQA==",
          "dtype": "f8"
         },
         "yaxis": "y4"
        },
        {
         "marker": {
          "color": "rgb(136, 204, 238)"
         },
         "name": "Weather_Rainy",
         "type": "bar",
         "x": [
          "0",
          "1"
         ],
         "xaxis": "x5",
         "y": {
          "bdata": "RE5NzkygFUBlWoNib6gVQA==",
          "dtype": "f8"
         },
         "yaxis": "y5"
        },
        {
         "marker": {
          "color": "rgb(204, 102, 119)"
         },
         "name": "Weather_Snowy",
         "type": "bar",
         "x": [
          "0",
          "1"
         ],
         "xaxis": "x6",
         "y": {
          "bdata": "nKIJfav7FEBmhY8XiNAcQA==",
          "dtype": "f8"
         },
         "yaxis": "y6"
        },
        {
         "marker": {
          "color": "rgb(221, 204, 119)"
         },
         "name": "Weather_Windy",
         "type": "bar",
         "x": [
          "0",
          "1"
         ],
         "xaxis": "x7",
         "y": {
          "bdata": "LwtIS9x4FUDXPl+2Z4EXQA==",
          "dtype": "f8"
         },
         "yaxis": "y7"
        },
        {
         "marker": {
          "color": "rgb(17, 119, 51)"
         },
         "name": "Vehicle_Type_Bike",
         "type": "bar",
         "x": [
          "0",
          "1"
         ],
         "xaxis": "x8",
         "y": {
          "bdata": "lc6+xnorE0CFvLSKFUUYQA==",
          "dtype": "f8"
         },
         "yaxis": "y8"
        },
        {
         "marker": {
          "color": "rgb(136, 204, 238)"
         },
         "name": "Vehicle_Type_Car",
         "type": "bar",
         "x": [
          "0",
          "1"
         ],
         "xaxis": "x9",
         "y": {
          "bdata": "UfApe9YXFkCVXfEAG9YTQA==",
          "dtype": "f8"
         },
         "yaxis": "y9"
        },
        {
         "marker": {
          "color": "rgb(204, 102, 119)"
         },
         "name": "Vehicle_Type_Scooter",
         "type": "bar",
         "x": [
          "0",
          "1"
         ],
         "xaxis": "x10",
         "y": {
          "bdata": "OIRvDVX0FkBga7BQeLwSQA==",
          "dtype": "f8"
         },
         "yaxis": "y10"
        }
       ],
       "layout": {
        "annotations": [
         {
          "font": {
           "size": 16
          },
          "showarrow": false,
          "text": "Traffic_Level",
          "x": 0.225,
          "xanchor": "center",
          "xref": "paper",
          "y": 1,
          "yanchor": "bottom",
          "yref": "paper"
         },
         {
          "font": {
           "size": 16
          },
          "showarrow": false,
          "text": "Time_of_Day",
          "x": 0.775,
          "xanchor": "center",
          "xref": "paper",
          "y": 1,
          "yanchor": "bottom",
          "yref": "paper"
         },
         {
          "font": {
           "size": 16
          },
          "showarrow": false,
          "text": "Weather_Clear",
          "x": 0.225,
          "xanchor": "center",
          "xref": "paper",
          "y": 0.78,
          "yanchor": "bottom",
          "yref": "paper"
         },
         {
          "font": {
           "size": 16
          },
          "showarrow": false,
          "text": "Weather_Foggy",
          "x": 0.775,
          "xanchor": "center",
          "xref": "paper",
          "y": 0.78,
          "yanchor": "bottom",
          "yref": "paper"
         },
         {
          "font": {
           "size": 16
          },
          "showarrow": false,
          "text": "Weather_Rainy",
          "x": 0.225,
          "xanchor": "center",
          "xref": "paper",
          "y": 0.56,
          "yanchor": "bottom",
          "yref": "paper"
         },
         {
          "font": {
           "size": 16
          },
          "showarrow": false,
          "text": "Weather_Snowy",
          "x": 0.775,
          "xanchor": "center",
          "xref": "paper",
          "y": 0.56,
          "yanchor": "bottom",
          "yref": "paper"
         },
         {
          "font": {
           "size": 16
          },
          "showarrow": false,
          "text": "Weather_Windy",
          "x": 0.225,
          "xanchor": "center",
          "xref": "paper",
          "y": 0.33999999999999997,
          "yanchor": "bottom",
          "yref": "paper"
         },
         {
          "font": {
           "size": 16
          },
          "showarrow": false,
          "text": "Vehicle_Type_Bike",
          "x": 0.775,
          "xanchor": "center",
          "xref": "paper",
          "y": 0.33999999999999997,
          "yanchor": "bottom",
          "yref": "paper"
         },
         {
          "font": {
           "size": 16
          },
          "showarrow": false,
          "text": "Vehicle_Type_Car",
          "x": 0.225,
          "xanchor": "center",
          "xref": "paper",
          "y": 0.12,
          "yanchor": "bottom",
          "yref": "paper"
         },
         {
          "font": {
           "size": 16
          },
          "showarrow": false,
          "text": "Vehicle_Type_Scooter",
          "x": 0.775,
          "xanchor": "center",
          "xref": "paper",
          "y": 0.12,
          "yanchor": "bottom",
          "yref": "paper"
         }
        ],
        "height": 1000,
        "showlegend": false,
        "template": {
         "data": {
          "bar": [
           {
            "error_x": {
             "color": "#f2f5fa"
            },
            "error_y": {
             "color": "#f2f5fa"
            },
            "marker": {
             "line": {
              "color": "rgb(17,17,17)",
              "width": 0.5
             },
             "pattern": {
              "fillmode": "overlay",
              "size": 10,
              "solidity": 0.2
             }
            },
            "type": "bar"
           }
          ],
          "barpolar": [
           {
            "marker": {
             "line": {
              "color": "rgb(17,17,17)",
              "width": 0.5
             },
             "pattern": {
              "fillmode": "overlay",
              "size": 10,
              "solidity": 0.2
             }
            },
            "type": "barpolar"
           }
          ],
          "carpet": [
           {
            "aaxis": {
             "endlinecolor": "#A2B1C6",
             "gridcolor": "#506784",
             "linecolor": "#506784",
             "minorgridcolor": "#506784",
             "startlinecolor": "#A2B1C6"
            },
            "baxis": {
             "endlinecolor": "#A2B1C6",
             "gridcolor": "#506784",
             "linecolor": "#506784",
             "minorgridcolor": "#506784",
             "startlinecolor": "#A2B1C6"
            },
            "type": "carpet"
           }
          ],
          "choropleth": [
           {
            "colorbar": {
             "outlinewidth": 0,
             "ticks": ""
            },
            "type": "choropleth"
           }
          ],
          "contour": [
           {
            "colorbar": {
             "outlinewidth": 0,
             "ticks": ""
            },
            "colorscale": [
             [
              0,
              "#0d0887"
             ],
             [
              0.1111111111111111,
              "#46039f"
             ],
             [
              0.2222222222222222,
              "#7201a8"
             ],
             [
              0.3333333333333333,
              "#9c179e"
             ],
             [
              0.4444444444444444,
              "#bd3786"
             ],
             [
              0.5555555555555556,
              "#d8576b"
             ],
             [
              0.6666666666666666,
              "#ed7953"
             ],
             [
              0.7777777777777778,
              "#fb9f3a"
             ],
             [
              0.8888888888888888,
              "#fdca26"
             ],
             [
              1,
              "#f0f921"
             ]
            ],
            "type": "contour"
           }
          ],
          "contourcarpet": [
           {
            "colorbar": {
             "outlinewidth": 0,
             "ticks": ""
            },
            "type": "contourcarpet"
           }
          ],
          "heatmap": [
           {
            "colorbar": {
             "outlinewidth": 0,
             "ticks": ""
            },
            "colorscale": [
             [
              0,
              "#0d0887"
             ],
             [
              0.1111111111111111,
              "#46039f"
             ],
             [
              0.2222222222222222,
              "#7201a8"
             ],
             [
              0.3333333333333333,
              "#9c179e"
             ],
             [
              0.4444444444444444,
              "#bd3786"
             ],
             [
              0.5555555555555556,
              "#d8576b"
             ],
             [
              0.6666666666666666,
              "#ed7953"
             ],
             [
              0.7777777777777778,
              "#fb9f3a"
             ],
             [
              0.8888888888888888,
              "#fdca26"
             ],
             [
              1,
              "#f0f921"
             ]
            ],
            "type": "heatmap"
           }
          ],
          "histogram": [
           {
            "marker": {
             "pattern": {
              "fillmode": "overlay",
              "size": 10,
              "solidity": 0.2
             }
            },
            "type": "histogram"
           }
          ],
          "histogram2d": [
           {
            "colorbar": {
             "outlinewidth": 0,
             "ticks": ""
            },
            "colorscale": [
             [
              0,
              "#0d0887"
             ],
             [
              0.1111111111111111,
              "#46039f"
             ],
             [
              0.2222222222222222,
              "#7201a8"
             ],
             [
              0.3333333333333333,
              "#9c179e"
             ],
             [
              0.4444444444444444,
              "#bd3786"
             ],
             [
              0.5555555555555556,
              "#d8576b"
             ],
             [
              0.6666666666666666,
              "#ed7953"
             ],
             [
              0.7777777777777778,
              "#fb9f3a"
             ],
             [
              0.8888888888888888,
              "#fdca26"
             ],
             [
              1,
              "#f0f921"
             ]
            ],
            "type": "histogram2d"
           }
          ],
          "histogram2dcontour": [
           {
            "colorbar": {
             "outlinewidth": 0,
             "ticks": ""
            },
            "colorscale": [
             [
              0,
              "#0d0887"
             ],
             [
              0.1111111111111111,
              "#46039f"
             ],
             [
              0.2222222222222222,
              "#7201a8"
             ],
             [
              0.3333333333333333,
              "#9c179e"
             ],
             [
              0.4444444444444444,
              "#bd3786"
             ],
             [
              0.5555555555555556,
              "#d8576b"
             ],
             [
              0.6666666666666666,
              "#ed7953"
             ],
             [
              0.7777777777777778,
              "#fb9f3a"
             ],
             [
              0.8888888888888888,
              "#fdca26"
             ],
             [
              1,
              "#f0f921"
             ]
            ],
            "type": "histogram2dcontour"
           }
          ],
          "mesh3d": [
           {
            "colorbar": {
             "outlinewidth": 0,
             "ticks": ""
            },
            "type": "mesh3d"
           }
          ],
          "parcoords": [
           {
            "line": {
             "colorbar": {
              "outlinewidth": 0,
              "ticks": ""
             }
            },
            "type": "parcoords"
           }
          ],
          "pie": [
           {
            "automargin": true,
            "type": "pie"
           }
          ],
          "scatter": [
           {
            "marker": {
             "line": {
              "color": "#283442"
             }
            },
            "type": "scatter"
           }
          ],
          "scatter3d": [
           {
            "line": {
             "colorbar": {
              "outlinewidth": 0,
              "ticks": ""
             }
            },
            "marker": {
             "colorbar": {
              "outlinewidth": 0,
              "ticks": ""
             }
            },
            "type": "scatter3d"
           }
          ],
          "scattercarpet": [
           {
            "marker": {
             "colorbar": {
              "outlinewidth": 0,
              "ticks": ""
             }
            },
            "type": "scattercarpet"
           }
          ],
          "scattergeo": [
           {
            "marker": {
             "colorbar": {
              "outlinewidth": 0,
              "ticks": ""
             }
            },
            "type": "scattergeo"
           }
          ],
          "scattergl": [
           {
            "marker": {
             "line": {
              "color": "#283442"
             }
            },
            "type": "scattergl"
           }
          ],
          "scattermap": [
           {
            "marker": {
             "colorbar": {
              "outlinewidth": 0,
              "ticks": ""
             }
            },
            "type": "scattermap"
           }
          ],
          "scattermapbox": [
           {
            "marker": {
             "colorbar": {
              "outlinewidth": 0,
              "ticks": ""
             }
            },
            "type": "scattermapbox"
           }
          ],
          "scatterpolar": [
           {
            "marker": {
             "colorbar": {
              "outlinewidth": 0,
              "ticks": ""
             }
            },
            "type": "scatterpolar"
           }
          ],
          "scatterpolargl": [
           {
            "marker": {
             "colorbar": {
              "outlinewidth": 0,
              "ticks": ""
             }
            },
            "type": "scatterpolargl"
           }
          ],
          "scatterternary": [
           {
            "marker": {
             "colorbar": {
              "outlinewidth": 0,
              "ticks": ""
             }
            },
            "type": "scatterternary"
           }
          ],
          "surface": [
           {
            "colorbar": {
             "outlinewidth": 0,
             "ticks": ""
            },
            "colorscale": [
             [
              0,
              "#0d0887"
             ],
             [
              0.1111111111111111,
              "#46039f"
             ],
             [
              0.2222222222222222,
              "#7201a8"
             ],
             [
              0.3333333333333333,
              "#9c179e"
             ],
             [
              0.4444444444444444,
              "#bd3786"
             ],
             [
              0.5555555555555556,
              "#d8576b"
             ],
             [
              0.6666666666666666,
              "#ed7953"
             ],
             [
              0.7777777777777778,
              "#fb9f3a"
             ],
             [
              0.8888888888888888,
              "#fdca26"
             ],
             [
              1,
              "#f0f921"
             ]
            ],
            "type": "surface"
           }
          ],
          "table": [
           {
            "cells": {
             "fill": {
              "color": "#506784"
             },
             "line": {
              "color": "rgb(17,17,17)"
             }
            },
            "header": {
             "fill": {
              "color": "#2a3f5f"
             },
             "line": {
              "color": "rgb(17,17,17)"
             }
            },
            "type": "table"
           }
          ]
         },
         "layout": {
          "annotationdefaults": {
           "arrowcolor": "#f2f5fa",
           "arrowhead": 0,
           "arrowwidth": 1
          },
          "autotypenumbers": "strict",
          "coloraxis": {
           "colorbar": {
            "outlinewidth": 0,
            "ticks": ""
           }
          },
          "colorscale": {
           "diverging": [
            [
             0,
             "#8e0152"
            ],
            [
             0.1,
             "#c51b7d"
            ],
            [
             0.2,
             "#de77ae"
            ],
            [
             0.3,
             "#f1b6da"
            ],
            [
             0.4,
             "#fde0ef"
            ],
            [
             0.5,
             "#f7f7f7"
            ],
            [
             0.6,
             "#e6f5d0"
            ],
            [
             0.7,
             "#b8e186"
            ],
            [
             0.8,
             "#7fbc41"
            ],
            [
             0.9,
             "#4d9221"
            ],
            [
             1,
             "#276419"
            ]
           ],
           "sequential": [
            [
             0,
             "#0d0887"
            ],
            [
             0.1111111111111111,
             "#46039f"
            ],
            [
             0.2222222222222222,
             "#7201a8"
            ],
            [
             0.3333333333333333,
             "#9c179e"
            ],
            [
             0.4444444444444444,
             "#bd3786"
            ],
            [
             0.5555555555555556,
             "#d8576b"
            ],
            [
             0.6666666666666666,
             "#ed7953"
            ],
            [
             0.7777777777777778,
             "#fb9f3a"
            ],
            [
             0.8888888888888888,
             "#fdca26"
            ],
            [
             1,
             "#f0f921"
            ]
           ],
           "sequentialminus": [
            [
             0,
             "#0d0887"
            ],
            [
             0.1111111111111111,
             "#46039f"
            ],
            [
             0.2222222222222222,
             "#7201a8"
            ],
            [
             0.3333333333333333,
             "#9c179e"
            ],
            [
             0.4444444444444444,
             "#bd3786"
            ],
            [
             0.5555555555555556,
             "#d8576b"
            ],
            [
             0.6666666666666666,
             "#ed7953"
            ],
            [
             0.7777777777777778,
             "#fb9f3a"
            ],
            [
             0.8888888888888888,
             "#fdca26"
            ],
            [
             1,
             "#f0f921"
            ]
           ]
          },
          "colorway": [
           "#636efa",
           "#EF553B",
           "#00cc96",
           "#ab63fa",
           "#FFA15A",
           "#19d3f3",
           "#FF6692",
           "#B6E880",
           "#FF97FF",
           "#FECB52"
          ],
          "font": {
           "color": "#f2f5fa"
          },
          "geo": {
           "bgcolor": "rgb(17,17,17)",
           "lakecolor": "rgb(17,17,17)",
           "landcolor": "rgb(17,17,17)",
           "showlakes": true,
           "showland": true,
           "subunitcolor": "#506784"
          },
          "hoverlabel": {
           "align": "left"
          },
          "hovermode": "closest",
          "mapbox": {
           "style": "dark"
          },
          "paper_bgcolor": "rgb(17,17,17)",
          "plot_bgcolor": "rgb(17,17,17)",
          "polar": {
           "angularaxis": {
            "gridcolor": "#506784",
            "linecolor": "#506784",
            "ticks": ""
           },
           "bgcolor": "rgb(17,17,17)",
           "radialaxis": {
            "gridcolor": "#506784",
            "linecolor": "#506784",
            "ticks": ""
           }
          },
          "scene": {
           "xaxis": {
            "backgroundcolor": "rgb(17,17,17)",
            "gridcolor": "#506784",
            "gridwidth": 2,
            "linecolor": "#506784",
            "showbackground": true,
            "ticks": "",
            "zerolinecolor": "#C8D4E3"
           },
           "yaxis": {
            "backgroundcolor": "rgb(17,17,17)",
            "gridcolor": "#506784",
            "gridwidth": 2,
            "linecolor": "#506784",
            "showbackground": true,
            "ticks": "",
            "zerolinecolor": "#C8D4E3"
           },
           "zaxis": {
            "backgroundcolor": "rgb(17,17,17)",
            "gridcolor": "#506784",
            "gridwidth": 2,
            "linecolor": "#506784",
            "showbackground": true,
            "ticks": "",
            "zerolinecolor": "#C8D4E3"
           }
          },
          "shapedefaults": {
           "line": {
            "color": "#f2f5fa"
           }
          },
          "sliderdefaults": {
           "bgcolor": "#C8D4E3",
           "bordercolor": "rgb(17,17,17)",
           "borderwidth": 1,
           "tickwidth": 0
          },
          "ternary": {
           "aaxis": {
            "gridcolor": "#506784",
            "linecolor": "#506784",
            "ticks": ""
           },
           "baxis": {
            "gridcolor": "#506784",
            "linecolor": "#506784",
            "ticks": ""
           },
           "bgcolor": "rgb(17,17,17)",
           "caxis": {
            "gridcolor": "#506784",
            "linecolor": "#506784",
            "ticks": ""
           }
          },
          "title": {
           "x": 0.05
          },
          "updatemenudefaults": {
           "bgcolor": "#506784",
           "borderwidth": 0
          },
          "xaxis": {
           "automargin": true,
           "gridcolor": "#283442",
           "linecolor": "#506784",
           "ticks": "",
           "title": {
            "standoff": 15
           },
           "zerolinecolor": "#283442",
           "zerolinewidth": 2
          },
          "yaxis": {
           "automargin": true,
           "gridcolor": "#283442",
           "linecolor": "#506784",
           "ticks": "",
           "title": {
            "standoff": 15
           },
           "zerolinecolor": "#283442",
           "zerolinewidth": 2
          }
         }
        },
        "title": {
         "text": "Distribution of Error per Categorical Feature"
        },
        "width": 1100,
        "xaxis": {
         "anchor": "y",
         "categoryorder": "category ascending",
         "domain": [
          0,
          0.45
         ]
        },
        "xaxis10": {
         "anchor": "y10",
         "domain": [
          0.55,
          1
         ]
        },
        "xaxis2": {
         "anchor": "y2",
         "domain": [
          0.55,
          1
         ]
        },
        "xaxis3": {
         "anchor": "y3",
         "domain": [
          0,
          0.45
         ]
        },
        "xaxis4": {
         "anchor": "y4",
         "domain": [
          0.55,
          1
         ]
        },
        "xaxis5": {
         "anchor": "y5",
         "domain": [
          0,
          0.45
         ]
        },
        "xaxis6": {
         "anchor": "y6",
         "domain": [
          0.55,
          1
         ]
        },
        "xaxis7": {
         "anchor": "y7",
         "domain": [
          0,
          0.45
         ]
        },
        "xaxis8": {
         "anchor": "y8",
         "domain": [
          0.55,
          1
         ]
        },
        "xaxis9": {
         "anchor": "y9",
         "domain": [
          0,
          0.45
         ]
        },
        "yaxis": {
         "anchor": "x",
         "domain": [
          0.88,
          1
         ],
         "range": [
          0,
          5.838605699473787
         ]
        },
        "yaxis10": {
         "anchor": "x10",
         "domain": [
          0,
          0.12
         ]
        },
        "yaxis2": {
         "anchor": "x2",
         "domain": [
          0.88,
          1
         ]
        },
        "yaxis3": {
         "anchor": "x3",
         "domain": [
          0.66,
          0.78
         ]
        },
        "yaxis4": {
         "anchor": "x4",
         "domain": [
          0.66,
          0.78
         ]
        },
        "yaxis5": {
         "anchor": "x5",
         "domain": [
          0.44,
          0.56
         ]
        },
        "yaxis6": {
         "anchor": "x6",
         "domain": [
          0.44,
          0.56
         ]
        },
        "yaxis7": {
         "anchor": "x7",
         "domain": [
          0.22,
          0.33999999999999997
         ]
        },
        "yaxis8": {
         "anchor": "x8",
         "domain": [
          0.22,
          0.33999999999999997
         ]
        },
        "yaxis9": {
         "anchor": "x9",
         "domain": [
          0,
          0.12
         ]
        }
       }
      }
     },
     "metadata": {},
     "output_type": "display_data"
    }
   ],
   "source": [
    "fig_error_categ = make_subplots(\n",
    "    rows = len(categorical_features) // 2,\n",
    "    cols = 2,\n",
    "    subplot_titles = categorical_features\n",
    ").update_layout(\n",
    "    title_text = 'Distribution of Error per Categorical Feature',\n",
    "    showlegend = False,\n",
    "    xaxis={'categoryorder': 'category ascending'},\n",
    "    template = 'plotly_dark',\n",
    "    width = 1100,\n",
    "    height = 200 * len(categorical_features) // 2,\n",
    ")\n",
    "\n",
    "for i in range(len(categorical_features)):\n",
    "\n",
    "    col_name = categorical_features[i]    \n",
    "\n",
    "    pivot = pd.pivot_table(\n",
    "        X_test,\n",
    "        index = col_name,\n",
    "        values = 'Error',\n",
    "        observed = False\n",
    "    ).reset_index()\n",
    "\n",
    "    pivot[col_name] = pivot[col_name].astype(str)\n",
    "    \n",
    "    fig_error_categ.add_trace(\n",
    "        go.Bar(\n",
    "            x = pivot.loc[:,col_name],\n",
    "            y = pivot.loc[:,'Error'],\n",
    "            name = col_name,\n",
    "            marker_color = px.colors.qualitative.Safe[i % 4]\n",
    "        ),\n",
    "        row = (i // 2) + 1,\n",
    "        col = (i % 2) + 1,\n",
    "    ).update_layout(\n",
    "        yaxis_range = [0, pivot['Error'].max() + 0.1]\n",
    "    )\n",
    "fig_error_categ.show()"
   ]
  },
  {
   "cell_type": "markdown",
   "id": "089b4f59",
   "metadata": {},
   "source": [
    "## Export figures"
   ]
  },
  {
   "cell_type": "code",
   "execution_count": null,
   "id": "36e3f75f",
   "metadata": {},
   "outputs": [],
   "source": [
    "fig_error_dist.write_image('figures/error_dist.png', scale = 2)"
   ]
  },
  {
   "cell_type": "code",
   "execution_count": 46,
   "id": "192dbdb4",
   "metadata": {},
   "outputs": [],
   "source": [
    "fig_error_num.write_image('figures/error_dist_by_feature_num.png', scale = 2)\n",
    "fig_error_categ.write_image('figures/error_dist_by_feature_categ.png', scale = 2)"
   ]
  }
 ],
 "metadata": {
  "kernelspec": {
   "display_name": "Python 3",
   "language": "python",
   "name": "python3"
  },
  "language_info": {
   "codemirror_mode": {
    "name": "ipython",
    "version": 3
   },
   "file_extension": ".py",
   "mimetype": "text/x-python",
   "name": "python",
   "nbconvert_exporter": "python",
   "pygments_lexer": "ipython3",
   "version": "3.12.2"
  }
 },
 "nbformat": 4,
 "nbformat_minor": 5
}

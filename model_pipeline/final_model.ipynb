{
 "cells": [
  {
   "cell_type": "markdown",
   "id": "d4ae8ade",
   "metadata": {},
   "source": [
    "# Libraries"
   ]
  },
  {
   "cell_type": "code",
   "execution_count": 141,
   "id": "a4a6ce1b",
   "metadata": {},
   "outputs": [],
   "source": [
    "# Data manipulation libraries\n",
    "import pandas as pd # Dataframes\n",
    "\n",
    "# Statistical libraries\n",
    "from sklearn.model_selection import train_test_split # Split dataset for validation\n",
    "from sklearn.metrics import mean_absolute_percentage_error, mean_absolute_error # Error metrics\n",
    "\n",
    "# Model libraries\n",
    "import pickle\n",
    "from sklearn.linear_model import LinearRegression"
   ]
  },
  {
   "cell_type": "markdown",
   "id": "c8720d45",
   "metadata": {},
   "source": [
    "# Save Model"
   ]
  },
  {
   "cell_type": "code",
   "execution_count": 142,
   "id": "6878e693",
   "metadata": {},
   "outputs": [],
   "source": [
    "def train_model(path: str) -> tuple[LinearRegression, dict[str,float]]:\n",
    "    df = pd.read_csv(path)\\\n",
    "           .drop(columns = ['Order_ID'])\\\n",
    "           .dropna()\n",
    "\n",
    "    target_col = 'Delivery_Time_min'\n",
    "    X = df.drop(columns = target_col)\n",
    "    y = df[target_col]\n",
    "\n",
    "    # Split data\n",
    "    X_train, X_test, y_train, y_test = train_test_split(\n",
    "        X, y, \n",
    "        test_size = 0.3, \n",
    "        random_state = 42\n",
    "    )\n",
    "\n",
    "    model = LinearRegression()\n",
    "    model.fit(X_train,y_train)\n",
    "\n",
    "    y_pred = model.predict(X_test)\n",
    "\n",
    "    error_metrics = {\n",
    "        'MAPE': mean_absolute_percentage_error(y_test,y_pred),\n",
    "        'MAE': mean_absolute_error(y_test,y_pred)\n",
    "    }\n",
    "\n",
    "    return (model, error_metrics)"
   ]
  },
  {
   "cell_type": "code",
   "execution_count": 143,
   "id": "8d01ab07",
   "metadata": {},
   "outputs": [
    {
     "name": "stdout",
     "output_type": "stream",
     "text": [
      "Linear Regression Model error metrics\n",
      "MAPE: 0.09806818588185184\n",
      "MAE: 5.408311746169921\n"
     ]
    }
   ],
   "source": [
    "model, error_metrics = train_model('data/clean_data_2.csv')\n",
    "model_scaled, error_metrics_scaled = train_model('data/clean_data_3.csv')\n",
    "\n",
    "print('Linear Regression Model error metrics')\n",
    "print(f'MAPE: {error_metrics['MAPE']}')\n",
    "print(f'MAE: {error_metrics['MAE']}')"
   ]
  },
  {
   "cell_type": "code",
   "execution_count": 144,
   "id": "68602394",
   "metadata": {},
   "outputs": [
    {
     "name": "stdout",
     "output_type": "stream",
     "text": [
      "Model saved to linear_regression_model.pkl\n"
     ]
    }
   ],
   "source": [
    "filename = 'linear_regression_model.pkl'\n",
    "with open(filename, 'wb') as file:\n",
    "    pickle.dump(model, file)\n",
    "\n",
    "print(f\"Model saved to {filename}\")"
   ]
  }
 ],
 "metadata": {
  "kernelspec": {
   "display_name": "Python 3",
   "language": "python",
   "name": "python3"
  },
  "language_info": {
   "codemirror_mode": {
    "name": "ipython",
    "version": 3
   },
   "file_extension": ".py",
   "mimetype": "text/x-python",
   "name": "python",
   "nbconvert_exporter": "python",
   "pygments_lexer": "ipython3",
   "version": "3.12.2"
  }
 },
 "nbformat": 4,
 "nbformat_minor": 5
}

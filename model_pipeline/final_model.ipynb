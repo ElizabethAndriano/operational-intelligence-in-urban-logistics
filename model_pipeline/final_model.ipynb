{
 "cells": [
  {
   "cell_type": "markdown",
   "id": "d4ae8ade",
   "metadata": {},
   "source": [
    "# Libraries"
   ]
  },
  {
   "cell_type": "code",
   "execution_count": 141,
   "id": "a4a6ce1b",
   "metadata": {},
   "outputs": [],
   "source": [
    "# Data manipulation libraries\n",
    "import pandas as pd # Dataframes\n",
    "\n",
    "# Statistical libraries\n",
    "from sklearn.model_selection import train_test_split # Split dataset for validation\n",
    "from sklearn.metrics import mean_absolute_percentage_error, mean_absolute_error # Error metrics\n",
    "\n",
    "# Model libraries\n",
    "import pickle\n",
    "from sklearn.linear_model import LinearRegression"
   ]
  },
  {
   "cell_type": "markdown",
   "id": "c8720d45",
   "metadata": {},
   "source": [
    "# Save Model"
   ]
  },
  {
   "cell_type": "code",
   "execution_count": 142,
   "id": "6878e693",
   "metadata": {},
   "outputs": [],
   "source": [
    "def train_model(path: str) -> tuple[LinearRegression, dict[str,float]]:\n",
    "    df = pd.read_csv(path)\\\n",
    "           .drop(columns = ['Order_ID'])\\\n",
    "           .dropna()\n",
    "\n",
    "    target_col = 'Delivery_Time_min'\n",
    "    X = df.drop(columns = target_col)\n",
    "    y = df[target_col]\n",
    "\n",
    "    # Split data\n",
    "    X_train, X_test, y_train, y_test = train_test_split(\n",
    "        X, y, \n",
    "        test_size = 0.3, \n",
    "        random_state = 42\n",
    "    )\n",
    "\n",
    "    model = LinearRegression()\n",
    "    model.fit(X_train,y_train)\n",
    "\n",
    "    y_pred = model.predict(X_test)\n",
    "\n",
    "    error_metrics = {\n",
    "        'MAPE': mean_absolute_percentage_error(y_test,y_pred),\n",
    "        'MAE': mean_absolute_error(y_test,y_pred)\n",
    "    }\n",
    "\n",
    "    return (model, error_metrics)"
   ]
  },
  {
   "cell_type": "code",
   "execution_count": 143,
   "id": "8d01ab07",
   "metadata": {},
   "outputs": [
    {
     "name": "stdout",
     "output_type": "stream",
     "text": [
      "Linear Regression Model error metrics\n",
      "MAPE: 0.09806818588185184\n",
      "MAE: 5.408311746169921\n"
     ]
    }
   ],
   "source": [
    "model, error_metrics = train_model('data/clean_data_2.csv')\n",
    "model_scaled, error_metrics_scaled = train_model('data/clean_data_3.csv')\n",
    "\n",
    "print('Linear Regression Model error metrics')\n",
    "print(f'MAPE: {error_metrics['MAPE']}')\n",
    "print(f'MAE: {error_metrics['MAE']}')"
   ]
  },
  {
   "cell_type": "code",
   "execution_count": 144,
   "id": "68602394",
   "metadata": {},
   "outputs": [
    {
     "name": "stdout",
     "output_type": "stream",
     "text": [
      "Model saved to linear_regression_model.pkl\n"
     ]
    }
   ],
   "source": [
    "filename = 'linear_regression_model.pkl'\n",
    "with open(filename, 'wb') as file:\n",
    "    pickle.dump(model, file)\n",
    "\n",
    "print(f\"Model saved to {filename}\")"
   ]
  },
  {
   "cell_type": "markdown",
   "id": "70acc1e0",
   "metadata": {},
   "source": [
    "# Insights"
   ]
  },
  {
   "cell_type": "code",
   "execution_count": 146,
   "id": "b18efc81",
   "metadata": {},
   "outputs": [
    {
     "data": {
      "text/html": [
       "<div>\n",
       "<style scoped>\n",
       "    .dataframe tbody tr th:only-of-type {\n",
       "        vertical-align: middle;\n",
       "    }\n",
       "\n",
       "    .dataframe tbody tr th {\n",
       "        vertical-align: top;\n",
       "    }\n",
       "\n",
       "    .dataframe thead th {\n",
       "        text-align: right;\n",
       "    }\n",
       "</style>\n",
       "<table border=\"1\" class=\"dataframe\">\n",
       "  <thead>\n",
       "    <tr style=\"text-align: right;\">\n",
       "      <th></th>\n",
       "      <th>lr_coef</th>\n",
       "      <th>lr_scaled_coef</th>\n",
       "    </tr>\n",
       "  </thead>\n",
       "  <tbody>\n",
       "    <tr>\n",
       "      <th>Distance_km</th>\n",
       "      <td>2.971801</td>\n",
       "      <td>29.405975</td>\n",
       "    </tr>\n",
       "    <tr>\n",
       "      <th>Traffic_Level</th>\n",
       "      <td>6.285202</td>\n",
       "      <td>6.285202</td>\n",
       "    </tr>\n",
       "    <tr>\n",
       "      <th>Time_of_Day</th>\n",
       "      <td>0.200792</td>\n",
       "      <td>0.200792</td>\n",
       "    </tr>\n",
       "    <tr>\n",
       "      <th>Preparation_Time_min</th>\n",
       "      <td>0.931797</td>\n",
       "      <td>11.181563</td>\n",
       "    </tr>\n",
       "    <tr>\n",
       "      <th>Courier_Experience_yrs</th>\n",
       "      <td>-0.607066</td>\n",
       "      <td>-3.035332</td>\n",
       "    </tr>\n",
       "    <tr>\n",
       "      <th>Weather_Clear</th>\n",
       "      <td>-4.895940</td>\n",
       "      <td>-4.895940</td>\n",
       "    </tr>\n",
       "    <tr>\n",
       "      <th>Weather_Foggy</th>\n",
       "      <td>3.247332</td>\n",
       "      <td>3.247332</td>\n",
       "    </tr>\n",
       "    <tr>\n",
       "      <th>Weather_Rainy</th>\n",
       "      <td>-0.308344</td>\n",
       "      <td>-0.308344</td>\n",
       "    </tr>\n",
       "    <tr>\n",
       "      <th>Weather_Snowy</th>\n",
       "      <td>4.013738</td>\n",
       "      <td>4.013738</td>\n",
       "    </tr>\n",
       "    <tr>\n",
       "      <th>Weather_Windy</th>\n",
       "      <td>-2.056786</td>\n",
       "      <td>-2.056786</td>\n",
       "    </tr>\n",
       "    <tr>\n",
       "      <th>Vehicle_Type_Bike</th>\n",
       "      <td>-0.121108</td>\n",
       "      <td>-0.121108</td>\n",
       "    </tr>\n",
       "    <tr>\n",
       "      <th>Vehicle_Type_Car</th>\n",
       "      <td>0.965479</td>\n",
       "      <td>0.965479</td>\n",
       "    </tr>\n",
       "    <tr>\n",
       "      <th>Vehicle_Type_Scooter</th>\n",
       "      <td>-0.844371</td>\n",
       "      <td>-0.844371</td>\n",
       "    </tr>\n",
       "  </tbody>\n",
       "</table>\n",
       "</div>"
      ],
      "text/plain": [
       "                         lr_coef  lr_scaled_coef\n",
       "Distance_km             2.971801       29.405975\n",
       "Traffic_Level           6.285202        6.285202\n",
       "Time_of_Day             0.200792        0.200792\n",
       "Preparation_Time_min    0.931797       11.181563\n",
       "Courier_Experience_yrs -0.607066       -3.035332\n",
       "Weather_Clear          -4.895940       -4.895940\n",
       "Weather_Foggy           3.247332        3.247332\n",
       "Weather_Rainy          -0.308344       -0.308344\n",
       "Weather_Snowy           4.013738        4.013738\n",
       "Weather_Windy          -2.056786       -2.056786\n",
       "Vehicle_Type_Bike      -0.121108       -0.121108\n",
       "Vehicle_Type_Car        0.965479        0.965479\n",
       "Vehicle_Type_Scooter   -0.844371       -0.844371"
      ]
     },
     "execution_count": 146,
     "metadata": {},
     "output_type": "execute_result"
    }
   ],
   "source": [
    "df = pd.read_csv(\n",
    "    'data/clean_data_2.csv'\n",
    ").drop(columns='Order_ID')\n",
    "\n",
    "pd.DataFrame([model.coef_,model_scaled.coef_], columns=df.columns[:-1], index=['lr_coef','lr_scaled_coef']).transpose()"
   ]
  }
 ],
 "metadata": {
  "kernelspec": {
   "display_name": "Python 3",
   "language": "python",
   "name": "python3"
  },
  "language_info": {
   "codemirror_mode": {
    "name": "ipython",
    "version": 3
   },
   "file_extension": ".py",
   "mimetype": "text/x-python",
   "name": "python",
   "nbconvert_exporter": "python",
   "pygments_lexer": "ipython3",
   "version": "3.12.2"
  }
 },
 "nbformat": 4,
 "nbformat_minor": 5
}

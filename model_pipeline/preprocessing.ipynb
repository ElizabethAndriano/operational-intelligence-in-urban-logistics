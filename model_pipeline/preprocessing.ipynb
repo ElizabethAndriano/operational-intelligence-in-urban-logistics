{
 "cells": [
  {
   "cell_type": "markdown",
   "id": "402858c0",
   "metadata": {},
   "source": [
    "# Libraries"
   ]
  },
  {
   "cell_type": "code",
   "execution_count": 101,
   "id": "39b60e0d",
   "metadata": {},
   "outputs": [],
   "source": [
    "# Data manipulation libraries\n",
    "import pandas as pd # Dataframes\n",
    "import numpy as np # Numerical operations\n",
    "\n",
    "# Statistical libraries\n",
    "from sklearn import preprocessing # Data preprocessing and scaling"
   ]
  },
  {
   "cell_type": "markdown",
   "id": "8c4085a8",
   "metadata": {},
   "source": [
    "# Drop missing values"
   ]
  },
  {
   "cell_type": "code",
   "execution_count": 102,
   "id": "92f31bd3",
   "metadata": {},
   "outputs": [
    {
     "data": {
      "text/html": [
       "<div>\n",
       "<style scoped>\n",
       "    .dataframe tbody tr th:only-of-type {\n",
       "        vertical-align: middle;\n",
       "    }\n",
       "\n",
       "    .dataframe tbody tr th {\n",
       "        vertical-align: top;\n",
       "    }\n",
       "\n",
       "    .dataframe thead th {\n",
       "        text-align: right;\n",
       "    }\n",
       "</style>\n",
       "<table border=\"1\" class=\"dataframe\">\n",
       "  <thead>\n",
       "    <tr style=\"text-align: right;\">\n",
       "      <th></th>\n",
       "      <th>Order_ID</th>\n",
       "      <th>Distance_km</th>\n",
       "      <th>Weather</th>\n",
       "      <th>Traffic_Level</th>\n",
       "      <th>Time_of_Day</th>\n",
       "      <th>Vehicle_Type</th>\n",
       "      <th>Preparation_Time_min</th>\n",
       "      <th>Courier_Experience_yrs</th>\n",
       "      <th>Delivery_Time_min</th>\n",
       "    </tr>\n",
       "  </thead>\n",
       "  <tbody>\n",
       "    <tr>\n",
       "      <th>0</th>\n",
       "      <td>522</td>\n",
       "      <td>7.93</td>\n",
       "      <td>Windy</td>\n",
       "      <td>Low</td>\n",
       "      <td>Afternoon</td>\n",
       "      <td>Scooter</td>\n",
       "      <td>12</td>\n",
       "      <td>1.0</td>\n",
       "      <td>43</td>\n",
       "    </tr>\n",
       "    <tr>\n",
       "      <th>1</th>\n",
       "      <td>738</td>\n",
       "      <td>16.42</td>\n",
       "      <td>Clear</td>\n",
       "      <td>Medium</td>\n",
       "      <td>Evening</td>\n",
       "      <td>Bike</td>\n",
       "      <td>20</td>\n",
       "      <td>2.0</td>\n",
       "      <td>84</td>\n",
       "    </tr>\n",
       "    <tr>\n",
       "      <th>2</th>\n",
       "      <td>741</td>\n",
       "      <td>9.52</td>\n",
       "      <td>Foggy</td>\n",
       "      <td>Low</td>\n",
       "      <td>Night</td>\n",
       "      <td>Scooter</td>\n",
       "      <td>28</td>\n",
       "      <td>1.0</td>\n",
       "      <td>59</td>\n",
       "    </tr>\n",
       "    <tr>\n",
       "      <th>3</th>\n",
       "      <td>661</td>\n",
       "      <td>7.44</td>\n",
       "      <td>Rainy</td>\n",
       "      <td>Medium</td>\n",
       "      <td>Afternoon</td>\n",
       "      <td>Scooter</td>\n",
       "      <td>5</td>\n",
       "      <td>1.0</td>\n",
       "      <td>37</td>\n",
       "    </tr>\n",
       "    <tr>\n",
       "      <th>4</th>\n",
       "      <td>412</td>\n",
       "      <td>19.03</td>\n",
       "      <td>Clear</td>\n",
       "      <td>Low</td>\n",
       "      <td>Morning</td>\n",
       "      <td>Bike</td>\n",
       "      <td>16</td>\n",
       "      <td>5.0</td>\n",
       "      <td>68</td>\n",
       "    </tr>\n",
       "  </tbody>\n",
       "</table>\n",
       "</div>"
      ],
      "text/plain": [
       "  Order_ID  Distance_km Weather Traffic_Level Time_of_Day Vehicle_Type  \\\n",
       "0      522         7.93   Windy           Low   Afternoon      Scooter   \n",
       "1      738        16.42   Clear        Medium     Evening         Bike   \n",
       "2      741         9.52   Foggy           Low       Night      Scooter   \n",
       "3      661         7.44   Rainy        Medium   Afternoon      Scooter   \n",
       "4      412        19.03   Clear           Low     Morning         Bike   \n",
       "\n",
       "   Preparation_Time_min  Courier_Experience_yrs  Delivery_Time_min  \n",
       "0                    12                     1.0                 43  \n",
       "1                    20                     2.0                 84  \n",
       "2                    28                     1.0                 59  \n",
       "3                     5                     1.0                 37  \n",
       "4                    16                     5.0                 68  "
      ]
     },
     "execution_count": 102,
     "metadata": {},
     "output_type": "execute_result"
    }
   ],
   "source": [
    "df = pd.read_csv(\n",
    "    'data/food_delivery_times.csv',\n",
    "    dtype = {'Order_ID': str}\n",
    ").dropna()\n",
    "df.head()"
   ]
  },
  {
   "cell_type": "markdown",
   "id": "ee86c0d5",
   "metadata": {},
   "source": [
    "## Export Dataset without missing values"
   ]
  },
  {
   "cell_type": "code",
   "execution_count": 103,
   "id": "2d6b1958",
   "metadata": {},
   "outputs": [],
   "source": [
    "df.to_csv(\n",
    "    'data/clean_data_1.csv',\n",
    "    index = False\n",
    ")"
   ]
  },
  {
   "cell_type": "markdown",
   "id": "cf3f91f2",
   "metadata": {},
   "source": [
    "# Feature encoding"
   ]
  },
  {
   "cell_type": "code",
   "execution_count": null,
   "id": "8bfe9d9f",
   "metadata": {},
   "outputs": [],
   "source": [
    "target_col = 'Delivery_Time_min'\n",
    "X = df.drop(columns = target_col)\n",
    "y = df[target_col]"
   ]
  },
  {
   "cell_type": "code",
   "execution_count": 105,
   "id": "57bc0901",
   "metadata": {},
   "outputs": [],
   "source": [
    "nominal_features = ['Weather','Vehicle_Type']\n",
    "ordinal_features = ['Traffic_Level','Time_of_Day']"
   ]
  },
  {
   "cell_type": "markdown",
   "id": "e5780a7d",
   "metadata": {},
   "source": [
    "## Ordinal encoding"
   ]
  },
  {
   "cell_type": "code",
   "execution_count": 106,
   "id": "eca20bb4",
   "metadata": {},
   "outputs": [],
   "source": [
    "feature_order = {\n",
    "    'Traffic_Level': [['Low','Medium','High']],\n",
    "    'Time_of_Day': [['Morning','Afternoon','Evening','Night']]\n",
    "}\n",
    "\n",
    "for col in ordinal_features:\n",
    "    ordinal_encoder = preprocessing.OrdinalEncoder(categories = feature_order[col])\n",
    "    X[col] = ordinal_encoder.fit_transform(X.loc[:,[col]])"
   ]
  },
  {
   "cell_type": "markdown",
   "id": "b10eabf9",
   "metadata": {},
   "source": [
    "## Nominal encoding"
   ]
  },
  {
   "cell_type": "code",
   "execution_count": 107,
   "id": "06d90ef1",
   "metadata": {},
   "outputs": [],
   "source": [
    "X = pd.get_dummies(\n",
    "    X,\n",
    "    columns = nominal_features,\n",
    "    dtype = int\n",
    ")"
   ]
  },
  {
   "cell_type": "markdown",
   "id": "3371204d",
   "metadata": {},
   "source": [
    "## Export Dataset with encoded features"
   ]
  },
  {
   "cell_type": "code",
   "execution_count": 108,
   "id": "cd81c67b",
   "metadata": {},
   "outputs": [],
   "source": [
    "pd.concat(\n",
    "    [X,y],\n",
    "    axis = 1\n",
    ").to_csv(\n",
    "    'data/clean_data_2.csv',\n",
    "    index = False\n",
    ")"
   ]
  },
  {
   "cell_type": "markdown",
   "id": "542a0140",
   "metadata": {},
   "source": [
    "# Feature scaling"
   ]
  },
  {
   "cell_type": "markdown",
   "id": "bf3537ff",
   "metadata": {},
   "source": [
    "## Scale only numerical features"
   ]
  },
  {
   "cell_type": "code",
   "execution_count": 109,
   "id": "713954c9",
   "metadata": {},
   "outputs": [],
   "source": [
    "num_cols = ['Distance_km','Preparation_Time_min','Courier_Experience_yrs']\n",
    "\n",
    "# Create a RobustScaler object\n",
    "robust_scaler = preprocessing.RobustScaler()\n",
    "\n",
    "# Fit and transform the data\n",
    "for col in num_cols:\n",
    "    X[col] = robust_scaler.fit_transform(X.loc[:,[col]])"
   ]
  },
  {
   "cell_type": "markdown",
   "id": "212f8a46",
   "metadata": {},
   "source": [
    "### Export Dataset with scaled numerical features"
   ]
  },
  {
   "cell_type": "code",
   "execution_count": 110,
   "id": "a56a8949",
   "metadata": {},
   "outputs": [],
   "source": [
    "pd.concat(\n",
    "    [X,y],\n",
    "    axis = 1\n",
    ").to_csv(\n",
    "    'data/clean_data_3.csv',\n",
    "    index = False\n",
    ")"
   ]
  },
  {
   "cell_type": "markdown",
   "id": "e2b192d3",
   "metadata": {},
   "source": [
    "## Scale all features"
   ]
  },
  {
   "cell_type": "code",
   "execution_count": 111,
   "id": "665c0672",
   "metadata": {},
   "outputs": [],
   "source": [
    "# Fit and transform the data\n",
    "for col in X.columns[1:]:\n",
    "    X[col] = robust_scaler.fit_transform(X.loc[:,[col]])"
   ]
  },
  {
   "cell_type": "markdown",
   "id": "bc7e4b16",
   "metadata": {},
   "source": [
    "### Export Dataset with scaled features"
   ]
  },
  {
   "cell_type": "code",
   "execution_count": 112,
   "id": "3f78664b",
   "metadata": {},
   "outputs": [],
   "source": [
    "pd.concat(\n",
    "    [X,y],\n",
    "    axis = 1\n",
    ").to_csv(\n",
    "    'data/clean_data_4.csv',\n",
    "    index = False\n",
    ")"
   ]
  }
 ],
 "metadata": {
  "kernelspec": {
   "display_name": "Python 3",
   "language": "python",
   "name": "python3"
  },
  "language_info": {
   "codemirror_mode": {
    "name": "ipython",
    "version": 3
   },
   "file_extension": ".py",
   "mimetype": "text/x-python",
   "name": "python",
   "nbconvert_exporter": "python",
   "pygments_lexer": "ipython3",
   "version": "3.12.2"
  }
 },
 "nbformat": 4,
 "nbformat_minor": 5
}

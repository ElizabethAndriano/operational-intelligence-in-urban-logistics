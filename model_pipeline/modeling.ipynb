{
 "cells": [
  {
   "cell_type": "markdown",
   "id": "49414bce",
   "metadata": {},
   "source": [
    "# Libraries"
   ]
  },
  {
   "cell_type": "code",
   "execution_count": null,
   "id": "d135c3ec",
   "metadata": {},
   "outputs": [],
   "source": [
    "# Data manipulation libraries\n",
    "import pandas as pd # Dataframes\n",
    "\n",
    "# Statistical libraries\n",
    "from sklearn.model_selection import train_test_split # Split dataset for validation\n",
    "from sklearn.model_selection import cross_val_score # Cross validation for models\n",
    "\n",
    "# Modeling libraries\n",
    "from sklearn.linear_model import LinearRegression"
   ]
  },
  {
   "cell_type": "markdown",
   "id": "11845ddb",
   "metadata": {},
   "source": [
    "# Data"
   ]
  },
  {
   "cell_type": "code",
   "execution_count": 323,
   "id": "7e5097b9",
   "metadata": {},
   "outputs": [],
   "source": [
    "df = pd.read_csv('data/clean_data_2.csv')\\\n",
    "           .drop(columns = ['Order_ID'])\\\n",
    "           .dropna()\n",
    "\n",
    "target_col = 'Delivery_Time_min'\n",
    "X = df.drop(columns = target_col)\n",
    "y = df[target_col]"
   ]
  },
  {
   "cell_type": "markdown",
   "id": "f46ef94e",
   "metadata": {},
   "source": [
    "# Baseline model"
   ]
  },
  {
   "cell_type": "code",
   "execution_count": 324,
   "id": "73613aa6",
   "metadata": {},
   "outputs": [],
   "source": [
    "def eval_model(model_name:str, X:pd.DataFrame, y:pd.Series, \n",
    "               models:dict, test_size:float = 0.3, random_state:int = 42, \n",
    "               verbose:bool = False) -> tuple[str,float,float,float]:\n",
    "    \n",
    "    # Split data\n",
    "    X_train, X_test, y_train, y_test = train_test_split(\n",
    "        X, y, \n",
    "        test_size = test_size, \n",
    "        random_state = random_state\n",
    "    )  \n",
    "\n",
    "    try:\n",
    "        # Train model      \n",
    "        model = models[model_name]\n",
    "        model.fit(X_train, y_train)\n",
    "\n",
    "        # Evaluate\n",
    "        score_cv = cross_val_score(model, X_train, y_train, cv=5)\n",
    "        score_test = model.score(X_test, y_test)\n",
    "        if verbose:\n",
    "            print(f'{model_name} \\n'\\\n",
    "                f'mean cross-validation score: {score_cv.mean():0.4f} '\\\n",
    "                f'with a standard deviation of {score_cv.std():0.4f}\\n'\\\n",
    "                f'test score: {score_test:0.4f}\\n'\\\n",
    "                '-----')\n",
    "        \n",
    "        return (model_name, score_cv.mean(), score_cv.std(), score_test)\n",
    "    \n",
    "    except:\n",
    "        return (model_name, 0, 0, 0)"
   ]
  },
  {
   "cell_type": "code",
   "execution_count": 325,
   "id": "5c30d08d",
   "metadata": {},
   "outputs": [],
   "source": [
    "models = {'Linear Regression': LinearRegression()}"
   ]
  },
  {
   "cell_type": "code",
   "execution_count": 330,
   "id": "41f9b2b7",
   "metadata": {},
   "outputs": [
    {
     "name": "stdout",
     "output_type": "stream",
     "text": [
      "Linear Regression \n",
      "mean cross-validation score: 0.7517 with a standard deviation of 0.0366\n",
      "test score: 0.8351\n",
      "-----\n"
     ]
    },
    {
     "data": {
      "text/plain": [
       "('Linear Regression',\n",
       " 0.7516632570579345,\n",
       " 0.0365981173095549,\n",
       " 0.8351348286803177)"
      ]
     },
     "execution_count": 330,
     "metadata": {},
     "output_type": "execute_result"
    }
   ],
   "source": [
    "eval_model('Linear Regression', X, y, models, verbose = True)"
   ]
  }
 ],
 "metadata": {
  "kernelspec": {
   "display_name": "Python 3",
   "language": "python",
   "name": "python3"
  },
  "language_info": {
   "codemirror_mode": {
    "name": "ipython",
    "version": 3
   },
   "file_extension": ".py",
   "mimetype": "text/x-python",
   "name": "python",
   "nbconvert_exporter": "python",
   "pygments_lexer": "ipython3",
   "version": "3.12.2"
  }
 },
 "nbformat": 4,
 "nbformat_minor": 5
}

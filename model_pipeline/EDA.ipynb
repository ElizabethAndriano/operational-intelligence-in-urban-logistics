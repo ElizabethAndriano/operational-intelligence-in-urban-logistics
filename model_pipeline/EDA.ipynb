{
 "cells": [
  {
   "cell_type": "markdown",
   "id": "2cde676a",
   "metadata": {},
   "source": [
    "# Libraries"
   ]
  },
  {
   "cell_type": "code",
   "execution_count": 44,
   "id": "45e97a76",
   "metadata": {},
   "outputs": [],
   "source": [
    "# Data manipulation libraries\n",
    "import pandas as pd # Dataframes\n",
    "import numpy as np # Numerical operations\n",
    "\n",
    "# Visualization libraries\n",
    "import plotly.graph_objects as go # Interactive visualizations\n",
    "import plotly.express as px # Simplified plotting with Plotly\n",
    "from plotly.subplots import make_subplots # Complex subplot layouts\n",
    "\n",
    "# Statistical libraries\n",
    "import scipy.stats as stats # Statistical tests and distributions"
   ]
  },
  {
   "cell_type": "markdown",
   "id": "dbbb680a",
   "metadata": {},
   "source": [
    "# Dataset description"
   ]
  },
  {
   "cell_type": "code",
   "execution_count": 27,
   "id": "9264a71e",
   "metadata": {},
   "outputs": [
    {
     "data": {
      "text/html": [
       "<div>\n",
       "<style scoped>\n",
       "    .dataframe tbody tr th:only-of-type {\n",
       "        vertical-align: middle;\n",
       "    }\n",
       "\n",
       "    .dataframe tbody tr th {\n",
       "        vertical-align: top;\n",
       "    }\n",
       "\n",
       "    .dataframe thead th {\n",
       "        text-align: right;\n",
       "    }\n",
       "</style>\n",
       "<table border=\"1\" class=\"dataframe\">\n",
       "  <thead>\n",
       "    <tr style=\"text-align: right;\">\n",
       "      <th></th>\n",
       "      <th>Order_ID</th>\n",
       "      <th>Distance_km</th>\n",
       "      <th>Weather</th>\n",
       "      <th>Traffic_Level</th>\n",
       "      <th>Time_of_Day</th>\n",
       "      <th>Vehicle_Type</th>\n",
       "      <th>Preparation_Time_min</th>\n",
       "      <th>Courier_Experience_yrs</th>\n",
       "      <th>Delivery_Time_min</th>\n",
       "    </tr>\n",
       "  </thead>\n",
       "  <tbody>\n",
       "    <tr>\n",
       "      <th>0</th>\n",
       "      <td>522</td>\n",
       "      <td>7.93</td>\n",
       "      <td>Windy</td>\n",
       "      <td>Low</td>\n",
       "      <td>Afternoon</td>\n",
       "      <td>Scooter</td>\n",
       "      <td>12</td>\n",
       "      <td>1.0</td>\n",
       "      <td>43</td>\n",
       "    </tr>\n",
       "    <tr>\n",
       "      <th>1</th>\n",
       "      <td>738</td>\n",
       "      <td>16.42</td>\n",
       "      <td>Clear</td>\n",
       "      <td>Medium</td>\n",
       "      <td>Evening</td>\n",
       "      <td>Bike</td>\n",
       "      <td>20</td>\n",
       "      <td>2.0</td>\n",
       "      <td>84</td>\n",
       "    </tr>\n",
       "    <tr>\n",
       "      <th>2</th>\n",
       "      <td>741</td>\n",
       "      <td>9.52</td>\n",
       "      <td>Foggy</td>\n",
       "      <td>Low</td>\n",
       "      <td>Night</td>\n",
       "      <td>Scooter</td>\n",
       "      <td>28</td>\n",
       "      <td>1.0</td>\n",
       "      <td>59</td>\n",
       "    </tr>\n",
       "    <tr>\n",
       "      <th>3</th>\n",
       "      <td>661</td>\n",
       "      <td>7.44</td>\n",
       "      <td>Rainy</td>\n",
       "      <td>Medium</td>\n",
       "      <td>Afternoon</td>\n",
       "      <td>Scooter</td>\n",
       "      <td>5</td>\n",
       "      <td>1.0</td>\n",
       "      <td>37</td>\n",
       "    </tr>\n",
       "    <tr>\n",
       "      <th>4</th>\n",
       "      <td>412</td>\n",
       "      <td>19.03</td>\n",
       "      <td>Clear</td>\n",
       "      <td>Low</td>\n",
       "      <td>Morning</td>\n",
       "      <td>Bike</td>\n",
       "      <td>16</td>\n",
       "      <td>5.0</td>\n",
       "      <td>68</td>\n",
       "    </tr>\n",
       "  </tbody>\n",
       "</table>\n",
       "</div>"
      ],
      "text/plain": [
       "  Order_ID  Distance_km Weather Traffic_Level Time_of_Day Vehicle_Type  \\\n",
       "0      522         7.93   Windy           Low   Afternoon      Scooter   \n",
       "1      738        16.42   Clear        Medium     Evening         Bike   \n",
       "2      741         9.52   Foggy           Low       Night      Scooter   \n",
       "3      661         7.44   Rainy        Medium   Afternoon      Scooter   \n",
       "4      412        19.03   Clear           Low     Morning         Bike   \n",
       "\n",
       "   Preparation_Time_min  Courier_Experience_yrs  Delivery_Time_min  \n",
       "0                    12                     1.0                 43  \n",
       "1                    20                     2.0                 84  \n",
       "2                    28                     1.0                 59  \n",
       "3                     5                     1.0                 37  \n",
       "4                    16                     5.0                 68  "
      ]
     },
     "execution_count": 27,
     "metadata": {},
     "output_type": "execute_result"
    }
   ],
   "source": [
    "df = pd.read_csv(\n",
    "    'data/food_delivery_times.csv',\n",
    "\n",
    "    # Order ID treated as string to exclude from numerical analysis. \n",
    "    dtype = {'Order_ID': str}\n",
    ") \n",
    "df.head()"
   ]
  },
  {
   "cell_type": "code",
   "execution_count": 28,
   "id": "a922c645",
   "metadata": {},
   "outputs": [
    {
     "data": {
      "text/plain": [
       "Order_ID                   object\n",
       "Distance_km               float64\n",
       "Weather                    object\n",
       "Traffic_Level              object\n",
       "Time_of_Day                object\n",
       "Vehicle_Type               object\n",
       "Preparation_Time_min        int64\n",
       "Courier_Experience_yrs    float64\n",
       "Delivery_Time_min           int64\n",
       "dtype: object"
      ]
     },
     "execution_count": 28,
     "metadata": {},
     "output_type": "execute_result"
    }
   ],
   "source": [
    "df.dtypes"
   ]
  },
  {
   "cell_type": "code",
   "execution_count": 29,
   "id": "58dc5360",
   "metadata": {},
   "outputs": [
    {
     "data": {
      "text/html": [
       "<div>\n",
       "<style scoped>\n",
       "    .dataframe tbody tr th:only-of-type {\n",
       "        vertical-align: middle;\n",
       "    }\n",
       "\n",
       "    .dataframe tbody tr th {\n",
       "        vertical-align: top;\n",
       "    }\n",
       "\n",
       "    .dataframe thead th {\n",
       "        text-align: right;\n",
       "    }\n",
       "</style>\n",
       "<table border=\"1\" class=\"dataframe\">\n",
       "  <thead>\n",
       "    <tr style=\"text-align: right;\">\n",
       "      <th></th>\n",
       "      <th>Distance_km</th>\n",
       "      <th>Preparation_Time_min</th>\n",
       "      <th>Courier_Experience_yrs</th>\n",
       "      <th>Delivery_Time_min</th>\n",
       "    </tr>\n",
       "  </thead>\n",
       "  <tbody>\n",
       "    <tr>\n",
       "      <th>count</th>\n",
       "      <td>1000.000000</td>\n",
       "      <td>1000.000000</td>\n",
       "      <td>970.000000</td>\n",
       "      <td>1000.000000</td>\n",
       "    </tr>\n",
       "    <tr>\n",
       "      <th>mean</th>\n",
       "      <td>10.059970</td>\n",
       "      <td>16.982000</td>\n",
       "      <td>4.579381</td>\n",
       "      <td>56.732000</td>\n",
       "    </tr>\n",
       "    <tr>\n",
       "      <th>std</th>\n",
       "      <td>5.696656</td>\n",
       "      <td>7.204553</td>\n",
       "      <td>2.914394</td>\n",
       "      <td>22.070915</td>\n",
       "    </tr>\n",
       "    <tr>\n",
       "      <th>min</th>\n",
       "      <td>0.590000</td>\n",
       "      <td>5.000000</td>\n",
       "      <td>0.000000</td>\n",
       "      <td>8.000000</td>\n",
       "    </tr>\n",
       "    <tr>\n",
       "      <th>25%</th>\n",
       "      <td>5.105000</td>\n",
       "      <td>11.000000</td>\n",
       "      <td>2.000000</td>\n",
       "      <td>41.000000</td>\n",
       "    </tr>\n",
       "    <tr>\n",
       "      <th>50%</th>\n",
       "      <td>10.190000</td>\n",
       "      <td>17.000000</td>\n",
       "      <td>5.000000</td>\n",
       "      <td>55.500000</td>\n",
       "    </tr>\n",
       "    <tr>\n",
       "      <th>75%</th>\n",
       "      <td>15.017500</td>\n",
       "      <td>23.000000</td>\n",
       "      <td>7.000000</td>\n",
       "      <td>71.000000</td>\n",
       "    </tr>\n",
       "    <tr>\n",
       "      <th>max</th>\n",
       "      <td>19.990000</td>\n",
       "      <td>29.000000</td>\n",
       "      <td>9.000000</td>\n",
       "      <td>153.000000</td>\n",
       "    </tr>\n",
       "  </tbody>\n",
       "</table>\n",
       "</div>"
      ],
      "text/plain": [
       "       Distance_km  Preparation_Time_min  Courier_Experience_yrs  \\\n",
       "count  1000.000000           1000.000000              970.000000   \n",
       "mean     10.059970             16.982000                4.579381   \n",
       "std       5.696656              7.204553                2.914394   \n",
       "min       0.590000              5.000000                0.000000   \n",
       "25%       5.105000             11.000000                2.000000   \n",
       "50%      10.190000             17.000000                5.000000   \n",
       "75%      15.017500             23.000000                7.000000   \n",
       "max      19.990000             29.000000                9.000000   \n",
       "\n",
       "       Delivery_Time_min  \n",
       "count        1000.000000  \n",
       "mean           56.732000  \n",
       "std            22.070915  \n",
       "min             8.000000  \n",
       "25%            41.000000  \n",
       "50%            55.500000  \n",
       "75%            71.000000  \n",
       "max           153.000000  "
      ]
     },
     "execution_count": 29,
     "metadata": {},
     "output_type": "execute_result"
    }
   ],
   "source": [
    "df.describe()"
   ]
  },
  {
   "cell_type": "markdown",
   "id": "0d7925e5",
   "metadata": {},
   "source": [
    "# Numeric variables"
   ]
  },
  {
   "cell_type": "code",
   "execution_count": 30,
   "id": "5c711809",
   "metadata": {},
   "outputs": [
    {
     "data": {
      "text/html": [
       "<div>\n",
       "<style scoped>\n",
       "    .dataframe tbody tr th:only-of-type {\n",
       "        vertical-align: middle;\n",
       "    }\n",
       "\n",
       "    .dataframe tbody tr th {\n",
       "        vertical-align: top;\n",
       "    }\n",
       "\n",
       "    .dataframe thead th {\n",
       "        text-align: right;\n",
       "    }\n",
       "</style>\n",
       "<table border=\"1\" class=\"dataframe\">\n",
       "  <thead>\n",
       "    <tr style=\"text-align: right;\">\n",
       "      <th></th>\n",
       "      <th>Distance_km</th>\n",
       "      <th>Preparation_Time_min</th>\n",
       "      <th>Courier_Experience_yrs</th>\n",
       "      <th>Delivery_Time_min</th>\n",
       "    </tr>\n",
       "  </thead>\n",
       "  <tbody>\n",
       "    <tr>\n",
       "      <th>0</th>\n",
       "      <td>7.93</td>\n",
       "      <td>12</td>\n",
       "      <td>1.0</td>\n",
       "      <td>43</td>\n",
       "    </tr>\n",
       "    <tr>\n",
       "      <th>1</th>\n",
       "      <td>16.42</td>\n",
       "      <td>20</td>\n",
       "      <td>2.0</td>\n",
       "      <td>84</td>\n",
       "    </tr>\n",
       "    <tr>\n",
       "      <th>2</th>\n",
       "      <td>9.52</td>\n",
       "      <td>28</td>\n",
       "      <td>1.0</td>\n",
       "      <td>59</td>\n",
       "    </tr>\n",
       "    <tr>\n",
       "      <th>3</th>\n",
       "      <td>7.44</td>\n",
       "      <td>5</td>\n",
       "      <td>1.0</td>\n",
       "      <td>37</td>\n",
       "    </tr>\n",
       "    <tr>\n",
       "      <th>4</th>\n",
       "      <td>19.03</td>\n",
       "      <td>16</td>\n",
       "      <td>5.0</td>\n",
       "      <td>68</td>\n",
       "    </tr>\n",
       "  </tbody>\n",
       "</table>\n",
       "</div>"
      ],
      "text/plain": [
       "   Distance_km  Preparation_Time_min  Courier_Experience_yrs  \\\n",
       "0         7.93                    12                     1.0   \n",
       "1        16.42                    20                     2.0   \n",
       "2         9.52                    28                     1.0   \n",
       "3         7.44                     5                     1.0   \n",
       "4        19.03                    16                     5.0   \n",
       "\n",
       "   Delivery_Time_min  \n",
       "0                 43  \n",
       "1                 84  \n",
       "2                 59  \n",
       "3                 37  \n",
       "4                 68  "
      ]
     },
     "execution_count": 30,
     "metadata": {},
     "output_type": "execute_result"
    }
   ],
   "source": [
    "num_df = df.select_dtypes(include = [np.number])\n",
    "num_df.head()"
   ]
  },
  {
   "cell_type": "code",
   "execution_count": 31,
   "id": "7c1afd71",
   "metadata": {},
   "outputs": [
    {
     "data": {
      "application/vnd.plotly.v1+json": {
       "config": {
        "plotlyServerURL": "https://plot.ly"
       },
       "data": [
        {
         "coloraxis": "coloraxis",
         "hovertemplate": "x: %{x}<br>y: %{y}<br>color: %{z}<extra></extra>",
         "name": "0",
         "texttemplate": "%{z:.2f}",
         "type": "heatmap",
         "x": [
          "Distance_km",
          "Preparation_Time_min",
          "Courier_Experience_yrs",
          "Delivery_Time_min"
         ],
         "xaxis": "x",
         "y": [
          "Distance_km",
          "Preparation_Time_min",
          "Courier_Experience_yrs",
          "Delivery_Time_min"
         ],
         "yaxis": "y",
         "z": {
          "bdata": "AAAAAAAA8D+9sk1i0IGCv4HGDBGmD4C/boAPRfD96D+9sk1i0IGCvwAAAAAAAPA/AMMp3t6Rn7+gHHctn6vTP4HGDBGmD4C/AMMp3t6Rn78AAAAAAADwP9VoRLicJre/boAPRfD96D+gHHctn6vTP9VoRLicJre/AAAAAAAA8D8=",
          "dtype": "f8",
          "shape": "4, 4"
         }
        }
       ],
       "layout": {
        "coloraxis": {
         "colorscale": [
          [
           0,
           "rgb(75, 41, 145)"
          ],
          [
           0.16666666666666666,
           "rgb(135, 44, 162)"
          ],
          [
           0.3333333333333333,
           "rgb(192, 54, 157)"
          ],
          [
           0.5,
           "rgb(234, 79, 136)"
          ],
          [
           0.6666666666666666,
           "rgb(250, 120, 118)"
          ],
          [
           0.8333333333333334,
           "rgb(246, 169, 122)"
          ],
          [
           1,
           "rgb(237, 217, 163)"
          ]
         ]
        },
        "height": 500,
        "template": {
         "data": {
          "bar": [
           {
            "error_x": {
             "color": "#f2f5fa"
            },
            "error_y": {
             "color": "#f2f5fa"
            },
            "marker": {
             "line": {
              "color": "rgb(17,17,17)",
              "width": 0.5
             },
             "pattern": {
              "fillmode": "overlay",
              "size": 10,
              "solidity": 0.2
             }
            },
            "type": "bar"
           }
          ],
          "barpolar": [
           {
            "marker": {
             "line": {
              "color": "rgb(17,17,17)",
              "width": 0.5
             },
             "pattern": {
              "fillmode": "overlay",
              "size": 10,
              "solidity": 0.2
             }
            },
            "type": "barpolar"
           }
          ],
          "carpet": [
           {
            "aaxis": {
             "endlinecolor": "#A2B1C6",
             "gridcolor": "#506784",
             "linecolor": "#506784",
             "minorgridcolor": "#506784",
             "startlinecolor": "#A2B1C6"
            },
            "baxis": {
             "endlinecolor": "#A2B1C6",
             "gridcolor": "#506784",
             "linecolor": "#506784",
             "minorgridcolor": "#506784",
             "startlinecolor": "#A2B1C6"
            },
            "type": "carpet"
           }
          ],
          "choropleth": [
           {
            "colorbar": {
             "outlinewidth": 0,
             "ticks": ""
            },
            "type": "choropleth"
           }
          ],
          "contour": [
           {
            "colorbar": {
             "outlinewidth": 0,
             "ticks": ""
            },
            "colorscale": [
             [
              0,
              "#0d0887"
             ],
             [
              0.1111111111111111,
              "#46039f"
             ],
             [
              0.2222222222222222,
              "#7201a8"
             ],
             [
              0.3333333333333333,
              "#9c179e"
             ],
             [
              0.4444444444444444,
              "#bd3786"
             ],
             [
              0.5555555555555556,
              "#d8576b"
             ],
             [
              0.6666666666666666,
              "#ed7953"
             ],
             [
              0.7777777777777778,
              "#fb9f3a"
             ],
             [
              0.8888888888888888,
              "#fdca26"
             ],
             [
              1,
              "#f0f921"
             ]
            ],
            "type": "contour"
           }
          ],
          "contourcarpet": [
           {
            "colorbar": {
             "outlinewidth": 0,
             "ticks": ""
            },
            "type": "contourcarpet"
           }
          ],
          "heatmap": [
           {
            "colorbar": {
             "outlinewidth": 0,
             "ticks": ""
            },
            "colorscale": [
             [
              0,
              "#0d0887"
             ],
             [
              0.1111111111111111,
              "#46039f"
             ],
             [
              0.2222222222222222,
              "#7201a8"
             ],
             [
              0.3333333333333333,
              "#9c179e"
             ],
             [
              0.4444444444444444,
              "#bd3786"
             ],
             [
              0.5555555555555556,
              "#d8576b"
             ],
             [
              0.6666666666666666,
              "#ed7953"
             ],
             [
              0.7777777777777778,
              "#fb9f3a"
             ],
             [
              0.8888888888888888,
              "#fdca26"
             ],
             [
              1,
              "#f0f921"
             ]
            ],
            "type": "heatmap"
           }
          ],
          "histogram": [
           {
            "marker": {
             "pattern": {
              "fillmode": "overlay",
              "size": 10,
              "solidity": 0.2
             }
            },
            "type": "histogram"
           }
          ],
          "histogram2d": [
           {
            "colorbar": {
             "outlinewidth": 0,
             "ticks": ""
            },
            "colorscale": [
             [
              0,
              "#0d0887"
             ],
             [
              0.1111111111111111,
              "#46039f"
             ],
             [
              0.2222222222222222,
              "#7201a8"
             ],
             [
              0.3333333333333333,
              "#9c179e"
             ],
             [
              0.4444444444444444,
              "#bd3786"
             ],
             [
              0.5555555555555556,
              "#d8576b"
             ],
             [
              0.6666666666666666,
              "#ed7953"
             ],
             [
              0.7777777777777778,
              "#fb9f3a"
             ],
             [
              0.8888888888888888,
              "#fdca26"
             ],
             [
              1,
              "#f0f921"
             ]
            ],
            "type": "histogram2d"
           }
          ],
          "histogram2dcontour": [
           {
            "colorbar": {
             "outlinewidth": 0,
             "ticks": ""
            },
            "colorscale": [
             [
              0,
              "#0d0887"
             ],
             [
              0.1111111111111111,
              "#46039f"
             ],
             [
              0.2222222222222222,
              "#7201a8"
             ],
             [
              0.3333333333333333,
              "#9c179e"
             ],
             [
              0.4444444444444444,
              "#bd3786"
             ],
             [
              0.5555555555555556,
              "#d8576b"
             ],
             [
              0.6666666666666666,
              "#ed7953"
             ],
             [
              0.7777777777777778,
              "#fb9f3a"
             ],
             [
              0.8888888888888888,
              "#fdca26"
             ],
             [
              1,
              "#f0f921"
             ]
            ],
            "type": "histogram2dcontour"
           }
          ],
          "mesh3d": [
           {
            "colorbar": {
             "outlinewidth": 0,
             "ticks": ""
            },
            "type": "mesh3d"
           }
          ],
          "parcoords": [
           {
            "line": {
             "colorbar": {
              "outlinewidth": 0,
              "ticks": ""
             }
            },
            "type": "parcoords"
           }
          ],
          "pie": [
           {
            "automargin": true,
            "type": "pie"
           }
          ],
          "scatter": [
           {
            "marker": {
             "line": {
              "color": "#283442"
             }
            },
            "type": "scatter"
           }
          ],
          "scatter3d": [
           {
            "line": {
             "colorbar": {
              "outlinewidth": 0,
              "ticks": ""
             }
            },
            "marker": {
             "colorbar": {
              "outlinewidth": 0,
              "ticks": ""
             }
            },
            "type": "scatter3d"
           }
          ],
          "scattercarpet": [
           {
            "marker": {
             "colorbar": {
              "outlinewidth": 0,
              "ticks": ""
             }
            },
            "type": "scattercarpet"
           }
          ],
          "scattergeo": [
           {
            "marker": {
             "colorbar": {
              "outlinewidth": 0,
              "ticks": ""
             }
            },
            "type": "scattergeo"
           }
          ],
          "scattergl": [
           {
            "marker": {
             "line": {
              "color": "#283442"
             }
            },
            "type": "scattergl"
           }
          ],
          "scattermap": [
           {
            "marker": {
             "colorbar": {
              "outlinewidth": 0,
              "ticks": ""
             }
            },
            "type": "scattermap"
           }
          ],
          "scattermapbox": [
           {
            "marker": {
             "colorbar": {
              "outlinewidth": 0,
              "ticks": ""
             }
            },
            "type": "scattermapbox"
           }
          ],
          "scatterpolar": [
           {
            "marker": {
             "colorbar": {
              "outlinewidth": 0,
              "ticks": ""
             }
            },
            "type": "scatterpolar"
           }
          ],
          "scatterpolargl": [
           {
            "marker": {
             "colorbar": {
              "outlinewidth": 0,
              "ticks": ""
             }
            },
            "type": "scatterpolargl"
           }
          ],
          "scatterternary": [
           {
            "marker": {
             "colorbar": {
              "outlinewidth": 0,
              "ticks": ""
             }
            },
            "type": "scatterternary"
           }
          ],
          "surface": [
           {
            "colorbar": {
             "outlinewidth": 0,
             "ticks": ""
            },
            "colorscale": [
             [
              0,
              "#0d0887"
             ],
             [
              0.1111111111111111,
              "#46039f"
             ],
             [
              0.2222222222222222,
              "#7201a8"
             ],
             [
              0.3333333333333333,
              "#9c179e"
             ],
             [
              0.4444444444444444,
              "#bd3786"
             ],
             [
              0.5555555555555556,
              "#d8576b"
             ],
             [
              0.6666666666666666,
              "#ed7953"
             ],
             [
              0.7777777777777778,
              "#fb9f3a"
             ],
             [
              0.8888888888888888,
              "#fdca26"
             ],
             [
              1,
              "#f0f921"
             ]
            ],
            "type": "surface"
           }
          ],
          "table": [
           {
            "cells": {
             "fill": {
              "color": "#506784"
             },
             "line": {
              "color": "rgb(17,17,17)"
             }
            },
            "header": {
             "fill": {
              "color": "#2a3f5f"
             },
             "line": {
              "color": "rgb(17,17,17)"
             }
            },
            "type": "table"
           }
          ]
         },
         "layout": {
          "annotationdefaults": {
           "arrowcolor": "#f2f5fa",
           "arrowhead": 0,
           "arrowwidth": 1
          },
          "autotypenumbers": "strict",
          "coloraxis": {
           "colorbar": {
            "outlinewidth": 0,
            "ticks": ""
           }
          },
          "colorscale": {
           "diverging": [
            [
             0,
             "#8e0152"
            ],
            [
             0.1,
             "#c51b7d"
            ],
            [
             0.2,
             "#de77ae"
            ],
            [
             0.3,
             "#f1b6da"
            ],
            [
             0.4,
             "#fde0ef"
            ],
            [
             0.5,
             "#f7f7f7"
            ],
            [
             0.6,
             "#e6f5d0"
            ],
            [
             0.7,
             "#b8e186"
            ],
            [
             0.8,
             "#7fbc41"
            ],
            [
             0.9,
             "#4d9221"
            ],
            [
             1,
             "#276419"
            ]
           ],
           "sequential": [
            [
             0,
             "#0d0887"
            ],
            [
             0.1111111111111111,
             "#46039f"
            ],
            [
             0.2222222222222222,
             "#7201a8"
            ],
            [
             0.3333333333333333,
             "#9c179e"
            ],
            [
             0.4444444444444444,
             "#bd3786"
            ],
            [
             0.5555555555555556,
             "#d8576b"
            ],
            [
             0.6666666666666666,
             "#ed7953"
            ],
            [
             0.7777777777777778,
             "#fb9f3a"
            ],
            [
             0.8888888888888888,
             "#fdca26"
            ],
            [
             1,
             "#f0f921"
            ]
           ],
           "sequentialminus": [
            [
             0,
             "#0d0887"
            ],
            [
             0.1111111111111111,
             "#46039f"
            ],
            [
             0.2222222222222222,
             "#7201a8"
            ],
            [
             0.3333333333333333,
             "#9c179e"
            ],
            [
             0.4444444444444444,
             "#bd3786"
            ],
            [
             0.5555555555555556,
             "#d8576b"
            ],
            [
             0.6666666666666666,
             "#ed7953"
            ],
            [
             0.7777777777777778,
             "#fb9f3a"
            ],
            [
             0.8888888888888888,
             "#fdca26"
            ],
            [
             1,
             "#f0f921"
            ]
           ]
          },
          "colorway": [
           "#636efa",
           "#EF553B",
           "#00cc96",
           "#ab63fa",
           "#FFA15A",
           "#19d3f3",
           "#FF6692",
           "#B6E880",
           "#FF97FF",
           "#FECB52"
          ],
          "font": {
           "color": "#f2f5fa"
          },
          "geo": {
           "bgcolor": "rgb(17,17,17)",
           "lakecolor": "rgb(17,17,17)",
           "landcolor": "rgb(17,17,17)",
           "showlakes": true,
           "showland": true,
           "subunitcolor": "#506784"
          },
          "hoverlabel": {
           "align": "left"
          },
          "hovermode": "closest",
          "mapbox": {
           "style": "dark"
          },
          "paper_bgcolor": "rgb(17,17,17)",
          "plot_bgcolor": "rgb(17,17,17)",
          "polar": {
           "angularaxis": {
            "gridcolor": "#506784",
            "linecolor": "#506784",
            "ticks": ""
           },
           "bgcolor": "rgb(17,17,17)",
           "radialaxis": {
            "gridcolor": "#506784",
            "linecolor": "#506784",
            "ticks": ""
           }
          },
          "scene": {
           "xaxis": {
            "backgroundcolor": "rgb(17,17,17)",
            "gridcolor": "#506784",
            "gridwidth": 2,
            "linecolor": "#506784",
            "showbackground": true,
            "ticks": "",
            "zerolinecolor": "#C8D4E3"
           },
           "yaxis": {
            "backgroundcolor": "rgb(17,17,17)",
            "gridcolor": "#506784",
            "gridwidth": 2,
            "linecolor": "#506784",
            "showbackground": true,
            "ticks": "",
            "zerolinecolor": "#C8D4E3"
           },
           "zaxis": {
            "backgroundcolor": "rgb(17,17,17)",
            "gridcolor": "#506784",
            "gridwidth": 2,
            "linecolor": "#506784",
            "showbackground": true,
            "ticks": "",
            "zerolinecolor": "#C8D4E3"
           }
          },
          "shapedefaults": {
           "line": {
            "color": "#f2f5fa"
           }
          },
          "sliderdefaults": {
           "bgcolor": "#C8D4E3",
           "bordercolor": "rgb(17,17,17)",
           "borderwidth": 1,
           "tickwidth": 0
          },
          "ternary": {
           "aaxis": {
            "gridcolor": "#506784",
            "linecolor": "#506784",
            "ticks": ""
           },
           "baxis": {
            "gridcolor": "#506784",
            "linecolor": "#506784",
            "ticks": ""
           },
           "bgcolor": "rgb(17,17,17)",
           "caxis": {
            "gridcolor": "#506784",
            "linecolor": "#506784",
            "ticks": ""
           }
          },
          "title": {
           "x": 0.05
          },
          "updatemenudefaults": {
           "bgcolor": "#506784",
           "borderwidth": 0
          },
          "xaxis": {
           "automargin": true,
           "gridcolor": "#283442",
           "linecolor": "#506784",
           "ticks": "",
           "title": {
            "standoff": 15
           },
           "zerolinecolor": "#283442",
           "zerolinewidth": 2
          },
          "yaxis": {
           "automargin": true,
           "gridcolor": "#283442",
           "linecolor": "#506784",
           "ticks": "",
           "title": {
            "standoff": 15
           },
           "zerolinecolor": "#283442",
           "zerolinewidth": 2
          }
         }
        },
        "title": {
         "text": "Correlation Heatmap of Numerical Features"
        },
        "width": 600,
        "xaxis": {
         "anchor": "y",
         "constrain": "domain",
         "domain": [
          0,
          1
         ],
         "scaleanchor": "y"
        },
        "yaxis": {
         "anchor": "x",
         "autorange": "reversed",
         "constrain": "domain",
         "domain": [
          0,
          1
         ]
        }
       }
      }
     },
     "metadata": {},
     "output_type": "display_data"
    }
   ],
   "source": [
    "fig_heatmap = px.imshow(\n",
    "    img = num_df.corr(),\n",
    "    title = 'Correlation Heatmap of Numerical Features',\n",
    "    height = 500,\n",
    "    width = 600,\n",
    "    template = 'plotly_dark',\n",
    "    color_continuous_scale = 'Agsunset',\n",
    "    text_auto = '.2f',\n",
    ")\n",
    "fig_heatmap.show()"
   ]
  },
  {
   "cell_type": "code",
   "execution_count": 32,
   "id": "35955250",
   "metadata": {},
   "outputs": [
    {
     "data": {
      "application/vnd.plotly.v1+json": {
       "config": {
        "plotlyServerURL": "https://plot.ly"
       },
       "data": [
        {
         "dimensions": [
          {
           "axis": {
            "matches": true
           },
           "label": "Distance_km",
           "values": {
            "bdata": "uB6F61G4H0DsUbgehWswQArXo3A9CiNAw/UoXI/CHUBI4XoUrgczQGZmZmZmZjNACtejcD0KI0CkcD0K12MxQHsUrkfhevw/PQrXo3A9JUBcj8L1KNwwQBSuR+F6FC9ASOF6FK7HJUDD9Shcj8ISQGZmZmZmZgZAXI/C9ShcAUBcj8L1KNwxQD0K16NwPQRAUrgehetRGkCF61G4HoUVQB+F61G4Hi9AKVyPwvUoKkCF61G4HoXrP1K4HoXrURdAZmZmZmZmJkCuR+F6FC4tQFK4HoXr0SlA16NwPQrXK0ApXI/C9SgQQM3MzMzMDDJAw/UoXI/CKUAzMzMzM3MzQFK4HoXrURJAexSuR+G6M0DD9Shcj8IDQM3MzMzMzDFA16NwPQrXF0AzMzMzM7MpQFK4HoXrUfA/XI/C9ShcG0Bcj8L1KFwhQOF6FK5HYSVArkfhehSu7z/D9Shcj8LxP0jhehSuRwFA16NwPQpXKkAUrkfhepQhQLgehetRuBdAuB6F61G4AEBI4XoUrkceQArXo3A9CiVAUrgehetRE0CPwvUoXM8zQDMzMzMzMyRAj8L1KFyPHkAzMzMzM7MoQJqZmZmZmRdAzczMzMzM7D8pXI/C9SgnQClcj8L1KDBAhetRuB4FL0BSuB6F61EoQNejcD0K1xNAH4XrUbgeDUDNzMzMzMwGQM3MzMzMzCRAH4XrUbieKEA9CtejcD0MQB+F61G4Hi9AMzMzMzMzK0D2KFyPwnUuQK5H4XoUrhBArkfhehSuCUCF61G4HoUZQArXo3A9ijBACtejcD0KKEDhehSuR+EnQClcj8L1KCJArkfhehSuC0AzMzMzMzMbQOF6FK5HYTFAAAAAAAAACkCPwvUoXI8kQKRwPQrXIzBAZmZmZmZmDEDNzMzMzEwlQEjhehSuBzNAMzMzMzMzHUAfhetRuB4cQFyPwvUo3ChAhetRuB6FKUBI4XoUrscmQClcj8L1aDNA16NwPQpXKkCkcD0K16MgQLgehetRuP4/ZmZmZmZm8j/NzMzMzMwxQNejcD0K1x1AAAAAAAAAHUAzMzMzM7MwQDMzMzMzMzFAhetRuB6F6z/D9Shcj8IyQHE9CtejcCJAuB6F61G4BkDXo3A9CpcxQEjhehSuxy1AzczMzMzM9D89CtejcP0yQJqZmZmZmfk/hetRuB6FIEBSuB6F61EkQI/C9ShcDyhA9ihcj8J1LUAfhetRuB4pQB+F61G4HhZAXI/C9ShcJEAAAAAAAAAvQNejcD0K1wdAcT0K16OwMEBxPQrXo3AmQI/C9ShcDyFAexSuR+H6KEAK16NwPQrvPzMzMzMzMylApHA9CtejG0C4HoXrUfgyQDMzMzMzMxBAFK5H4XqULEDNzMzMzMz0P7gehetROChA4XoUrkfhLUBSuB6F61ECQFyPwvUoXDFAexSuR+F6MkAAAAAAAEAwQIXrUbgehRRAH4XrUbieL0CF61G4HoXjPzMzMzMzMxZAmpmZmZlZM0AfhetRuB4QQFyPwvUoXBxAAAAAAACAIECF61G4HoUmQDMzMzMzszNAmpmZmZmZ6T8AAAAAAAAcQFyPwvUo3CxAj8L1KFyPG0CF61G4HoUUQAAAAAAAAPg/PQrXo3A9BkAfhetRuJ4mQJqZmZmZGS5AH4XrUbgeF0ApXI/C9agnQClcj8L1KCBAmpmZmZkZMEB7FK5H4XojQJqZmZmZmTFAcT0K16NwJECF61G4HoUBQFK4HoXr0SZAj8L1KFyPEEDNzMzMzEwpQJqZmZmZmRBAzczMzMzMMEAfhetRuB4iQBSuR+F6FCpAZmZmZmZmJUCamZmZmZkYQLgehetReDBAPQrXo3A99j9I4XoUrkcmQHsUrkfheg5AH4XrUbgeA0B7FK5H4XonQIXrUbgehSBAFK5H4XoUI0AK16NwPQoPQGZmZmZmZu4/rkfhehQuIUCuR+F6FC4hQOxRuB6FayxAj8L1KFwPKkCPwvUoXA8gQGZmZmZmZipA16NwPQpXKUAK16NwPYoxQKRwPQrXoyJAH4XrUbgeGEDsUbgehWsvQHsUrkfhehNAZmZmZmYmMkD2KFyPwvXoPzMzMzMzM+M/uB6F61G4AED2KFyPwvUdQI/C9Shcj/Y/7FG4HoXrMkBSuB6F69EoQPYoXI/C9fA/16NwPQpXMkAK16NwPQorQArXo3A9yjBASOF6FK7HLkCPwvUoXI8dQPYoXI/C9SVAKVyPwvUoJkCkcD0K16MVQBSuR+F6FO4/FK5H4XoUHUDsUbgehesHQI/C9Shcjy5A16NwPQrXA0DhehSuRyExQK5H4XoUrhxA4XoUrkfhFUBI4XoUroczQAAAAAAAAB5AcT0K16NwFkBmZmZmZmYQQOF6FK5H4RhACtejcD2KLUCamZmZmRkpQB+F61G4niRAcT0K16NwIUBSuB6F6xExQArXo3A9iiBAKVyPwvUoHkCkcD0K1yMsQIXrUbgeBTNAAAAAAAAAM0CkcD0K16MOQJqZmZmZmSRArkfhehQuIECPwvUoXA8yQBSuR+F6FAZA16NwPQpXKEApXI/C9agoQBSuR+F6FPY/PQrXo3B9MkCkcD0K1yMlQAAAAAAAAABAUrgehetRCkAK16NwPQr/Pz0K16NwPRpAKVyPwvUoI0DNzMzMzMwbQJqZmZmZGSxAuB6F61H4MkCPwvUoXA8rQEjhehSuRy5A16NwPQrXF0BxPQrXo3ALQPYoXI/C9RhAcT0K16PwMUBSuB6F61EMQOF6FK5HYTBAPQrXo3A9H0CuR+F6FK4hQK5H4XoULixA16NwPQrXJ0DNzMzMzEwxQClcj8L1KCxAZmZmZmZmBkD2KFyPwvUxQK5H4XoULixASOF6FK7HIkBmZmZmZuYxQDMzMzMzMxJA9ihcj8L1GEDsUbgeheswQB+F61G4nixAUrgehetRLUDXo3A9CtcBQM3MzMzMTClA9ihcj8L1HEAUrkfhehQIQArXo3A9CidAmpmZmZmZD0BxPQrXo3DxP3sUrkfh+itAUrgehetRM0BxPQrXo3AnQArXo3A9CgFA16NwPQpXIEDsUbgehWsoQFyPwvUoXAlArkfhehSuMkBmZmZmZuYlQMP1KFyPQjNA4XoUrkfhIkBxPQrXo3ATQD0K16NwPRdAXI/C9ShcHUCkcD0K12MxQOF6FK5H4RRApHA9CtejKEAzMzMzMzMBQLgehetRuCJAPQrXo3A9AkAUrkfhehQtQM3MzMzMTChAZmZmZmZm9j/2KFyPwvUKQM3MzMzMzA5Aj8L1KFwPIkA9CtejcP0xQJqZmZmZWTBAXI/C9SicM0AK16NwPUowQFyPwvUoXB9A7FG4HoUrMkCkcD0K1+MxQK5H4XoUripAuB6F61G4EUDsUbgehWsqQBSuR+F6FAZAAAAAAAAA+D8UrkfhehQmQIXrUbgehfM/KVyPwvUoLUDD9Shcj0IyQArXo3A9Cg9AUrgehesRMkC4HoXrUTgoQFK4HoXrURxA9ihcj8L1CEA9CtejcD0AQM3MzMzMzPw/rkfhehSuFUAzMzMzMzMfQHE9Ctej8CBAKVyPwvUoG0AzMzMzMzMrQB+F61G4HipArkfhehTuM0CamZmZmZkmQPYoXI/C9RpAexSuR+H6JEApXI/C9aghQJqZmZmZmRxA4XoUrkfhL0CF61G4HoUmQD0K16NwvSdApHA9CtejBkB7FK5H4XonQK5H4XoUrgVAcT0K16PwJEAAAAAAAAASQD0K16NwvTNArkfhehSu8z9SuB6F61ETQClcj8L1KPg/7FG4HoXr+T8fhetRuJ4mQDMzMzMzMxhASOF6FK5HJEBmZmZmZuYiQDMzMzMzMxtAzczMzMxML0AUrkfhehQCQJqZmZmZGShAAAAAAACAIEAzMzMzM7MpQEjhehSuRy5AXI/C9ShcEkAK16NwPQooQM3MzMzMzDNAhetRuB5FM0CuR+F6FK4TQBSuR+F6FPo/CtejcD0KMkBmZmZmZmYzQGZmZmZmZjBAhetRuB4FKED2KFyPwnUyQK5H4XoULipAhetRuB6F8z+4HoXrUbgkQD0K16NwPRFApHA9CtejKkCamZmZmRkwQLgehetROCxAuB6F61G4BkDXo3A9ChcwQM3MzMzMDDBAPQrXo3C9KkBSuB6F61EkQIXrUbgehRhA16NwPQrXE0AAAAAAAAAIQNejcD0K1wFA9ihcj8L1MUAzMzMzMzMfQM3MzMzMzCVAXI/C9ShcCUBI4XoUrsciQHE9CtejcDFAKVyPwvUoCEA9CtejcP0zQLgehetRODBA7FG4HoXrBUD2KFyPwvUWQAAAAAAAgCNAPQrXo3A9L0AK16NwPYowQFyPwvUoXB9AcT0K16NwMUApXI/C9SgmQFyPwvUonDFAj8L1KFyPIECkcD0K16MuQKRwPQrXow5AAAAAAAAACkAAAAAAAMAzQOF6FK5HYS5A16NwPQrXIUDhehSuR6EyQHsUrkfheilA4XoUrkchMkDD9Shcj8IDQGZmZmZmJjJA16NwPQrX+z8pXI/C9SgXQAAAAAAAABdAKVyPwvVoMUAzMzMzMzPzP6RwPQrXIyBAFK5H4XoU/j8K16NwPQrnP+F6FK5HYSxAexSuR+G6MEBI4XoUrocyQEjhehSuRxFAMzMzMzMzK0D2KFyPwnUyQK5H4XoUrh5A9ihcj8J1IEDhehSuR+EqQBSuR+F6FC5A7FG4HoXrHUC4HoXrUTgkQMP1KFyPwiVAcT0K16PwK0DXo3A9CtcLQPYoXI/CdSVAuB6F61G4FEBxPQrXo/AgQEjhehSuRy9AZmZmZmbmJUAK16NwPUozQLgehetRuARA16NwPQrXD0A9CtejcD0YQOF6FK5H4RpACtejcD0KM0CPwvUoXI8sQMP1KFyPQjBAAAAAAAAAEUCF61G4HoUoQI/C9ShczzNAMzMzMzMzMkAzMzMzM7MpQKRwPQrXoxtASOF6FK5HI0BI4XoUrkcjQD0K16NwPQJArkfhehSuLkDD9Shcj8IJQOxRuB6FayNArkfhehQuMUAzMzMzMzMVQAAAAAAAACRAAAAAAACAJUB7FK5H4foiQPYoXI/C9RxA16NwPQoXMECPwvUoXA8vQClcj8L1aDNAPQrXo3A9MUApXI/C9agmQHsUrkfhOjJAuB6F61G48j9SuB6F61EVQI/C9ShcjxBAKVyPwvUoAEDsUbgehessQOF6FK5H4Q5ArkfhehQuKUDD9Shcj8LxP7gehetROCJAhetRuB7FMkCamZmZmVkwQOF6FK5H4RhAH4XrUbgeH0ApXI/C9SjsP65H4XoUbjBAFK5H4XoUIEBmZmZmZqYyQOxRuB6F6xZA16NwPQrXKEDhehSuR+EAQB+F61G4njJAXI/C9SicMUA9CtejcD0lQBSuR+F61DJApHA9CtcjLEAUrkfhepQiQKRwPQrXo/Q/UrgehetREEAfhetRuB4zQK5H4XoU7jFApHA9CtejAkBxPQrXo3AJQIXrUbgehf8/zczMzMzMGEBSuB6F61HwPzMzMzMzMxVArkfhehSuIkCuR+F6FC4kQDMzMzMzsy5AH4XrUbgeMUCF61G4HoUPQIXrUbgeBTJAUrgehevRLEDhehSuR+EmQPYoXI/CdS5AMzMzMzMz/z/hehSuR+EeQI/C9ShcjydAMzMzMzMzC0AfhetRuB4BQBSuR+F6FCRAcT0K16NwLUCamZmZmZkNQHsUrkfhujNAKVyPwvWoJUDNzMzMzEwwQOxRuB6F6xdA7FG4HoXrF0CPwvUoXI8QQK5H4XoUrjBAcT0K16OwMkBxPQrXo3AyQAAAAAAAACpAMzMzMzNzMEDsUbgehSswQOF6FK5H4TFA7FG4HoXrFEBI4XoUrkcRQK5H4XoULiJA16NwPQpXKUCamZmZmZn9PwrXo3A9Ch5AUrgehetRGkBmZmZmZmYpQD0K16NwPR1AZmZmZmZmIkBxPQrXo3AkQM3MzMzMTCBAuB6F61E4JUDsUbgeheseQClcj8L1qDNAUrgehetRLUD2KFyPwnUjQArXo3A9Ci1AuB6F61G4F0DD9Shcj8ITQMP1KFyPwidAKVyPwvVoM0BxPQrXo3ANQB+F61G4HiZAZmZmZmZmJECuR+F6FK7nP+xRuB6Fay5Aw/UoXI/CHkDsUbgehWsmQLgehetRuBhArkfhehSuBUDsUbgehesLQBSuR+F6lCJAuB6F61G45j9I4XoUrkcVQGZmZmZmZhBArkfhehSuK0AzMzMzMzMPQJqZmZmZmTJAw/UoXI/CLUAK16NwPQoNQMP1KFyPwglAhetRuB4FJ0C4HoXrUbgzQClcj8L1KCZAmpmZmZmZD0ApXI/C9SgdQJqZmZmZmSRA9ihcj8J1JUBI4XoUrkcxQD0K16NwvSpAuB6F61G4JkBSuB6F61EeQIXrUbgehRhAj8L1KFyPAkA9CtejcH0xQArXo3A9Cvs/FK5H4XoUEkCamZmZmZkcQLgehetRuCVAw/UoXI/CL0BmZmZmZmYjQGZmZmZm5i1AuB6F61G4JkBI4XoUrkcoQI/C9ShcTzBAZmZmZmZmLUDXo3A9CtcqQJqZmZmZmR9AMzMzMzOzLkA9CtejcD0uQD0K16NwPeo/uB6F61G4GUBSuB6F61EhQFK4HoXrUSZAhetRuB7FMkBcj8L1KFwXQClcj8L1KPA/XI/C9ShcD0AK16NwPYopQKRwPQrXowJAXI/C9ShcB0AzMzMzM7MqQArXo3A9ChVAj8L1KFyPEUDXo3A9ClchQEjhehSuhzBAcT0K16PwKkBcj8L1KNwyQB+F61G4nilAMzMzMzMzA0DD9Shcj8IdQD0K16NwPf4/SOF6FK5HM0ApXI/C9SgZQPYoXI/C9fw/16NwPQrX+z/hehSuR+EqQHE9CtejcBxAAAAAAAAAEkAfhetRuJ4gQB+F61G4XjBAj8L1KFyPI0CF61G4HoUTQClcj8L1KBZAFK5H4XoUJ0AzMzMzM7MpQD0K16NwPRZApHA9CtejCkDD9Shcj8ILQIXrUbgeBShA9ihcj8L1L0AfhetRuB4NQLgehetReDNAhetRuB4FL0DXo3A9CtckQM3MzMzMzC9A16NwPQpXLkA9CtejcD0GQK5H4XoUrv8/j8L1KFwPLEB7FK5H4XoAQArXo3A9CiZAMzMzMzPzMUCuR+F6FK4UQB+F61G4njBAuB6F61G45j/hehSuR+EqQDMzMzMzMypAPQrXo3A9M0BmZmZmZmYVQHE9CtejcChAzczMzMyMMkDD9Shcj8IZQArXo3A9iiFAcT0K16PwJUC4HoXrUbgaQFyPwvUo3ClA9ihcj8L1H0CPwvUoXI8vQGZmZmZm5iNAcT0K16PwKkBxPQrXozAxQNejcD0K1wlAUrgehetR9D/Xo3A9CtcSQKRwPQrXoylA9ihcj8I1MkCF61G4HgUjQHsUrkfheuw/9ihcj8L1FEBI4XoUrkclQPYoXI/CdSpASOF6FK4HM0CamZmZmZkkQEjhehSuxyhAzczMzMzMMkBI4XoUrscwQGZmZmZmZh9Aw/UoXI9CJ0AzMzMzMzMfQMP1KFyPwidASOF6FK7HLUBxPQrXo3AwQDMzMzMzMwVAw/UoXI8CMkCkcD0K16MkQHsUrkfhehlA7FG4HoXrDUA9CtejcP0xQOxRuB6F6ytAhetRuB4FMEAUrkfhehQeQBSuR+F6FARAzczMzMzMGkBcj8L1KJwxQDMzMzMzMw1ACtejcD2KLEAzMzMzM7MhQHsUrkfheiJAMzMzMzOzM0C4HoXrUTgnQHE9CtejcDBA16NwPQpXIUCPwvUoXI8UQOxRuB6F6yRA7FG4HoXrFEAzMzMzM7MkQClcj8L1KBBASOF6FK5HBUBcj8L1KJwxQPYoXI/C9SBAj8L1KFwPMUAfhetRuB4bQAAAAAAAACJAexSuR+F6KUC4HoXrUbgyQNejcD0K1wlAH4XrUbgeKUAAAAAAAADwP65H4XoUrgtAAAAAAAAAGEAUrkfhepQtQM3MzMzMTC1AZmZmZmZmLEApXI/C9SgcQD0K16NwvTNAw/UoXI/CJ0DhehSuR6EyQJqZmZmZmSFAAAAAAACAJ0AzMzMzM/MyQGZmZmZmZh5APQrXo3D9MUCkcD0K16MrQI/C9ShcDy9Aw/UoXI/CD0AzMzMzMzMkQPYoXI/CNTJAcT0K16NwBUAK16NwPQoPQEjhehSuxy9A7FG4HoXrGkAAAAAAAADoPxSuR+F6lCtAFK5H4XrUMkA9CtejcD0nQB+F61G4HhRAKVyPwvUoLkD2KFyPwvUkQEjhehSuRx9AexSuR+H6MEApXI/C9agtQK5H4XoUrhZAFK5H4XpUMkD2KFyPwnUxQHE9CtejcPU/FK5H4XoU9j9cj8L1KFwNQHE9CtejcB9A9ihcj8L1IUAzMzMzM7MpQClcj8L16DFArkfhehQuLkDhehSuR+EQQClcj8L1qChAH4XrUbjeMUBI4XoUrkcBQOF6FK5H4QhAuB6F61G49j9SuB6F65EyQMP1KFyPgjFAXI/C9ShcG0DXo3A9ClcyQBSuR+F6FAxAZmZmZmZmLUCamZmZmdkwQMP1KFyPQjBAmpmZmZkZM0DsUbgehWsrQNejcD0K1yFAKVyPwvUoLUDsUbgehWsjQHE9Ctej8DNAH4XrUbgeEkBmZmZmZmYlQMP1KFyPQiRA9ihcj8L16D/Xo3A9CtcyQClcj8L1KC5AUrgehetRMUA9CtejcD0bQFK4HoXrUQZA4XoUrkfhJkCF61G4HoUDQNejcD0K1wNAAAAAAAAAH0AzMzMzMzPrPz0K16NwvSFAPQrXo3C9LkAUrkfhepQkQB+F61G4Hi5AUrgehetRDECuR+F6FK4cQHsUrkfhehJAH4XrUbgeFkB7FK5H4XopQB+F61G4HiJArkfhehSuBUDsUbgeheswQBSuR+F6FCtAAAAAAAAA8D8K16NwPYohQMP1KFyPAjBAw/UoXI9CKUCuR+F6FC4gQClcj8L1KBpASOF6FK5HJUBSuB6F61H8PwAAAAAAACpAKVyPwvWoKUAK16NwPQoqQKRwPQrX4zJAj8L1KFwPJUAK16NwPQoUQAAAAAAAADBAXI/C9SjcMUDsUbgehesHQOF6FK5HYTBAXI/C9ShcGEC4HoXrUTgrQAAAAAAAACFAmpmZmZkZIUAzMzMzMzMQQAAAAAAAgDNAXI/C9ShcHkApXI/C9agwQClcj8L1aDNAexSuR+F6K0B7FK5H4XrkPzMzMzMzMyhArkfhehQuKECkcD0K16MnQB+F61G4HhVA7FG4HoXrF0BxPQrXo3AHQDMzMzMzMxBAuB6F61E4K0AK16NwPQoHQKRwPQrXoxdAAAAAAAAAGEApXI/C9agmQIXrUbgeBS5AZmZmZmZmG0Bcj8L1KNwnQFK4HoXr0TJAexSuR+F68D9xPQrXo3AsQK5H4XoULjJAAAAAAACALUBmZmZmZmYnQFyPwvUoXCVAKVyPwvUo+D+F61G4HgUgQNejcD0K1wlAUrgehetRKkC4HoXrUTgkQKRwPQrXYzJAPQrXo3A9JUD2KFyPwnUlQOxRuB6F6xhAH4XrUbgeAUApXI/C9agpQD0K16NwvSBAhetRuB6FDUCamZmZmRkyQD0K16NwPRxACtejcD0K/z/hehSuR+HiP8P1KFyPAjFAcT0K16NwFUAAAAAAAAAoQHsUrkfhOjBACtejcD0KM0AUrkfhelQyQKRwPQrXowRAmpmZmZmZEkAUrkfhelQxQMP1KFyPwuU/FK5H4XpUM0Bcj8L1KFwLQIXrUbgeBTNAj8L1KFzPMUBcj8L1KFwFQD0K16NwPTNAUrgehevRLEBI4XoUrkcDQHsUrkfh+jFAXI/C9ShcHUCF61G4HgUpQOF6FK5H4RNAmpmZmZkZM0CPwvUoXI8SQKRwPQrXIyxAUrgehetRDkCuR+F6FK4PQI/C9ShcTzJACtejcD0KG0BSuB6F61HoPz0K16NwPRdAKVyPwvUoKEAfhetRuB75P0jhehSuxydAFK5H4XoUHEAzMzMzM7MrQKRwPQrXoyJA4XoUrkfhHkDNzMzMzEwgQFK4HoXrUQxASOF6FK5HCUDNzMzMzEwnQOF6FK5H4RRApHA9CtejFUDD9Shcj8IjQFyPwvUo3DNAH4XrUbgeFkDsUbgehesoQBSuR+F6FPY/FK5H4XqUJUD2KFyPwnUsQFyPwvUoXPM/MzMzMzMzJkCamZmZmRkxQMP1KFyPwglAhetRuB5FM0CPwvUoXI8GQK5H4XoUrh5AUrgehesRMEDhehSuR+EfQAAAAAAAADJA7FG4HoUrMEC4HoXrUbgtQFyPwvUoXCdArkfhehQuKUDsUbgeheshQMP1KFyPgjBAw/UoXI8CMEA9CtejcL0zQEjhehSuRyFAhetRuB6FFEAfhetRuB4XQM3MzMzMzARAuB6F61G4AkBcj8L1KNwpQJqZmZmZmfk/w/UoXI/CHUBI4XoUrscsQEjhehSuRxhAuB6F61H4MUBI4XoUrocxQFyPwvUo3ChASOF6FK7HJUB7FK5H4XoRQAAAAAAAACFASOF6FK5HMEA9CtejcD0vQNejcD0KVyxAhetRuB6FGkA=",
            "dtype": "f8"
           }
          },
          {
           "axis": {
            "matches": true
           },
           "label": "Preparation_Time_min",
           "values": {
            "bdata": "DBQcBRAIDAUUHQ0dDAwKDwUGBhocEBobFw8LEgsKCBQWGxsQFhIZDggZDwUPEA4TFxUIGRQICgoaFBALEQsVERoQHQ0OGwUFEBAGCRQOFw0LFx0GFxcaDhUMGw4HEQwIGgwIEhwOFQ8SGBgRFgoYDwwUGBETGRwLCBkIGRgIHBkUDhMJCwgYCAoPGQoSDAkNBwUKDhEOCxkKCQcMCQkZGQcbEhoRDhIRExcUCBoUDwcFGwYVCxAbERYYCQ4OChAGCBwQFgYaBQ0PGwoTCRsYGBkKCQ4JChsQDhMPFQsdGRUPCw0TEhQNFAUdHAwTDwkIFBYFDhwKERAOGhkTFBwIGgcPFgoHCxoMDgkcHBYMDhcFFB0JFAcPHA4ZDQYHFQsJFAkRCxgVHBkZFhkLERERGx0MCQkaCw8QCBQGDRsUCgwGDwgGDRwbBRwFDg4OCxcTEBcRBg8VHAwdGA4KDhQGDhgVEgsOCRQYFA0cGwYdGBcPExoHDgwYCBcMBR0RDgcJGhAYHA0LEQoWCh0OGgsGERUZFxEWEg0WFxkHFxAVHREbHRkGGQsSFRYLCBoHFBgVGAkJCQgVCRMJER0YFRcNDgkGCRgUCQcNEwoIGxcQBRQbGw4bCg4bEg4IDR0GCBccFRoLERkbEB0XHAsVDRYTGBAQGRsNGxMHHBwbEwcIEAoHBwgdBhUcBwYQCgcXGhMMCBQGEAsaCxIMDxwICAwOFRUJFxsWGQodExEGBwobDRYaCRUMER0TBR0aGxwdBxAGEg0UEBcJBhERHRsSEhkcChYHBRscHAsMGxwQCBMZFxsLEQ8KEQYNBgwOGAYWBQ4SCR0VDxURFBYJGA4cDBQYExIMGwYNFQoXFxYbFAYaEhocCgUTGBgaFRAQChwTGRUWERYWEB0aGQkcCRgPCxIOGwoZEgwVBwsRGRQcBhoJGgsUCB0OFxYHHREFFgwODhgdEwUFFBEQFwUdGAsIEBMIDBcZFwcOEAkLCRIdDBEHFhwYFAwTEQsQFBoGCRsQCxUaExEFEAkPFQoLBQkRGgoQCxMLBQYJDQkWFgYGFBAHHQoVGBAPGRYWBhEbGRYKFxsaEggWCxkdChcXDg0UFQkTDxkWFwcIChEaBhcLGQwcCBYKDg4ZBQYWGQoNEAkGBxoOHBUSEB0VBgoLDRgbFhgTDBAdFR0PEAcFExkRChEOGggZGQsYFgcUGRMNCAgaChUcCxkGDBMZFQwdBwsWFREaEA8FFhIREg8KDRcZBxoOEBAcFx0YExoRCQoOEQcMFwoGGBcWEhkTHQoWEAkWDA8ZCgYHDAsdEAsQCBQOGwYSHA4NBwYNCBoIGA==",
            "dtype": "i1"
           }
          },
          {
           "axis": {
            "matches": true
           },
           "label": "Courier_Experience_yrs",
           "values": {
            "bdata": "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",
            "dtype": "f8"
           }
          },
          {
           "axis": {
            "matches": true
           },
           "label": "Delivery_Time_min",
           "values": {
            "bdata": "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",
            "dtype": "i2"
           }
          }
         ],
         "hovertemplate": "%{xaxis.title.text}=%{x}<br>%{yaxis.title.text}=%{y}<extra></extra>",
         "legendgroup": "",
         "marker": {
          "color": "rgb(136, 204, 238)",
          "symbol": "circle"
         },
         "name": "",
         "showlegend": false,
         "type": "splom"
        }
       ],
       "layout": {
        "dragmode": "select",
        "height": 900,
        "legend": {
         "tracegroupgap": 0
        },
        "template": {
         "data": {
          "bar": [
           {
            "error_x": {
             "color": "#f2f5fa"
            },
            "error_y": {
             "color": "#f2f5fa"
            },
            "marker": {
             "line": {
              "color": "rgb(17,17,17)",
              "width": 0.5
             },
             "pattern": {
              "fillmode": "overlay",
              "size": 10,
              "solidity": 0.2
             }
            },
            "type": "bar"
           }
          ],
          "barpolar": [
           {
            "marker": {
             "line": {
              "color": "rgb(17,17,17)",
              "width": 0.5
             },
             "pattern": {
              "fillmode": "overlay",
              "size": 10,
              "solidity": 0.2
             }
            },
            "type": "barpolar"
           }
          ],
          "carpet": [
           {
            "aaxis": {
             "endlinecolor": "#A2B1C6",
             "gridcolor": "#506784",
             "linecolor": "#506784",
             "minorgridcolor": "#506784",
             "startlinecolor": "#A2B1C6"
            },
            "baxis": {
             "endlinecolor": "#A2B1C6",
             "gridcolor": "#506784",
             "linecolor": "#506784",
             "minorgridcolor": "#506784",
             "startlinecolor": "#A2B1C6"
            },
            "type": "carpet"
           }
          ],
          "choropleth": [
           {
            "colorbar": {
             "outlinewidth": 0,
             "ticks": ""
            },
            "type": "choropleth"
           }
          ],
          "contour": [
           {
            "colorbar": {
             "outlinewidth": 0,
             "ticks": ""
            },
            "colorscale": [
             [
              0,
              "#0d0887"
             ],
             [
              0.1111111111111111,
              "#46039f"
             ],
             [
              0.2222222222222222,
              "#7201a8"
             ],
             [
              0.3333333333333333,
              "#9c179e"
             ],
             [
              0.4444444444444444,
              "#bd3786"
             ],
             [
              0.5555555555555556,
              "#d8576b"
             ],
             [
              0.6666666666666666,
              "#ed7953"
             ],
             [
              0.7777777777777778,
              "#fb9f3a"
             ],
             [
              0.8888888888888888,
              "#fdca26"
             ],
             [
              1,
              "#f0f921"
             ]
            ],
            "type": "contour"
           }
          ],
          "contourcarpet": [
           {
            "colorbar": {
             "outlinewidth": 0,
             "ticks": ""
            },
            "type": "contourcarpet"
           }
          ],
          "heatmap": [
           {
            "colorbar": {
             "outlinewidth": 0,
             "ticks": ""
            },
            "colorscale": [
             [
              0,
              "#0d0887"
             ],
             [
              0.1111111111111111,
              "#46039f"
             ],
             [
              0.2222222222222222,
              "#7201a8"
             ],
             [
              0.3333333333333333,
              "#9c179e"
             ],
             [
              0.4444444444444444,
              "#bd3786"
             ],
             [
              0.5555555555555556,
              "#d8576b"
             ],
             [
              0.6666666666666666,
              "#ed7953"
             ],
             [
              0.7777777777777778,
              "#fb9f3a"
             ],
             [
              0.8888888888888888,
              "#fdca26"
             ],
             [
              1,
              "#f0f921"
             ]
            ],
            "type": "heatmap"
           }
          ],
          "histogram": [
           {
            "marker": {
             "pattern": {
              "fillmode": "overlay",
              "size": 10,
              "solidity": 0.2
             }
            },
            "type": "histogram"
           }
          ],
          "histogram2d": [
           {
            "colorbar": {
             "outlinewidth": 0,
             "ticks": ""
            },
            "colorscale": [
             [
              0,
              "#0d0887"
             ],
             [
              0.1111111111111111,
              "#46039f"
             ],
             [
              0.2222222222222222,
              "#7201a8"
             ],
             [
              0.3333333333333333,
              "#9c179e"
             ],
             [
              0.4444444444444444,
              "#bd3786"
             ],
             [
              0.5555555555555556,
              "#d8576b"
             ],
             [
              0.6666666666666666,
              "#ed7953"
             ],
             [
              0.7777777777777778,
              "#fb9f3a"
             ],
             [
              0.8888888888888888,
              "#fdca26"
             ],
             [
              1,
              "#f0f921"
             ]
            ],
            "type": "histogram2d"
           }
          ],
          "histogram2dcontour": [
           {
            "colorbar": {
             "outlinewidth": 0,
             "ticks": ""
            },
            "colorscale": [
             [
              0,
              "#0d0887"
             ],
             [
              0.1111111111111111,
              "#46039f"
             ],
             [
              0.2222222222222222,
              "#7201a8"
             ],
             [
              0.3333333333333333,
              "#9c179e"
             ],
             [
              0.4444444444444444,
              "#bd3786"
             ],
             [
              0.5555555555555556,
              "#d8576b"
             ],
             [
              0.6666666666666666,
              "#ed7953"
             ],
             [
              0.7777777777777778,
              "#fb9f3a"
             ],
             [
              0.8888888888888888,
              "#fdca26"
             ],
             [
              1,
              "#f0f921"
             ]
            ],
            "type": "histogram2dcontour"
           }
          ],
          "mesh3d": [
           {
            "colorbar": {
             "outlinewidth": 0,
             "ticks": ""
            },
            "type": "mesh3d"
           }
          ],
          "parcoords": [
           {
            "line": {
             "colorbar": {
              "outlinewidth": 0,
              "ticks": ""
             }
            },
            "type": "parcoords"
           }
          ],
          "pie": [
           {
            "automargin": true,
            "type": "pie"
           }
          ],
          "scatter": [
           {
            "marker": {
             "line": {
              "color": "#283442"
             }
            },
            "type": "scatter"
           }
          ],
          "scatter3d": [
           {
            "line": {
             "colorbar": {
              "outlinewidth": 0,
              "ticks": ""
             }
            },
            "marker": {
             "colorbar": {
              "outlinewidth": 0,
              "ticks": ""
             }
            },
            "type": "scatter3d"
           }
          ],
          "scattercarpet": [
           {
            "marker": {
             "colorbar": {
              "outlinewidth": 0,
              "ticks": ""
             }
            },
            "type": "scattercarpet"
           }
          ],
          "scattergeo": [
           {
            "marker": {
             "colorbar": {
              "outlinewidth": 0,
              "ticks": ""
             }
            },
            "type": "scattergeo"
           }
          ],
          "scattergl": [
           {
            "marker": {
             "line": {
              "color": "#283442"
             }
            },
            "type": "scattergl"
           }
          ],
          "scattermap": [
           {
            "marker": {
             "colorbar": {
              "outlinewidth": 0,
              "ticks": ""
             }
            },
            "type": "scattermap"
           }
          ],
          "scattermapbox": [
           {
            "marker": {
             "colorbar": {
              "outlinewidth": 0,
              "ticks": ""
             }
            },
            "type": "scattermapbox"
           }
          ],
          "scatterpolar": [
           {
            "marker": {
             "colorbar": {
              "outlinewidth": 0,
              "ticks": ""
             }
            },
            "type": "scatterpolar"
           }
          ],
          "scatterpolargl": [
           {
            "marker": {
             "colorbar": {
              "outlinewidth": 0,
              "ticks": ""
             }
            },
            "type": "scatterpolargl"
           }
          ],
          "scatterternary": [
           {
            "marker": {
             "colorbar": {
              "outlinewidth": 0,
              "ticks": ""
             }
            },
            "type": "scatterternary"
           }
          ],
          "surface": [
           {
            "colorbar": {
             "outlinewidth": 0,
             "ticks": ""
            },
            "colorscale": [
             [
              0,
              "#0d0887"
             ],
             [
              0.1111111111111111,
              "#46039f"
             ],
             [
              0.2222222222222222,
              "#7201a8"
             ],
             [
              0.3333333333333333,
              "#9c179e"
             ],
             [
              0.4444444444444444,
              "#bd3786"
             ],
             [
              0.5555555555555556,
              "#d8576b"
             ],
             [
              0.6666666666666666,
              "#ed7953"
             ],
             [
              0.7777777777777778,
              "#fb9f3a"
             ],
             [
              0.8888888888888888,
              "#fdca26"
             ],
             [
              1,
              "#f0f921"
             ]
            ],
            "type": "surface"
           }
          ],
          "table": [
           {
            "cells": {
             "fill": {
              "color": "#506784"
             },
             "line": {
              "color": "rgb(17,17,17)"
             }
            },
            "header": {
             "fill": {
              "color": "#2a3f5f"
             },
             "line": {
              "color": "rgb(17,17,17)"
             }
            },
            "type": "table"
           }
          ]
         },
         "layout": {
          "annotationdefaults": {
           "arrowcolor": "#f2f5fa",
           "arrowhead": 0,
           "arrowwidth": 1
          },
          "autotypenumbers": "strict",
          "coloraxis": {
           "colorbar": {
            "outlinewidth": 0,
            "ticks": ""
           }
          },
          "colorscale": {
           "diverging": [
            [
             0,
             "#8e0152"
            ],
            [
             0.1,
             "#c51b7d"
            ],
            [
             0.2,
             "#de77ae"
            ],
            [
             0.3,
             "#f1b6da"
            ],
            [
             0.4,
             "#fde0ef"
            ],
            [
             0.5,
             "#f7f7f7"
            ],
            [
             0.6,
             "#e6f5d0"
            ],
            [
             0.7,
             "#b8e186"
            ],
            [
             0.8,
             "#7fbc41"
            ],
            [
             0.9,
             "#4d9221"
            ],
            [
             1,
             "#276419"
            ]
           ],
           "sequential": [
            [
             0,
             "#0d0887"
            ],
            [
             0.1111111111111111,
             "#46039f"
            ],
            [
             0.2222222222222222,
             "#7201a8"
            ],
            [
             0.3333333333333333,
             "#9c179e"
            ],
            [
             0.4444444444444444,
             "#bd3786"
            ],
            [
             0.5555555555555556,
             "#d8576b"
            ],
            [
             0.6666666666666666,
             "#ed7953"
            ],
            [
             0.7777777777777778,
             "#fb9f3a"
            ],
            [
             0.8888888888888888,
             "#fdca26"
            ],
            [
             1,
             "#f0f921"
            ]
           ],
           "sequentialminus": [
            [
             0,
             "#0d0887"
            ],
            [
             0.1111111111111111,
             "#46039f"
            ],
            [
             0.2222222222222222,
             "#7201a8"
            ],
            [
             0.3333333333333333,
             "#9c179e"
            ],
            [
             0.4444444444444444,
             "#bd3786"
            ],
            [
             0.5555555555555556,
             "#d8576b"
            ],
            [
             0.6666666666666666,
             "#ed7953"
            ],
            [
             0.7777777777777778,
             "#fb9f3a"
            ],
            [
             0.8888888888888888,
             "#fdca26"
            ],
            [
             1,
             "#f0f921"
            ]
           ]
          },
          "colorway": [
           "#636efa",
           "#EF553B",
           "#00cc96",
           "#ab63fa",
           "#FFA15A",
           "#19d3f3",
           "#FF6692",
           "#B6E880",
           "#FF97FF",
           "#FECB52"
          ],
          "font": {
           "color": "#f2f5fa"
          },
          "geo": {
           "bgcolor": "rgb(17,17,17)",
           "lakecolor": "rgb(17,17,17)",
           "landcolor": "rgb(17,17,17)",
           "showlakes": true,
           "showland": true,
           "subunitcolor": "#506784"
          },
          "hoverlabel": {
           "align": "left"
          },
          "hovermode": "closest",
          "mapbox": {
           "style": "dark"
          },
          "paper_bgcolor": "rgb(17,17,17)",
          "plot_bgcolor": "rgb(17,17,17)",
          "polar": {
           "angularaxis": {
            "gridcolor": "#506784",
            "linecolor": "#506784",
            "ticks": ""
           },
           "bgcolor": "rgb(17,17,17)",
           "radialaxis": {
            "gridcolor": "#506784",
            "linecolor": "#506784",
            "ticks": ""
           }
          },
          "scene": {
           "xaxis": {
            "backgroundcolor": "rgb(17,17,17)",
            "gridcolor": "#506784",
            "gridwidth": 2,
            "linecolor": "#506784",
            "showbackground": true,
            "ticks": "",
            "zerolinecolor": "#C8D4E3"
           },
           "yaxis": {
            "backgroundcolor": "rgb(17,17,17)",
            "gridcolor": "#506784",
            "gridwidth": 2,
            "linecolor": "#506784",
            "showbackground": true,
            "ticks": "",
            "zerolinecolor": "#C8D4E3"
           },
           "zaxis": {
            "backgroundcolor": "rgb(17,17,17)",
            "gridcolor": "#506784",
            "gridwidth": 2,
            "linecolor": "#506784",
            "showbackground": true,
            "ticks": "",
            "zerolinecolor": "#C8D4E3"
           }
          },
          "shapedefaults": {
           "line": {
            "color": "#f2f5fa"
           }
          },
          "sliderdefaults": {
           "bgcolor": "#C8D4E3",
           "bordercolor": "rgb(17,17,17)",
           "borderwidth": 1,
           "tickwidth": 0
          },
          "ternary": {
           "aaxis": {
            "gridcolor": "#506784",
            "linecolor": "#506784",
            "ticks": ""
           },
           "baxis": {
            "gridcolor": "#506784",
            "linecolor": "#506784",
            "ticks": ""
           },
           "bgcolor": "rgb(17,17,17)",
           "caxis": {
            "gridcolor": "#506784",
            "linecolor": "#506784",
            "ticks": ""
           }
          },
          "title": {
           "x": 0.05
          },
          "updatemenudefaults": {
           "bgcolor": "#506784",
           "borderwidth": 0
          },
          "xaxis": {
           "automargin": true,
           "gridcolor": "#283442",
           "linecolor": "#506784",
           "ticks": "",
           "title": {
            "standoff": 15
           },
           "zerolinecolor": "#283442",
           "zerolinewidth": 2
          },
          "yaxis": {
           "automargin": true,
           "gridcolor": "#283442",
           "linecolor": "#506784",
           "ticks": "",
           "title": {
            "standoff": 15
           },
           "zerolinecolor": "#283442",
           "zerolinewidth": 2
          }
         }
        },
        "title": {
         "text": "Scatter Matrix of Numerical Features"
        }
       }
      }
     },
     "metadata": {},
     "output_type": "display_data"
    }
   ],
   "source": [
    "fig_pairplot = px.scatter_matrix(\n",
    "    data_frame = num_df,\n",
    "    title = 'Scatter Matrix of Numerical Features',\n",
    "    height = 900,\n",
    "    template = 'plotly_dark',\n",
    "    color_discrete_sequence = px.colors.qualitative.Safe,\n",
    ")\n",
    "fig_pairplot.show()"
   ]
  },
  {
   "cell_type": "code",
   "execution_count": 33,
   "id": "6ad4ade3",
   "metadata": {},
   "outputs": [
    {
     "data": {
      "application/vnd.plotly.v1+json": {
       "config": {
        "plotlyServerURL": "https://plot.ly"
       },
       "data": [
        {
         "marker": {
          "color": "rgb(136, 204, 238)"
         },
         "name": "Distance_km",
         "type": "histogram",
         "x": {
          "bdata": "uB6F61G4H0DsUbgehWswQArXo3A9CiNAw/UoXI/CHUBI4XoUrgczQGZmZmZmZjNACtejcD0KI0CkcD0K12MxQHsUrkfhevw/PQrXo3A9JUBcj8L1KNwwQBSuR+F6FC9ASOF6FK7HJUDD9Shcj8ISQGZmZmZmZgZAXI/C9ShcAUBcj8L1KNwxQD0K16NwPQRAUrgehetRGkCF61G4HoUVQB+F61G4Hi9AKVyPwvUoKkCF61G4HoXrP1K4HoXrURdAZmZmZmZmJkCuR+F6FC4tQFK4HoXr0SlA16NwPQrXK0ApXI/C9SgQQM3MzMzMDDJAw/UoXI/CKUAzMzMzM3MzQFK4HoXrURJAexSuR+G6M0DD9Shcj8IDQM3MzMzMzDFA16NwPQrXF0AzMzMzM7MpQFK4HoXrUfA/XI/C9ShcG0Bcj8L1KFwhQOF6FK5HYSVArkfhehSu7z/D9Shcj8LxP0jhehSuRwFA16NwPQpXKkAUrkfhepQhQLgehetRuBdAuB6F61G4AEBI4XoUrkceQArXo3A9CiVAUrgehetRE0CPwvUoXM8zQDMzMzMzMyRAj8L1KFyPHkAzMzMzM7MoQJqZmZmZmRdAzczMzMzM7D8pXI/C9SgnQClcj8L1KDBAhetRuB4FL0BSuB6F61EoQNejcD0K1xNAH4XrUbgeDUDNzMzMzMwGQM3MzMzMzCRAH4XrUbieKEA9CtejcD0MQB+F61G4Hi9AMzMzMzMzK0D2KFyPwnUuQK5H4XoUrhBArkfhehSuCUCF61G4HoUZQArXo3A9ijBACtejcD0KKEDhehSuR+EnQClcj8L1KCJArkfhehSuC0AzMzMzMzMbQOF6FK5HYTFAAAAAAAAACkCPwvUoXI8kQKRwPQrXIzBAZmZmZmZmDEDNzMzMzEwlQEjhehSuBzNAMzMzMzMzHUAfhetRuB4cQFyPwvUo3ChAhetRuB6FKUBI4XoUrscmQClcj8L1aDNA16NwPQpXKkCkcD0K16MgQLgehetRuP4/ZmZmZmZm8j/NzMzMzMwxQNejcD0K1x1AAAAAAAAAHUAzMzMzM7MwQDMzMzMzMzFAhetRuB6F6z/D9Shcj8IyQHE9CtejcCJAuB6F61G4BkDXo3A9CpcxQEjhehSuxy1AzczMzMzM9D89CtejcP0yQJqZmZmZmfk/hetRuB6FIEBSuB6F61EkQI/C9ShcDyhA9ihcj8J1LUAfhetRuB4pQB+F61G4HhZAXI/C9ShcJEAAAAAAAAAvQNejcD0K1wdAcT0K16OwMEBxPQrXo3AmQI/C9ShcDyFAexSuR+H6KEAK16NwPQrvPzMzMzMzMylApHA9CtejG0C4HoXrUfgyQDMzMzMzMxBAFK5H4XqULEDNzMzMzMz0P7gehetROChA4XoUrkfhLUBSuB6F61ECQFyPwvUoXDFAexSuR+F6MkAAAAAAAEAwQIXrUbgehRRAH4XrUbieL0CF61G4HoXjPzMzMzMzMxZAmpmZmZlZM0AfhetRuB4QQFyPwvUoXBxAAAAAAACAIECF61G4HoUmQDMzMzMzszNAmpmZmZmZ6T8AAAAAAAAcQFyPwvUo3CxAj8L1KFyPG0CF61G4HoUUQAAAAAAAAPg/PQrXo3A9BkAfhetRuJ4mQJqZmZmZGS5AH4XrUbgeF0ApXI/C9agnQClcj8L1KCBAmpmZmZkZMEB7FK5H4XojQJqZmZmZmTFAcT0K16NwJECF61G4HoUBQFK4HoXr0SZAj8L1KFyPEEDNzMzMzEwpQJqZmZmZmRBAzczMzMzMMEAfhetRuB4iQBSuR+F6FCpAZmZmZmZmJUCamZmZmZkYQLgehetReDBAPQrXo3A99j9I4XoUrkcmQHsUrkfheg5AH4XrUbgeA0B7FK5H4XonQIXrUbgehSBAFK5H4XoUI0AK16NwPQoPQGZmZmZmZu4/rkfhehQuIUCuR+F6FC4hQOxRuB6FayxAj8L1KFwPKkCPwvUoXA8gQGZmZmZmZipA16NwPQpXKUAK16NwPYoxQKRwPQrXoyJAH4XrUbgeGEDsUbgehWsvQHsUrkfhehNAZmZmZmYmMkD2KFyPwvXoPzMzMzMzM+M/uB6F61G4AED2KFyPwvUdQI/C9Shcj/Y/7FG4HoXrMkBSuB6F69EoQPYoXI/C9fA/16NwPQpXMkAK16NwPQorQArXo3A9yjBASOF6FK7HLkCPwvUoXI8dQPYoXI/C9SVAKVyPwvUoJkCkcD0K16MVQBSuR+F6FO4/FK5H4XoUHUDsUbgehesHQI/C9Shcjy5A16NwPQrXA0DhehSuRyExQK5H4XoUrhxA4XoUrkfhFUBI4XoUroczQAAAAAAAAB5AcT0K16NwFkBmZmZmZmYQQOF6FK5H4RhACtejcD2KLUCamZmZmRkpQB+F61G4niRAcT0K16NwIUBSuB6F6xExQArXo3A9iiBAKVyPwvUoHkCkcD0K1yMsQIXrUbgeBTNAAAAAAAAAM0CkcD0K16MOQJqZmZmZmSRArkfhehQuIECPwvUoXA8yQBSuR+F6FAZA16NwPQpXKEApXI/C9agoQBSuR+F6FPY/PQrXo3B9MkCkcD0K1yMlQAAAAAAAAABAUrgehetRCkAK16NwPQr/Pz0K16NwPRpAKVyPwvUoI0DNzMzMzMwbQJqZmZmZGSxAuB6F61H4MkCPwvUoXA8rQEjhehSuRy5A16NwPQrXF0BxPQrXo3ALQPYoXI/C9RhAcT0K16PwMUBSuB6F61EMQOF6FK5HYTBAPQrXo3A9H0CuR+F6FK4hQK5H4XoULixA16NwPQrXJ0DNzMzMzEwxQClcj8L1KCxAZmZmZmZmBkD2KFyPwvUxQK5H4XoULixASOF6FK7HIkBmZmZmZuYxQDMzMzMzMxJA9ihcj8L1GEDsUbgeheswQB+F61G4nixAUrgehetRLUDXo3A9CtcBQM3MzMzMTClA9ihcj8L1HEAUrkfhehQIQArXo3A9CidAmpmZmZmZD0BxPQrXo3DxP3sUrkfh+itAUrgehetRM0BxPQrXo3AnQArXo3A9CgFA16NwPQpXIEDsUbgehWsoQFyPwvUoXAlArkfhehSuMkBmZmZmZuYlQMP1KFyPQjNA4XoUrkfhIkBxPQrXo3ATQD0K16NwPRdAXI/C9ShcHUCkcD0K12MxQOF6FK5H4RRApHA9CtejKEAzMzMzMzMBQLgehetRuCJAPQrXo3A9AkAUrkfhehQtQM3MzMzMTChAZmZmZmZm9j/2KFyPwvUKQM3MzMzMzA5Aj8L1KFwPIkA9CtejcP0xQJqZmZmZWTBAXI/C9SicM0AK16NwPUowQFyPwvUoXB9A7FG4HoUrMkCkcD0K1+MxQK5H4XoUripAuB6F61G4EUDsUbgehWsqQBSuR+F6FAZAAAAAAAAA+D8UrkfhehQmQIXrUbgehfM/KVyPwvUoLUDD9Shcj0IyQArXo3A9Cg9AUrgehesRMkC4HoXrUTgoQFK4HoXrURxA9ihcj8L1CEA9CtejcD0AQM3MzMzMzPw/rkfhehSuFUAzMzMzMzMfQHE9Ctej8CBAKVyPwvUoG0AzMzMzMzMrQB+F61G4HipArkfhehTuM0CamZmZmZkmQPYoXI/C9RpAexSuR+H6JEApXI/C9aghQJqZmZmZmRxA4XoUrkfhL0CF61G4HoUmQD0K16NwvSdApHA9CtejBkB7FK5H4XonQK5H4XoUrgVAcT0K16PwJEAAAAAAAAASQD0K16NwvTNArkfhehSu8z9SuB6F61ETQClcj8L1KPg/7FG4HoXr+T8fhetRuJ4mQDMzMzMzMxhASOF6FK5HJEBmZmZmZuYiQDMzMzMzMxtAzczMzMxML0AUrkfhehQCQJqZmZmZGShAAAAAAACAIEAzMzMzM7MpQEjhehSuRy5AXI/C9ShcEkAK16NwPQooQM3MzMzMzDNAhetRuB5FM0CuR+F6FK4TQBSuR+F6FPo/CtejcD0KMkBmZmZmZmYzQGZmZmZmZjBAhetRuB4FKED2KFyPwnUyQK5H4XoULipAhetRuB6F8z+4HoXrUbgkQD0K16NwPRFApHA9CtejKkCamZmZmRkwQLgehetROCxAuB6F61G4BkDXo3A9ChcwQM3MzMzMDDBAPQrXo3C9KkBSuB6F61EkQIXrUbgehRhA16NwPQrXE0AAAAAAAAAIQNejcD0K1wFA9ihcj8L1MUAzMzMzMzMfQM3MzMzMzCVAXI/C9ShcCUBI4XoUrsciQHE9CtejcDFAKVyPwvUoCEA9CtejcP0zQLgehetRODBA7FG4HoXrBUD2KFyPwvUWQAAAAAAAgCNAPQrXo3A9L0AK16NwPYowQFyPwvUoXB9AcT0K16NwMUApXI/C9SgmQFyPwvUonDFAj8L1KFyPIECkcD0K16MuQKRwPQrXow5AAAAAAAAACkAAAAAAAMAzQOF6FK5HYS5A16NwPQrXIUDhehSuR6EyQHsUrkfheilA4XoUrkchMkDD9Shcj8IDQGZmZmZmJjJA16NwPQrX+z8pXI/C9SgXQAAAAAAAABdAKVyPwvVoMUAzMzMzMzPzP6RwPQrXIyBAFK5H4XoU/j8K16NwPQrnP+F6FK5HYSxAexSuR+G6MEBI4XoUrocyQEjhehSuRxFAMzMzMzMzK0D2KFyPwnUyQK5H4XoUrh5A9ihcj8J1IEDhehSuR+EqQBSuR+F6FC5A7FG4HoXrHUC4HoXrUTgkQMP1KFyPwiVAcT0K16PwK0DXo3A9CtcLQPYoXI/CdSVAuB6F61G4FEBxPQrXo/AgQEjhehSuRy9AZmZmZmbmJUAK16NwPUozQLgehetRuARA16NwPQrXD0A9CtejcD0YQOF6FK5H4RpACtejcD0KM0CPwvUoXI8sQMP1KFyPQjBAAAAAAAAAEUCF61G4HoUoQI/C9ShczzNAMzMzMzMzMkAzMzMzM7MpQKRwPQrXoxtASOF6FK5HI0BI4XoUrkcjQD0K16NwPQJArkfhehSuLkDD9Shcj8IJQOxRuB6FayNArkfhehQuMUAzMzMzMzMVQAAAAAAAACRAAAAAAACAJUB7FK5H4foiQPYoXI/C9RxA16NwPQoXMECPwvUoXA8vQClcj8L1aDNAPQrXo3A9MUApXI/C9agmQHsUrkfhOjJAuB6F61G48j9SuB6F61EVQI/C9ShcjxBAKVyPwvUoAEDsUbgehessQOF6FK5H4Q5ArkfhehQuKUDD9Shcj8LxP7gehetROCJAhetRuB7FMkCamZmZmVkwQOF6FK5H4RhAH4XrUbgeH0ApXI/C9SjsP65H4XoUbjBAFK5H4XoUIEBmZmZmZqYyQOxRuB6F6xZA16NwPQrXKEDhehSuR+EAQB+F61G4njJAXI/C9SicMUA9CtejcD0lQBSuR+F61DJApHA9CtcjLEAUrkfhepQiQKRwPQrXo/Q/UrgehetREEAfhetRuB4zQK5H4XoU7jFApHA9CtejAkBxPQrXo3AJQIXrUbgehf8/zczMzMzMGEBSuB6F61HwPzMzMzMzMxVArkfhehSuIkCuR+F6FC4kQDMzMzMzsy5AH4XrUbgeMUCF61G4HoUPQIXrUbgeBTJAUrgehevRLEDhehSuR+EmQPYoXI/CdS5AMzMzMzMz/z/hehSuR+EeQI/C9ShcjydAMzMzMzMzC0AfhetRuB4BQBSuR+F6FCRAcT0K16NwLUCamZmZmZkNQHsUrkfhujNAKVyPwvWoJUDNzMzMzEwwQOxRuB6F6xdA7FG4HoXrF0CPwvUoXI8QQK5H4XoUrjBAcT0K16OwMkBxPQrXo3AyQAAAAAAAACpAMzMzMzNzMEDsUbgehSswQOF6FK5H4TFA7FG4HoXrFEBI4XoUrkcRQK5H4XoULiJA16NwPQpXKUCamZmZmZn9PwrXo3A9Ch5AUrgehetRGkBmZmZmZmYpQD0K16NwPR1AZmZmZmZmIkBxPQrXo3AkQM3MzMzMTCBAuB6F61E4JUDsUbgeheseQClcj8L1qDNAUrgehetRLUD2KFyPwnUjQArXo3A9Ci1AuB6F61G4F0DD9Shcj8ITQMP1KFyPwidAKVyPwvVoM0BxPQrXo3ANQB+F61G4HiZAZmZmZmZmJECuR+F6FK7nP+xRuB6Fay5Aw/UoXI/CHkDsUbgehWsmQLgehetRuBhArkfhehSuBUDsUbgehesLQBSuR+F6lCJAuB6F61G45j9I4XoUrkcVQGZmZmZmZhBArkfhehSuK0AzMzMzMzMPQJqZmZmZmTJAw/UoXI/CLUAK16NwPQoNQMP1KFyPwglAhetRuB4FJ0C4HoXrUbgzQClcj8L1KCZAmpmZmZmZD0ApXI/C9SgdQJqZmZmZmSRA9ihcj8J1JUBI4XoUrkcxQD0K16NwvSpAuB6F61G4JkBSuB6F61EeQIXrUbgehRhAj8L1KFyPAkA9CtejcH0xQArXo3A9Cvs/FK5H4XoUEkCamZmZmZkcQLgehetRuCVAw/UoXI/CL0BmZmZmZmYjQGZmZmZm5i1AuB6F61G4JkBI4XoUrkcoQI/C9ShcTzBAZmZmZmZmLUDXo3A9CtcqQJqZmZmZmR9AMzMzMzOzLkA9CtejcD0uQD0K16NwPeo/uB6F61G4GUBSuB6F61EhQFK4HoXrUSZAhetRuB7FMkBcj8L1KFwXQClcj8L1KPA/XI/C9ShcD0AK16NwPYopQKRwPQrXowJAXI/C9ShcB0AzMzMzM7MqQArXo3A9ChVAj8L1KFyPEUDXo3A9ClchQEjhehSuhzBAcT0K16PwKkBcj8L1KNwyQB+F61G4nilAMzMzMzMzA0DD9Shcj8IdQD0K16NwPf4/SOF6FK5HM0ApXI/C9SgZQPYoXI/C9fw/16NwPQrX+z/hehSuR+EqQHE9CtejcBxAAAAAAAAAEkAfhetRuJ4gQB+F61G4XjBAj8L1KFyPI0CF61G4HoUTQClcj8L1KBZAFK5H4XoUJ0AzMzMzM7MpQD0K16NwPRZApHA9CtejCkDD9Shcj8ILQIXrUbgeBShA9ihcj8L1L0AfhetRuB4NQLgehetReDNAhetRuB4FL0DXo3A9CtckQM3MzMzMzC9A16NwPQpXLkA9CtejcD0GQK5H4XoUrv8/j8L1KFwPLEB7FK5H4XoAQArXo3A9CiZAMzMzMzPzMUCuR+F6FK4UQB+F61G4njBAuB6F61G45j/hehSuR+EqQDMzMzMzMypAPQrXo3A9M0BmZmZmZmYVQHE9CtejcChAzczMzMyMMkDD9Shcj8IZQArXo3A9iiFAcT0K16PwJUC4HoXrUbgaQFyPwvUo3ClA9ihcj8L1H0CPwvUoXI8vQGZmZmZm5iNAcT0K16PwKkBxPQrXozAxQNejcD0K1wlAUrgehetR9D/Xo3A9CtcSQKRwPQrXoylA9ihcj8I1MkCF61G4HgUjQHsUrkfheuw/9ihcj8L1FEBI4XoUrkclQPYoXI/CdSpASOF6FK4HM0CamZmZmZkkQEjhehSuxyhAzczMzMzMMkBI4XoUrscwQGZmZmZmZh9Aw/UoXI9CJ0AzMzMzMzMfQMP1KFyPwidASOF6FK7HLUBxPQrXo3AwQDMzMzMzMwVAw/UoXI8CMkCkcD0K16MkQHsUrkfhehlA7FG4HoXrDUA9CtejcP0xQOxRuB6F6ytAhetRuB4FMEAUrkfhehQeQBSuR+F6FARAzczMzMzMGkBcj8L1KJwxQDMzMzMzMw1ACtejcD2KLEAzMzMzM7MhQHsUrkfheiJAMzMzMzOzM0C4HoXrUTgnQHE9CtejcDBA16NwPQpXIUCPwvUoXI8UQOxRuB6F6yRA7FG4HoXrFEAzMzMzM7MkQClcj8L1KBBASOF6FK5HBUBcj8L1KJwxQPYoXI/C9SBAj8L1KFwPMUAfhetRuB4bQAAAAAAAACJAexSuR+F6KUC4HoXrUbgyQNejcD0K1wlAH4XrUbgeKUAAAAAAAADwP65H4XoUrgtAAAAAAAAAGEAUrkfhepQtQM3MzMzMTC1AZmZmZmZmLEApXI/C9SgcQD0K16NwvTNAw/UoXI/CJ0DhehSuR6EyQJqZmZmZmSFAAAAAAACAJ0AzMzMzM/MyQGZmZmZmZh5APQrXo3D9MUCkcD0K16MrQI/C9ShcDy9Aw/UoXI/CD0AzMzMzMzMkQPYoXI/CNTJAcT0K16NwBUAK16NwPQoPQEjhehSuxy9A7FG4HoXrGkAAAAAAAADoPxSuR+F6lCtAFK5H4XrUMkA9CtejcD0nQB+F61G4HhRAKVyPwvUoLkD2KFyPwvUkQEjhehSuRx9AexSuR+H6MEApXI/C9agtQK5H4XoUrhZAFK5H4XpUMkD2KFyPwnUxQHE9CtejcPU/FK5H4XoU9j9cj8L1KFwNQHE9CtejcB9A9ihcj8L1IUAzMzMzM7MpQClcj8L16DFArkfhehQuLkDhehSuR+EQQClcj8L1qChAH4XrUbjeMUBI4XoUrkcBQOF6FK5H4QhAuB6F61G49j9SuB6F65EyQMP1KFyPgjFAXI/C9ShcG0DXo3A9ClcyQBSuR+F6FAxAZmZmZmZmLUCamZmZmdkwQMP1KFyPQjBAmpmZmZkZM0DsUbgehWsrQNejcD0K1yFAKVyPwvUoLUDsUbgehWsjQHE9Ctej8DNAH4XrUbgeEkBmZmZmZmYlQMP1KFyPQiRA9ihcj8L16D/Xo3A9CtcyQClcj8L1KC5AUrgehetRMUA9CtejcD0bQFK4HoXrUQZA4XoUrkfhJkCF61G4HoUDQNejcD0K1wNAAAAAAAAAH0AzMzMzMzPrPz0K16NwvSFAPQrXo3C9LkAUrkfhepQkQB+F61G4Hi5AUrgehetRDECuR+F6FK4cQHsUrkfhehJAH4XrUbgeFkB7FK5H4XopQB+F61G4HiJArkfhehSuBUDsUbgeheswQBSuR+F6FCtAAAAAAAAA8D8K16NwPYohQMP1KFyPAjBAw/UoXI9CKUCuR+F6FC4gQClcj8L1KBpASOF6FK5HJUBSuB6F61H8PwAAAAAAACpAKVyPwvWoKUAK16NwPQoqQKRwPQrX4zJAj8L1KFwPJUAK16NwPQoUQAAAAAAAADBAXI/C9SjcMUDsUbgehesHQOF6FK5HYTBAXI/C9ShcGEC4HoXrUTgrQAAAAAAAACFAmpmZmZkZIUAzMzMzMzMQQAAAAAAAgDNAXI/C9ShcHkApXI/C9agwQClcj8L1aDNAexSuR+F6K0B7FK5H4XrkPzMzMzMzMyhArkfhehQuKECkcD0K16MnQB+F61G4HhVA7FG4HoXrF0BxPQrXo3AHQDMzMzMzMxBAuB6F61E4K0AK16NwPQoHQKRwPQrXoxdAAAAAAAAAGEApXI/C9agmQIXrUbgeBS5AZmZmZmZmG0Bcj8L1KNwnQFK4HoXr0TJAexSuR+F68D9xPQrXo3AsQK5H4XoULjJAAAAAAACALUBmZmZmZmYnQFyPwvUoXCVAKVyPwvUo+D+F61G4HgUgQNejcD0K1wlAUrgehetRKkC4HoXrUTgkQKRwPQrXYzJAPQrXo3A9JUD2KFyPwnUlQOxRuB6F6xhAH4XrUbgeAUApXI/C9agpQD0K16NwvSBAhetRuB6FDUCamZmZmRkyQD0K16NwPRxACtejcD0K/z/hehSuR+HiP8P1KFyPAjFAcT0K16NwFUAAAAAAAAAoQHsUrkfhOjBACtejcD0KM0AUrkfhelQyQKRwPQrXowRAmpmZmZmZEkAUrkfhelQxQMP1KFyPwuU/FK5H4XpUM0Bcj8L1KFwLQIXrUbgeBTNAj8L1KFzPMUBcj8L1KFwFQD0K16NwPTNAUrgehevRLEBI4XoUrkcDQHsUrkfh+jFAXI/C9ShcHUCF61G4HgUpQOF6FK5H4RNAmpmZmZkZM0CPwvUoXI8SQKRwPQrXIyxAUrgehetRDkCuR+F6FK4PQI/C9ShcTzJACtejcD0KG0BSuB6F61HoPz0K16NwPRdAKVyPwvUoKEAfhetRuB75P0jhehSuxydAFK5H4XoUHEAzMzMzM7MrQKRwPQrXoyJA4XoUrkfhHkDNzMzMzEwgQFK4HoXrUQxASOF6FK5HCUDNzMzMzEwnQOF6FK5H4RRApHA9CtejFUDD9Shcj8IjQFyPwvUo3DNAH4XrUbgeFkDsUbgehesoQBSuR+F6FPY/FK5H4XqUJUD2KFyPwnUsQFyPwvUoXPM/MzMzMzMzJkCamZmZmRkxQMP1KFyPwglAhetRuB5FM0CPwvUoXI8GQK5H4XoUrh5AUrgehesRMEDhehSuR+EfQAAAAAAAADJA7FG4HoUrMEC4HoXrUbgtQFyPwvUoXCdArkfhehQuKUDsUbgeheshQMP1KFyPgjBAw/UoXI8CMEA9CtejcL0zQEjhehSuRyFAhetRuB6FFEAfhetRuB4XQM3MzMzMzARAuB6F61G4AkBcj8L1KNwpQJqZmZmZmfk/w/UoXI/CHUBI4XoUrscsQEjhehSuRxhAuB6F61H4MUBI4XoUrocxQFyPwvUo3ChASOF6FK7HJUB7FK5H4XoRQAAAAAAAACFASOF6FK5HMEA9CtejcD0vQNejcD0KVyxAhetRuB6FGkA=",
          "dtype": "f8"
         },
         "xaxis": "x",
         "yaxis": "y"
        },
        {
         "marker": {
          "color": "rgb(204, 102, 119)"
         },
         "name": "Preparation_Time_min",
         "type": "histogram",
         "x": {
          "bdata": "DBQcBRAIDAUUHQ0dDAwKDwUGBhocEBobFw8LEgsKCBQWGxsQFhIZDggZDwUPEA4TFxUIGRQICgoaFBALEQsVERoQHQ0OGwUFEBAGCRQOFw0LFx0GFxcaDhUMGw4HEQwIGgwIEhwOFQ8SGBgRFgoYDwwUGBETGRwLCBkIGRgIHBkUDhMJCwgYCAoPGQoSDAkNBwUKDhEOCxkKCQcMCQkZGQcbEhoRDhIRExcUCBoUDwcFGwYVCxAbERYYCQ4OChAGCBwQFgYaBQ0PGwoTCRsYGBkKCQ4JChsQDhMPFQsdGRUPCw0TEhQNFAUdHAwTDwkIFBYFDhwKERAOGhkTFBwIGgcPFgoHCxoMDgkcHBYMDhcFFB0JFAcPHA4ZDQYHFQsJFAkRCxgVHBkZFhkLERERGx0MCQkaCw8QCBQGDRsUCgwGDwgGDRwbBRwFDg4OCxcTEBcRBg8VHAwdGA4KDhQGDhgVEgsOCRQYFA0cGwYdGBcPExoHDgwYCBcMBR0RDgcJGhAYHA0LEQoWCh0OGgsGERUZFxEWEg0WFxkHFxAVHREbHRkGGQsSFRYLCBoHFBgVGAkJCQgVCRMJER0YFRcNDgkGCRgUCQcNEwoIGxcQBRQbGw4bCg4bEg4IDR0GCBccFRoLERkbEB0XHAsVDRYTGBAQGRsNGxMHHBwbEwcIEAoHBwgdBhUcBwYQCgcXGhMMCBQGEAsaCxIMDxwICAwOFRUJFxsWGQodExEGBwobDRYaCRUMER0TBR0aGxwdBxAGEg0UEBcJBhERHRsSEhkcChYHBRscHAsMGxwQCBMZFxsLEQ8KEQYNBgwOGAYWBQ4SCR0VDxURFBYJGA4cDBQYExIMGwYNFQoXFxYbFAYaEhocCgUTGBgaFRAQChwTGRUWERYWEB0aGQkcCRgPCxIOGwoZEgwVBwsRGRQcBhoJGgsUCB0OFxYHHREFFgwODhgdEwUFFBEQFwUdGAsIEBMIDBcZFwcOEAkLCRIdDBEHFhwYFAwTEQsQFBoGCRsQCxUaExEFEAkPFQoLBQkRGgoQCxMLBQYJDQkWFgYGFBAHHQoVGBAPGRYWBhEbGRYKFxsaEggWCxkdChcXDg0UFQkTDxkWFwcIChEaBhcLGQwcCBYKDg4ZBQYWGQoNEAkGBxoOHBUSEB0VBgoLDRgbFhgTDBAdFR0PEAcFExkRChEOGggZGQsYFgcUGRMNCAgaChUcCxkGDBMZFQwdBwsWFREaEA8FFhIREg8KDRcZBxoOEBAcFx0YExoRCQoOEQcMFwoGGBcWEhkTHQoWEAkWDA8ZCgYHDAsdEAsQCBQOGwYSHA4NBwYNCBoIGA==",
          "dtype": "i1"
         },
         "xaxis": "x2",
         "yaxis": "y2"
        },
        {
         "marker": {
          "color": "rgb(221, 204, 119)"
         },
         "name": "Courier_Experience_yrs",
         "type": "histogram",
         "x": {
          "bdata": "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",
          "dtype": "f8"
         },
         "xaxis": "x3",
         "yaxis": "y3"
        },
        {
         "marker": {
          "color": "rgb(17, 119, 51)"
         },
         "name": "Delivery_Time_min",
         "type": "histogram",
         "x": {
          "bdata": "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",
          "dtype": "i2"
         },
         "xaxis": "x4",
         "yaxis": "y4"
        }
       ],
       "layout": {
        "annotations": [
         {
          "font": {
           "size": 16
          },
          "showarrow": false,
          "text": "Distance_km",
          "x": 0.225,
          "xanchor": "center",
          "xref": "paper",
          "y": 1,
          "yanchor": "bottom",
          "yref": "paper"
         },
         {
          "font": {
           "size": 16
          },
          "showarrow": false,
          "text": "Preparation_Time_min",
          "x": 0.775,
          "xanchor": "center",
          "xref": "paper",
          "y": 1,
          "yanchor": "bottom",
          "yref": "paper"
         },
         {
          "font": {
           "size": 16
          },
          "showarrow": false,
          "text": "Courier_Experience_yrs",
          "x": 0.225,
          "xanchor": "center",
          "xref": "paper",
          "y": 0.375,
          "yanchor": "bottom",
          "yref": "paper"
         },
         {
          "font": {
           "size": 16
          },
          "showarrow": false,
          "text": "Delivery_Time_min",
          "x": 0.775,
          "xanchor": "center",
          "xref": "paper",
          "y": 0.375,
          "yanchor": "bottom",
          "yref": "paper"
         }
        ],
        "height": 600,
        "showlegend": false,
        "template": {
         "data": {
          "bar": [
           {
            "error_x": {
             "color": "#f2f5fa"
            },
            "error_y": {
             "color": "#f2f5fa"
            },
            "marker": {
             "line": {
              "color": "rgb(17,17,17)",
              "width": 0.5
             },
             "pattern": {
              "fillmode": "overlay",
              "size": 10,
              "solidity": 0.2
             }
            },
            "type": "bar"
           }
          ],
          "barpolar": [
           {
            "marker": {
             "line": {
              "color": "rgb(17,17,17)",
              "width": 0.5
             },
             "pattern": {
              "fillmode": "overlay",
              "size": 10,
              "solidity": 0.2
             }
            },
            "type": "barpolar"
           }
          ],
          "carpet": [
           {
            "aaxis": {
             "endlinecolor": "#A2B1C6",
             "gridcolor": "#506784",
             "linecolor": "#506784",
             "minorgridcolor": "#506784",
             "startlinecolor": "#A2B1C6"
            },
            "baxis": {
             "endlinecolor": "#A2B1C6",
             "gridcolor": "#506784",
             "linecolor": "#506784",
             "minorgridcolor": "#506784",
             "startlinecolor": "#A2B1C6"
            },
            "type": "carpet"
           }
          ],
          "choropleth": [
           {
            "colorbar": {
             "outlinewidth": 0,
             "ticks": ""
            },
            "type": "choropleth"
           }
          ],
          "contour": [
           {
            "colorbar": {
             "outlinewidth": 0,
             "ticks": ""
            },
            "colorscale": [
             [
              0,
              "#0d0887"
             ],
             [
              0.1111111111111111,
              "#46039f"
             ],
             [
              0.2222222222222222,
              "#7201a8"
             ],
             [
              0.3333333333333333,
              "#9c179e"
             ],
             [
              0.4444444444444444,
              "#bd3786"
             ],
             [
              0.5555555555555556,
              "#d8576b"
             ],
             [
              0.6666666666666666,
              "#ed7953"
             ],
             [
              0.7777777777777778,
              "#fb9f3a"
             ],
             [
              0.8888888888888888,
              "#fdca26"
             ],
             [
              1,
              "#f0f921"
             ]
            ],
            "type": "contour"
           }
          ],
          "contourcarpet": [
           {
            "colorbar": {
             "outlinewidth": 0,
             "ticks": ""
            },
            "type": "contourcarpet"
           }
          ],
          "heatmap": [
           {
            "colorbar": {
             "outlinewidth": 0,
             "ticks": ""
            },
            "colorscale": [
             [
              0,
              "#0d0887"
             ],
             [
              0.1111111111111111,
              "#46039f"
             ],
             [
              0.2222222222222222,
              "#7201a8"
             ],
             [
              0.3333333333333333,
              "#9c179e"
             ],
             [
              0.4444444444444444,
              "#bd3786"
             ],
             [
              0.5555555555555556,
              "#d8576b"
             ],
             [
              0.6666666666666666,
              "#ed7953"
             ],
             [
              0.7777777777777778,
              "#fb9f3a"
             ],
             [
              0.8888888888888888,
              "#fdca26"
             ],
             [
              1,
              "#f0f921"
             ]
            ],
            "type": "heatmap"
           }
          ],
          "histogram": [
           {
            "marker": {
             "pattern": {
              "fillmode": "overlay",
              "size": 10,
              "solidity": 0.2
             }
            },
            "type": "histogram"
           }
          ],
          "histogram2d": [
           {
            "colorbar": {
             "outlinewidth": 0,
             "ticks": ""
            },
            "colorscale": [
             [
              0,
              "#0d0887"
             ],
             [
              0.1111111111111111,
              "#46039f"
             ],
             [
              0.2222222222222222,
              "#7201a8"
             ],
             [
              0.3333333333333333,
              "#9c179e"
             ],
             [
              0.4444444444444444,
              "#bd3786"
             ],
             [
              0.5555555555555556,
              "#d8576b"
             ],
             [
              0.6666666666666666,
              "#ed7953"
             ],
             [
              0.7777777777777778,
              "#fb9f3a"
             ],
             [
              0.8888888888888888,
              "#fdca26"
             ],
             [
              1,
              "#f0f921"
             ]
            ],
            "type": "histogram2d"
           }
          ],
          "histogram2dcontour": [
           {
            "colorbar": {
             "outlinewidth": 0,
             "ticks": ""
            },
            "colorscale": [
             [
              0,
              "#0d0887"
             ],
             [
              0.1111111111111111,
              "#46039f"
             ],
             [
              0.2222222222222222,
              "#7201a8"
             ],
             [
              0.3333333333333333,
              "#9c179e"
             ],
             [
              0.4444444444444444,
              "#bd3786"
             ],
             [
              0.5555555555555556,
              "#d8576b"
             ],
             [
              0.6666666666666666,
              "#ed7953"
             ],
             [
              0.7777777777777778,
              "#fb9f3a"
             ],
             [
              0.8888888888888888,
              "#fdca26"
             ],
             [
              1,
              "#f0f921"
             ]
            ],
            "type": "histogram2dcontour"
           }
          ],
          "mesh3d": [
           {
            "colorbar": {
             "outlinewidth": 0,
             "ticks": ""
            },
            "type": "mesh3d"
           }
          ],
          "parcoords": [
           {
            "line": {
             "colorbar": {
              "outlinewidth": 0,
              "ticks": ""
             }
            },
            "type": "parcoords"
           }
          ],
          "pie": [
           {
            "automargin": true,
            "type": "pie"
           }
          ],
          "scatter": [
           {
            "marker": {
             "line": {
              "color": "#283442"
             }
            },
            "type": "scatter"
           }
          ],
          "scatter3d": [
           {
            "line": {
             "colorbar": {
              "outlinewidth": 0,
              "ticks": ""
             }
            },
            "marker": {
             "colorbar": {
              "outlinewidth": 0,
              "ticks": ""
             }
            },
            "type": "scatter3d"
           }
          ],
          "scattercarpet": [
           {
            "marker": {
             "colorbar": {
              "outlinewidth": 0,
              "ticks": ""
             }
            },
            "type": "scattercarpet"
           }
          ],
          "scattergeo": [
           {
            "marker": {
             "colorbar": {
              "outlinewidth": 0,
              "ticks": ""
             }
            },
            "type": "scattergeo"
           }
          ],
          "scattergl": [
           {
            "marker": {
             "line": {
              "color": "#283442"
             }
            },
            "type": "scattergl"
           }
          ],
          "scattermap": [
           {
            "marker": {
             "colorbar": {
              "outlinewidth": 0,
              "ticks": ""
             }
            },
            "type": "scattermap"
           }
          ],
          "scattermapbox": [
           {
            "marker": {
             "colorbar": {
              "outlinewidth": 0,
              "ticks": ""
             }
            },
            "type": "scattermapbox"
           }
          ],
          "scatterpolar": [
           {
            "marker": {
             "colorbar": {
              "outlinewidth": 0,
              "ticks": ""
             }
            },
            "type": "scatterpolar"
           }
          ],
          "scatterpolargl": [
           {
            "marker": {
             "colorbar": {
              "outlinewidth": 0,
              "ticks": ""
             }
            },
            "type": "scatterpolargl"
           }
          ],
          "scatterternary": [
           {
            "marker": {
             "colorbar": {
              "outlinewidth": 0,
              "ticks": ""
             }
            },
            "type": "scatterternary"
           }
          ],
          "surface": [
           {
            "colorbar": {
             "outlinewidth": 0,
             "ticks": ""
            },
            "colorscale": [
             [
              0,
              "#0d0887"
             ],
             [
              0.1111111111111111,
              "#46039f"
             ],
             [
              0.2222222222222222,
              "#7201a8"
             ],
             [
              0.3333333333333333,
              "#9c179e"
             ],
             [
              0.4444444444444444,
              "#bd3786"
             ],
             [
              0.5555555555555556,
              "#d8576b"
             ],
             [
              0.6666666666666666,
              "#ed7953"
             ],
             [
              0.7777777777777778,
              "#fb9f3a"
             ],
             [
              0.8888888888888888,
              "#fdca26"
             ],
             [
              1,
              "#f0f921"
             ]
            ],
            "type": "surface"
           }
          ],
          "table": [
           {
            "cells": {
             "fill": {
              "color": "#506784"
             },
             "line": {
              "color": "rgb(17,17,17)"
             }
            },
            "header": {
             "fill": {
              "color": "#2a3f5f"
             },
             "line": {
              "color": "rgb(17,17,17)"
             }
            },
            "type": "table"
           }
          ]
         },
         "layout": {
          "annotationdefaults": {
           "arrowcolor": "#f2f5fa",
           "arrowhead": 0,
           "arrowwidth": 1
          },
          "autotypenumbers": "strict",
          "coloraxis": {
           "colorbar": {
            "outlinewidth": 0,
            "ticks": ""
           }
          },
          "colorscale": {
           "diverging": [
            [
             0,
             "#8e0152"
            ],
            [
             0.1,
             "#c51b7d"
            ],
            [
             0.2,
             "#de77ae"
            ],
            [
             0.3,
             "#f1b6da"
            ],
            [
             0.4,
             "#fde0ef"
            ],
            [
             0.5,
             "#f7f7f7"
            ],
            [
             0.6,
             "#e6f5d0"
            ],
            [
             0.7,
             "#b8e186"
            ],
            [
             0.8,
             "#7fbc41"
            ],
            [
             0.9,
             "#4d9221"
            ],
            [
             1,
             "#276419"
            ]
           ],
           "sequential": [
            [
             0,
             "#0d0887"
            ],
            [
             0.1111111111111111,
             "#46039f"
            ],
            [
             0.2222222222222222,
             "#7201a8"
            ],
            [
             0.3333333333333333,
             "#9c179e"
            ],
            [
             0.4444444444444444,
             "#bd3786"
            ],
            [
             0.5555555555555556,
             "#d8576b"
            ],
            [
             0.6666666666666666,
             "#ed7953"
            ],
            [
             0.7777777777777778,
             "#fb9f3a"
            ],
            [
             0.8888888888888888,
             "#fdca26"
            ],
            [
             1,
             "#f0f921"
            ]
           ],
           "sequentialminus": [
            [
             0,
             "#0d0887"
            ],
            [
             0.1111111111111111,
             "#46039f"
            ],
            [
             0.2222222222222222,
             "#7201a8"
            ],
            [
             0.3333333333333333,
             "#9c179e"
            ],
            [
             0.4444444444444444,
             "#bd3786"
            ],
            [
             0.5555555555555556,
             "#d8576b"
            ],
            [
             0.6666666666666666,
             "#ed7953"
            ],
            [
             0.7777777777777778,
             "#fb9f3a"
            ],
            [
             0.8888888888888888,
             "#fdca26"
            ],
            [
             1,
             "#f0f921"
            ]
           ]
          },
          "colorway": [
           "#636efa",
           "#EF553B",
           "#00cc96",
           "#ab63fa",
           "#FFA15A",
           "#19d3f3",
           "#FF6692",
           "#B6E880",
           "#FF97FF",
           "#FECB52"
          ],
          "font": {
           "color": "#f2f5fa"
          },
          "geo": {
           "bgcolor": "rgb(17,17,17)",
           "lakecolor": "rgb(17,17,17)",
           "landcolor": "rgb(17,17,17)",
           "showlakes": true,
           "showland": true,
           "subunitcolor": "#506784"
          },
          "hoverlabel": {
           "align": "left"
          },
          "hovermode": "closest",
          "mapbox": {
           "style": "dark"
          },
          "paper_bgcolor": "rgb(17,17,17)",
          "plot_bgcolor": "rgb(17,17,17)",
          "polar": {
           "angularaxis": {
            "gridcolor": "#506784",
            "linecolor": "#506784",
            "ticks": ""
           },
           "bgcolor": "rgb(17,17,17)",
           "radialaxis": {
            "gridcolor": "#506784",
            "linecolor": "#506784",
            "ticks": ""
           }
          },
          "scene": {
           "xaxis": {
            "backgroundcolor": "rgb(17,17,17)",
            "gridcolor": "#506784",
            "gridwidth": 2,
            "linecolor": "#506784",
            "showbackground": true,
            "ticks": "",
            "zerolinecolor": "#C8D4E3"
           },
           "yaxis": {
            "backgroundcolor": "rgb(17,17,17)",
            "gridcolor": "#506784",
            "gridwidth": 2,
            "linecolor": "#506784",
            "showbackground": true,
            "ticks": "",
            "zerolinecolor": "#C8D4E3"
           },
           "zaxis": {
            "backgroundcolor": "rgb(17,17,17)",
            "gridcolor": "#506784",
            "gridwidth": 2,
            "linecolor": "#506784",
            "showbackground": true,
            "ticks": "",
            "zerolinecolor": "#C8D4E3"
           }
          },
          "shapedefaults": {
           "line": {
            "color": "#f2f5fa"
           }
          },
          "sliderdefaults": {
           "bgcolor": "#C8D4E3",
           "bordercolor": "rgb(17,17,17)",
           "borderwidth": 1,
           "tickwidth": 0
          },
          "ternary": {
           "aaxis": {
            "gridcolor": "#506784",
            "linecolor": "#506784",
            "ticks": ""
           },
           "baxis": {
            "gridcolor": "#506784",
            "linecolor": "#506784",
            "ticks": ""
           },
           "bgcolor": "rgb(17,17,17)",
           "caxis": {
            "gridcolor": "#506784",
            "linecolor": "#506784",
            "ticks": ""
           }
          },
          "title": {
           "x": 0.05
          },
          "updatemenudefaults": {
           "bgcolor": "#506784",
           "borderwidth": 0
          },
          "xaxis": {
           "automargin": true,
           "gridcolor": "#283442",
           "linecolor": "#506784",
           "ticks": "",
           "title": {
            "standoff": 15
           },
           "zerolinecolor": "#283442",
           "zerolinewidth": 2
          },
          "yaxis": {
           "automargin": true,
           "gridcolor": "#283442",
           "linecolor": "#506784",
           "ticks": "",
           "title": {
            "standoff": 15
           },
           "zerolinecolor": "#283442",
           "zerolinewidth": 2
          }
         }
        },
        "title": {
         "text": "Distribution of Numerical Features"
        },
        "xaxis": {
         "anchor": "y",
         "categoryorder": "category ascending",
         "domain": [
          0,
          0.45
         ]
        },
        "xaxis2": {
         "anchor": "y2",
         "domain": [
          0.55,
          1
         ]
        },
        "xaxis3": {
         "anchor": "y3",
         "domain": [
          0,
          0.45
         ]
        },
        "xaxis4": {
         "anchor": "y4",
         "domain": [
          0.55,
          1
         ]
        },
        "yaxis": {
         "anchor": "x",
         "domain": [
          0.625,
          1
         ]
        },
        "yaxis2": {
         "anchor": "x2",
         "domain": [
          0.625,
          1
         ]
        },
        "yaxis3": {
         "anchor": "x3",
         "domain": [
          0,
          0.375
         ]
        },
        "yaxis4": {
         "anchor": "x4",
         "domain": [
          0,
          0.375
         ]
        }
       }
      }
     },
     "metadata": {},
     "output_type": "display_data"
    }
   ],
   "source": [
    "fig_dist = make_subplots(\n",
    "    rows = num_df.shape[1] // 2,\n",
    "    cols = 2,\n",
    "    subplot_titles = num_df.columns \n",
    ").update_layout(\n",
    "    title_text = \"Distribution of Numerical Features\",\n",
    "    showlegend = False,\n",
    "    xaxis={'categoryorder': 'category ascending'},\n",
    "    template = 'plotly_dark',\n",
    "    height = 600,\n",
    ")\n",
    "\n",
    "for i in range(num_df.shape[1]):\n",
    "    fig_dist.add_trace(\n",
    "        go.Histogram(\n",
    "            x = num_df.iloc[:, i],\n",
    "            name = num_df.columns[i],\n",
    "            marker_color = px.colors.qualitative.Safe[i]\n",
    "        ),\n",
    "        row = (i // 2) + 1,\n",
    "        col = (i % 2) + 1,\n",
    "    )\n",
    "\n",
    "fig_dist.show()"
   ]
  },
  {
   "cell_type": "code",
   "execution_count": 52,
   "id": "670315a9",
   "metadata": {},
   "outputs": [],
   "source": [
    "def kolmogorov_smirnov_test(data, dist_name, alpha = 0.05, verbose = False):\n",
    "    dist = getattr(stats, dist_name)\n",
    "    param = dist.fit(data)\n",
    "\n",
    "    D, p = stats.kstest(data, dist_name, args = param)\n",
    "    if verbose:\n",
    "        print(f'p-value for {dist_name} distribution = ' + str(p))\n",
    "        if p < alpha:\n",
    "            print(f'Reject null hypothesis at alpha = {alpha}. Data does not follow {dist_name} distribution.')\n",
    "        else:\n",
    "            print(f'Data follows {dist_name} distribution.')\n",
    "    return p"
   ]
  },
  {
   "cell_type": "code",
   "execution_count": 66,
   "id": "46f09008",
   "metadata": {},
   "outputs": [
    {
     "name": "stdout",
     "output_type": "stream",
     "text": [
      "Feature: Distance_km\n",
      "p-value for norm distribution = 0.0002072010235332123\n",
      "Reject null hypothesis at alpha = 0.05. Data does not follow norm distribution.\n",
      "p-value for uniform distribution = 0.20717998989270037\n",
      "Data follows uniform distribution.\n",
      "p-value for gamma distribution = 0.00020081517047715872\n",
      "Reject null hypothesis at alpha = 0.05. Data does not follow gamma distribution.\n",
      "---\n",
      "Feature: Preparation_Time_min\n",
      "p-value for norm distribution = 2.480592229228519e-07\n",
      "Reject null hypothesis at alpha = 0.05. Data does not follow norm distribution.\n",
      "p-value for uniform distribution = 0.05706939112023113\n",
      "Data follows uniform distribution.\n",
      "p-value for gamma distribution = 2.994200185671417e-07\n",
      "Reject null hypothesis at alpha = 0.05. Data does not follow gamma distribution.\n",
      "---\n",
      "Feature: Courier_Experience_yrs\n",
      "p-value for norm distribution = 2.8353579015889568e-12\n",
      "Reject null hypothesis at alpha = 0.05. Data does not follow norm distribution.\n",
      "p-value for uniform distribution = 6.274185660160615e-11\n",
      "Reject null hypothesis at alpha = 0.05. Data does not follow uniform distribution.\n",
      "p-value for gamma distribution = 3.2930115401828945e-12\n",
      "Reject null hypothesis at alpha = 0.05. Data does not follow gamma distribution.\n",
      "---\n",
      "Feature: Delivery_Time_min\n",
      "p-value for norm distribution = 0.01581691858228933\n",
      "Reject null hypothesis at alpha = 0.05. Data does not follow norm distribution.\n",
      "p-value for uniform distribution = 5.126206519127625e-125\n",
      "Reject null hypothesis at alpha = 0.05. Data does not follow uniform distribution.\n",
      "p-value for gamma distribution = 0.1071525033353069\n",
      "Data follows gamma distribution.\n",
      "---\n"
     ]
    }
   ],
   "source": [
    "for i in range(num_df.shape[1]):\n",
    "    print(f'Feature: {num_df.columns[i]}')\n",
    "\n",
    "    for dist_name in ['norm', 'uniform', 'gamma']:\n",
    "        kolmogorov_smirnov_test(num_df.iloc[:, i].dropna(), dist_name, verbose = True)\n",
    "    print('---')"
   ]
  },
  {
   "cell_type": "code",
   "execution_count": 34,
   "id": "d162e144",
   "metadata": {},
   "outputs": [
    {
     "data": {
      "application/vnd.plotly.v1+json": {
       "config": {
        "plotlyServerURL": "https://plot.ly"
       },
       "data": [
        {
         "marker": {
          "color": "rgb(136, 204, 238)"
         },
         "name": "Distance_km",
         "type": "box",
         "xaxis": "x",
         "y": {
          "bdata": "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",
          "dtype": "f8"
         },
         "yaxis": "y"
        },
        {
         "marker": {
          "color": "rgb(204, 102, 119)"
         },
         "name": "Preparation_Time_min",
         "type": "box",
         "xaxis": "x2",
         "y": {
          "bdata": "DBQcBRAIDAUUHQ0dDAwKDwUGBhocEBobFw8LEgsKCBQWGxsQFhIZDggZDwUPEA4TFxUIGRQICgoaFBALEQsVERoQHQ0OGwUFEBAGCRQOFw0LFx0GFxcaDhUMGw4HEQwIGgwIEhwOFQ8SGBgRFgoYDwwUGBETGRwLCBkIGRgIHBkUDhMJCwgYCAoPGQoSDAkNBwUKDhEOCxkKCQcMCQkZGQcbEhoRDhIRExcUCBoUDwcFGwYVCxAbERYYCQ4OChAGCBwQFgYaBQ0PGwoTCRsYGBkKCQ4JChsQDhMPFQsdGRUPCw0TEhQNFAUdHAwTDwkIFBYFDhwKERAOGhkTFBwIGgcPFgoHCxoMDgkcHBYMDhcFFB0JFAcPHA4ZDQYHFQsJFAkRCxgVHBkZFhkLERERGx0MCQkaCw8QCBQGDRsUCgwGDwgGDRwbBRwFDg4OCxcTEBcRBg8VHAwdGA4KDhQGDhgVEgsOCRQYFA0cGwYdGBcPExoHDgwYCBcMBR0RDgcJGhAYHA0LEQoWCh0OGgsGERUZFxEWEg0WFxkHFxAVHREbHRkGGQsSFRYLCBoHFBgVGAkJCQgVCRMJER0YFRcNDgkGCRgUCQcNEwoIGxcQBRQbGw4bCg4bEg4IDR0GCBccFRoLERkbEB0XHAsVDRYTGBAQGRsNGxMHHBwbEwcIEAoHBwgdBhUcBwYQCgcXGhMMCBQGEAsaCxIMDxwICAwOFRUJFxsWGQodExEGBwobDRYaCRUMER0TBR0aGxwdBxAGEg0UEBcJBhERHRsSEhkcChYHBRscHAsMGxwQCBMZFxsLEQ8KEQYNBgwOGAYWBQ4SCR0VDxURFBYJGA4cDBQYExIMGwYNFQoXFxYbFAYaEhocCgUTGBgaFRAQChwTGRUWERYWEB0aGQkcCRgPCxIOGwoZEgwVBwsRGRQcBhoJGgsUCB0OFxYHHREFFgwODhgdEwUFFBEQFwUdGAsIEBMIDBcZFwcOEAkLCRIdDBEHFhwYFAwTEQsQFBoGCRsQCxUaExEFEAkPFQoLBQkRGgoQCxMLBQYJDQkWFgYGFBAHHQoVGBAPGRYWBhEbGRYKFxsaEggWCxkdChcXDg0UFQkTDxkWFwcIChEaBhcLGQwcCBYKDg4ZBQYWGQoNEAkGBxoOHBUSEB0VBgoLDRgbFhgTDBAdFR0PEAcFExkRChEOGggZGQsYFgcUGRMNCAgaChUcCxkGDBMZFQwdBwsWFREaEA8FFhIREg8KDRcZBxoOEBAcFx0YExoRCQoOEQcMFwoGGBcWEhkTHQoWEAkWDA8ZCgYHDAsdEAsQCBQOGwYSHA4NBwYNCBoIGA==",
          "dtype": "i1"
         },
         "yaxis": "y2"
        },
        {
         "marker": {
          "color": "rgb(221, 204, 119)"
         },
         "name": "Courier_Experience_yrs",
         "type": "box",
         "xaxis": "x3",
         "y": {
          "bdata": "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",
          "dtype": "f8"
         },
         "yaxis": "y3"
        },
        {
         "marker": {
          "color": "rgb(17, 119, 51)"
         },
         "name": "Delivery_Time_min",
         "type": "box",
         "xaxis": "x4",
         "y": {
          "bdata": "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",
          "dtype": "i2"
         },
         "yaxis": "y4"
        }
       ],
       "layout": {
        "showlegend": false,
        "template": {
         "data": {
          "bar": [
           {
            "error_x": {
             "color": "#f2f5fa"
            },
            "error_y": {
             "color": "#f2f5fa"
            },
            "marker": {
             "line": {
              "color": "rgb(17,17,17)",
              "width": 0.5
             },
             "pattern": {
              "fillmode": "overlay",
              "size": 10,
              "solidity": 0.2
             }
            },
            "type": "bar"
           }
          ],
          "barpolar": [
           {
            "marker": {
             "line": {
              "color": "rgb(17,17,17)",
              "width": 0.5
             },
             "pattern": {
              "fillmode": "overlay",
              "size": 10,
              "solidity": 0.2
             }
            },
            "type": "barpolar"
           }
          ],
          "carpet": [
           {
            "aaxis": {
             "endlinecolor": "#A2B1C6",
             "gridcolor": "#506784",
             "linecolor": "#506784",
             "minorgridcolor": "#506784",
             "startlinecolor": "#A2B1C6"
            },
            "baxis": {
             "endlinecolor": "#A2B1C6",
             "gridcolor": "#506784",
             "linecolor": "#506784",
             "minorgridcolor": "#506784",
             "startlinecolor": "#A2B1C6"
            },
            "type": "carpet"
           }
          ],
          "choropleth": [
           {
            "colorbar": {
             "outlinewidth": 0,
             "ticks": ""
            },
            "type": "choropleth"
           }
          ],
          "contour": [
           {
            "colorbar": {
             "outlinewidth": 0,
             "ticks": ""
            },
            "colorscale": [
             [
              0,
              "#0d0887"
             ],
             [
              0.1111111111111111,
              "#46039f"
             ],
             [
              0.2222222222222222,
              "#7201a8"
             ],
             [
              0.3333333333333333,
              "#9c179e"
             ],
             [
              0.4444444444444444,
              "#bd3786"
             ],
             [
              0.5555555555555556,
              "#d8576b"
             ],
             [
              0.6666666666666666,
              "#ed7953"
             ],
             [
              0.7777777777777778,
              "#fb9f3a"
             ],
             [
              0.8888888888888888,
              "#fdca26"
             ],
             [
              1,
              "#f0f921"
             ]
            ],
            "type": "contour"
           }
          ],
          "contourcarpet": [
           {
            "colorbar": {
             "outlinewidth": 0,
             "ticks": ""
            },
            "type": "contourcarpet"
           }
          ],
          "heatmap": [
           {
            "colorbar": {
             "outlinewidth": 0,
             "ticks": ""
            },
            "colorscale": [
             [
              0,
              "#0d0887"
             ],
             [
              0.1111111111111111,
              "#46039f"
             ],
             [
              0.2222222222222222,
              "#7201a8"
             ],
             [
              0.3333333333333333,
              "#9c179e"
             ],
             [
              0.4444444444444444,
              "#bd3786"
             ],
             [
              0.5555555555555556,
              "#d8576b"
             ],
             [
              0.6666666666666666,
              "#ed7953"
             ],
             [
              0.7777777777777778,
              "#fb9f3a"
             ],
             [
              0.8888888888888888,
              "#fdca26"
             ],
             [
              1,
              "#f0f921"
             ]
            ],
            "type": "heatmap"
           }
          ],
          "histogram": [
           {
            "marker": {
             "pattern": {
              "fillmode": "overlay",
              "size": 10,
              "solidity": 0.2
             }
            },
            "type": "histogram"
           }
          ],
          "histogram2d": [
           {
            "colorbar": {
             "outlinewidth": 0,
             "ticks": ""
            },
            "colorscale": [
             [
              0,
              "#0d0887"
             ],
             [
              0.1111111111111111,
              "#46039f"
             ],
             [
              0.2222222222222222,
              "#7201a8"
             ],
             [
              0.3333333333333333,
              "#9c179e"
             ],
             [
              0.4444444444444444,
              "#bd3786"
             ],
             [
              0.5555555555555556,
              "#d8576b"
             ],
             [
              0.6666666666666666,
              "#ed7953"
             ],
             [
              0.7777777777777778,
              "#fb9f3a"
             ],
             [
              0.8888888888888888,
              "#fdca26"
             ],
             [
              1,
              "#f0f921"
             ]
            ],
            "type": "histogram2d"
           }
          ],
          "histogram2dcontour": [
           {
            "colorbar": {
             "outlinewidth": 0,
             "ticks": ""
            },
            "colorscale": [
             [
              0,
              "#0d0887"
             ],
             [
              0.1111111111111111,
              "#46039f"
             ],
             [
              0.2222222222222222,
              "#7201a8"
             ],
             [
              0.3333333333333333,
              "#9c179e"
             ],
             [
              0.4444444444444444,
              "#bd3786"
             ],
             [
              0.5555555555555556,
              "#d8576b"
             ],
             [
              0.6666666666666666,
              "#ed7953"
             ],
             [
              0.7777777777777778,
              "#fb9f3a"
             ],
             [
              0.8888888888888888,
              "#fdca26"
             ],
             [
              1,
              "#f0f921"
             ]
            ],
            "type": "histogram2dcontour"
           }
          ],
          "mesh3d": [
           {
            "colorbar": {
             "outlinewidth": 0,
             "ticks": ""
            },
            "type": "mesh3d"
           }
          ],
          "parcoords": [
           {
            "line": {
             "colorbar": {
              "outlinewidth": 0,
              "ticks": ""
             }
            },
            "type": "parcoords"
           }
          ],
          "pie": [
           {
            "automargin": true,
            "type": "pie"
           }
          ],
          "scatter": [
           {
            "marker": {
             "line": {
              "color": "#283442"
             }
            },
            "type": "scatter"
           }
          ],
          "scatter3d": [
           {
            "line": {
             "colorbar": {
              "outlinewidth": 0,
              "ticks": ""
             }
            },
            "marker": {
             "colorbar": {
              "outlinewidth": 0,
              "ticks": ""
             }
            },
            "type": "scatter3d"
           }
          ],
          "scattercarpet": [
           {
            "marker": {
             "colorbar": {
              "outlinewidth": 0,
              "ticks": ""
             }
            },
            "type": "scattercarpet"
           }
          ],
          "scattergeo": [
           {
            "marker": {
             "colorbar": {
              "outlinewidth": 0,
              "ticks": ""
             }
            },
            "type": "scattergeo"
           }
          ],
          "scattergl": [
           {
            "marker": {
             "line": {
              "color": "#283442"
             }
            },
            "type": "scattergl"
           }
          ],
          "scattermap": [
           {
            "marker": {
             "colorbar": {
              "outlinewidth": 0,
              "ticks": ""
             }
            },
            "type": "scattermap"
           }
          ],
          "scattermapbox": [
           {
            "marker": {
             "colorbar": {
              "outlinewidth": 0,
              "ticks": ""
             }
            },
            "type": "scattermapbox"
           }
          ],
          "scatterpolar": [
           {
            "marker": {
             "colorbar": {
              "outlinewidth": 0,
              "ticks": ""
             }
            },
            "type": "scatterpolar"
           }
          ],
          "scatterpolargl": [
           {
            "marker": {
             "colorbar": {
              "outlinewidth": 0,
              "ticks": ""
             }
            },
            "type": "scatterpolargl"
           }
          ],
          "scatterternary": [
           {
            "marker": {
             "colorbar": {
              "outlinewidth": 0,
              "ticks": ""
             }
            },
            "type": "scatterternary"
           }
          ],
          "surface": [
           {
            "colorbar": {
             "outlinewidth": 0,
             "ticks": ""
            },
            "colorscale": [
             [
              0,
              "#0d0887"
             ],
             [
              0.1111111111111111,
              "#46039f"
             ],
             [
              0.2222222222222222,
              "#7201a8"
             ],
             [
              0.3333333333333333,
              "#9c179e"
             ],
             [
              0.4444444444444444,
              "#bd3786"
             ],
             [
              0.5555555555555556,
              "#d8576b"
             ],
             [
              0.6666666666666666,
              "#ed7953"
             ],
             [
              0.7777777777777778,
              "#fb9f3a"
             ],
             [
              0.8888888888888888,
              "#fdca26"
             ],
             [
              1,
              "#f0f921"
             ]
            ],
            "type": "surface"
           }
          ],
          "table": [
           {
            "cells": {
             "fill": {
              "color": "#506784"
             },
             "line": {
              "color": "rgb(17,17,17)"
             }
            },
            "header": {
             "fill": {
              "color": "#2a3f5f"
             },
             "line": {
              "color": "rgb(17,17,17)"
             }
            },
            "type": "table"
           }
          ]
         },
         "layout": {
          "annotationdefaults": {
           "arrowcolor": "#f2f5fa",
           "arrowhead": 0,
           "arrowwidth": 1
          },
          "autotypenumbers": "strict",
          "coloraxis": {
           "colorbar": {
            "outlinewidth": 0,
            "ticks": ""
           }
          },
          "colorscale": {
           "diverging": [
            [
             0,
             "#8e0152"
            ],
            [
             0.1,
             "#c51b7d"
            ],
            [
             0.2,
             "#de77ae"
            ],
            [
             0.3,
             "#f1b6da"
            ],
            [
             0.4,
             "#fde0ef"
            ],
            [
             0.5,
             "#f7f7f7"
            ],
            [
             0.6,
             "#e6f5d0"
            ],
            [
             0.7,
             "#b8e186"
            ],
            [
             0.8,
             "#7fbc41"
            ],
            [
             0.9,
             "#4d9221"
            ],
            [
             1,
             "#276419"
            ]
           ],
           "sequential": [
            [
             0,
             "#0d0887"
            ],
            [
             0.1111111111111111,
             "#46039f"
            ],
            [
             0.2222222222222222,
             "#7201a8"
            ],
            [
             0.3333333333333333,
             "#9c179e"
            ],
            [
             0.4444444444444444,
             "#bd3786"
            ],
            [
             0.5555555555555556,
             "#d8576b"
            ],
            [
             0.6666666666666666,
             "#ed7953"
            ],
            [
             0.7777777777777778,
             "#fb9f3a"
            ],
            [
             0.8888888888888888,
             "#fdca26"
            ],
            [
             1,
             "#f0f921"
            ]
           ],
           "sequentialminus": [
            [
             0,
             "#0d0887"
            ],
            [
             0.1111111111111111,
             "#46039f"
            ],
            [
             0.2222222222222222,
             "#7201a8"
            ],
            [
             0.3333333333333333,
             "#9c179e"
            ],
            [
             0.4444444444444444,
             "#bd3786"
            ],
            [
             0.5555555555555556,
             "#d8576b"
            ],
            [
             0.6666666666666666,
             "#ed7953"
            ],
            [
             0.7777777777777778,
             "#fb9f3a"
            ],
            [
             0.8888888888888888,
             "#fdca26"
            ],
            [
             1,
             "#f0f921"
            ]
           ]
          },
          "colorway": [
           "#636efa",
           "#EF553B",
           "#00cc96",
           "#ab63fa",
           "#FFA15A",
           "#19d3f3",
           "#FF6692",
           "#B6E880",
           "#FF97FF",
           "#FECB52"
          ],
          "font": {
           "color": "#f2f5fa"
          },
          "geo": {
           "bgcolor": "rgb(17,17,17)",
           "lakecolor": "rgb(17,17,17)",
           "landcolor": "rgb(17,17,17)",
           "showlakes": true,
           "showland": true,
           "subunitcolor": "#506784"
          },
          "hoverlabel": {
           "align": "left"
          },
          "hovermode": "closest",
          "mapbox": {
           "style": "dark"
          },
          "paper_bgcolor": "rgb(17,17,17)",
          "plot_bgcolor": "rgb(17,17,17)",
          "polar": {
           "angularaxis": {
            "gridcolor": "#506784",
            "linecolor": "#506784",
            "ticks": ""
           },
           "bgcolor": "rgb(17,17,17)",
           "radialaxis": {
            "gridcolor": "#506784",
            "linecolor": "#506784",
            "ticks": ""
           }
          },
          "scene": {
           "xaxis": {
            "backgroundcolor": "rgb(17,17,17)",
            "gridcolor": "#506784",
            "gridwidth": 2,
            "linecolor": "#506784",
            "showbackground": true,
            "ticks": "",
            "zerolinecolor": "#C8D4E3"
           },
           "yaxis": {
            "backgroundcolor": "rgb(17,17,17)",
            "gridcolor": "#506784",
            "gridwidth": 2,
            "linecolor": "#506784",
            "showbackground": true,
            "ticks": "",
            "zerolinecolor": "#C8D4E3"
           },
           "zaxis": {
            "backgroundcolor": "rgb(17,17,17)",
            "gridcolor": "#506784",
            "gridwidth": 2,
            "linecolor": "#506784",
            "showbackground": true,
            "ticks": "",
            "zerolinecolor": "#C8D4E3"
           }
          },
          "shapedefaults": {
           "line": {
            "color": "#f2f5fa"
           }
          },
          "sliderdefaults": {
           "bgcolor": "#C8D4E3",
           "bordercolor": "rgb(17,17,17)",
           "borderwidth": 1,
           "tickwidth": 0
          },
          "ternary": {
           "aaxis": {
            "gridcolor": "#506784",
            "linecolor": "#506784",
            "ticks": ""
           },
           "baxis": {
            "gridcolor": "#506784",
            "linecolor": "#506784",
            "ticks": ""
           },
           "bgcolor": "rgb(17,17,17)",
           "caxis": {
            "gridcolor": "#506784",
            "linecolor": "#506784",
            "ticks": ""
           }
          },
          "title": {
           "x": 0.05
          },
          "updatemenudefaults": {
           "bgcolor": "#506784",
           "borderwidth": 0
          },
          "xaxis": {
           "automargin": true,
           "gridcolor": "#283442",
           "linecolor": "#506784",
           "ticks": "",
           "title": {
            "standoff": 15
           },
           "zerolinecolor": "#283442",
           "zerolinewidth": 2
          },
          "yaxis": {
           "automargin": true,
           "gridcolor": "#283442",
           "linecolor": "#506784",
           "ticks": "",
           "title": {
            "standoff": 15
           },
           "zerolinecolor": "#283442",
           "zerolinewidth": 2
          }
         }
        },
        "title": {
         "text": "Box plots of Numerical Features"
        },
        "xaxis": {
         "anchor": "y",
         "domain": [
          0,
          0.2125
         ]
        },
        "xaxis2": {
         "anchor": "y2",
         "domain": [
          0.2625,
          0.475
         ]
        },
        "xaxis3": {
         "anchor": "y3",
         "domain": [
          0.525,
          0.7375
         ]
        },
        "xaxis4": {
         "anchor": "y4",
         "domain": [
          0.7875,
          1
         ]
        },
        "yaxis": {
         "anchor": "x",
         "domain": [
          0,
          1
         ]
        },
        "yaxis2": {
         "anchor": "x2",
         "domain": [
          0,
          1
         ]
        },
        "yaxis3": {
         "anchor": "x3",
         "domain": [
          0,
          1
         ]
        },
        "yaxis4": {
         "anchor": "x4",
         "domain": [
          0,
          1
         ]
        }
       }
      }
     },
     "metadata": {},
     "output_type": "display_data"
    }
   ],
   "source": [
    "fig_box = make_subplots(\n",
    "    rows = 1, \n",
    "    cols = num_df.shape[1],\n",
    ").update_layout(\n",
    "    title_text = \"Box plots of Numerical Features\",\n",
    "    showlegend = False,\n",
    "    template = 'plotly_dark'\n",
    ")\n",
    "\n",
    "for i in range(num_df.shape[1]):\n",
    "    fig_box.add_trace(\n",
    "        go.Box(\n",
    "            y = num_df.iloc[:,i],\n",
    "            name = num_df.columns[i],\n",
    "            marker_color = px.colors.qualitative.Safe[i]\n",
    "        ),\n",
    "        row = 1, \n",
    "        col = i+1,\n",
    "    )\n",
    "\n",
    "fig_box.show()"
   ]
  },
  {
   "cell_type": "markdown",
   "id": "0fdb12fc",
   "metadata": {},
   "source": [
    "# Export figures"
   ]
  },
  {
   "cell_type": "code",
   "execution_count": 35,
   "id": "a6c598bb",
   "metadata": {},
   "outputs": [],
   "source": [
    "fig_heatmap.write_image('figures/heatmap_num.png', scale = 2)\n",
    "fig_pairplot.write_image('figures/pairplot_num.png', scale = 2)\n",
    "fig_dist.write_image('figures/distribution_num.png', scale = 2)\n",
    "fig_box.write_image('figures/boxplots_num.png', scale = 2)"
   ]
  }
 ],
 "metadata": {
  "kernelspec": {
   "display_name": "Python 3",
   "language": "python",
   "name": "python3"
  },
  "language_info": {
   "codemirror_mode": {
    "name": "ipython",
    "version": 3
   },
   "file_extension": ".py",
   "mimetype": "text/x-python",
   "name": "python",
   "nbconvert_exporter": "python",
   "pygments_lexer": "ipython3",
   "version": "3.13.3"
  }
 },
 "nbformat": 4,
 "nbformat_minor": 5
}
